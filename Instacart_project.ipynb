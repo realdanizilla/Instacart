{
 "cells": [
  {
   "cell_type": "markdown",
   "id": "1ddf3436",
   "metadata": {},
   "source": [
    "# Step 1 - Data Exploration"
   ]
  },
  {
   "cell_type": "code",
   "execution_count": 1,
   "id": "fbf1adab",
   "metadata": {
    "id": "fbf1adab"
   },
   "outputs": [],
   "source": [
    "# Importing libraries\n",
    "import pandas as pd\n",
    "import numpy as np\n",
    "from matplotlib import pyplot as plt"
   ]
  },
  {
   "cell_type": "code",
   "execution_count": 2,
   "id": "ad36396d",
   "metadata": {
    "id": "ad36396d"
   },
   "outputs": [],
   "source": [
    "# Reading the data\n",
    "\n",
    "df_orders = pd.read_csv(\"/datasets/instacart_orders.csv\", sep=\";\")\n",
    "df_products = pd.read_csv(\"/datasets/products.csv\", sep=\";\")\n",
    "df_order_products = pd.read_csv(\"/datasets/order_products.csv\", sep=\";\")\n",
    "df_aisles = pd.read_csv(\"/datasets/aisles.csv\", sep=\";\")\n",
    "df_departments = pd.read_csv(\"/datasets/departments.csv\", sep=\";\")"
   ]
  },
  {
   "cell_type": "code",
   "execution_count": 3,
   "id": "ad6a1efa",
   "metadata": {
    "id": "ad6a1efa"
   },
   "outputs": [
    {
     "data": {
      "text/html": [
       "<div>\n",
       "<style scoped>\n",
       "    .dataframe tbody tr th:only-of-type {\n",
       "        vertical-align: middle;\n",
       "    }\n",
       "\n",
       "    .dataframe tbody tr th {\n",
       "        vertical-align: top;\n",
       "    }\n",
       "\n",
       "    .dataframe thead th {\n",
       "        text-align: right;\n",
       "    }\n",
       "</style>\n",
       "<table border=\"1\" class=\"dataframe\">\n",
       "  <thead>\n",
       "    <tr style=\"text-align: right;\">\n",
       "      <th></th>\n",
       "      <th>order_id</th>\n",
       "      <th>user_id</th>\n",
       "      <th>order_number</th>\n",
       "      <th>order_dow</th>\n",
       "      <th>order_hour_of_day</th>\n",
       "      <th>days_since_prior_order</th>\n",
       "    </tr>\n",
       "  </thead>\n",
       "  <tbody>\n",
       "    <tr>\n",
       "      <th>0</th>\n",
       "      <td>1515936</td>\n",
       "      <td>183418</td>\n",
       "      <td>11</td>\n",
       "      <td>6</td>\n",
       "      <td>13</td>\n",
       "      <td>30.0</td>\n",
       "    </tr>\n",
       "    <tr>\n",
       "      <th>1</th>\n",
       "      <td>1690866</td>\n",
       "      <td>163593</td>\n",
       "      <td>5</td>\n",
       "      <td>5</td>\n",
       "      <td>12</td>\n",
       "      <td>9.0</td>\n",
       "    </tr>\n",
       "    <tr>\n",
       "      <th>2</th>\n",
       "      <td>1454967</td>\n",
       "      <td>39980</td>\n",
       "      <td>4</td>\n",
       "      <td>5</td>\n",
       "      <td>19</td>\n",
       "      <td>2.0</td>\n",
       "    </tr>\n",
       "    <tr>\n",
       "      <th>3</th>\n",
       "      <td>1768857</td>\n",
       "      <td>82516</td>\n",
       "      <td>56</td>\n",
       "      <td>0</td>\n",
       "      <td>20</td>\n",
       "      <td>10.0</td>\n",
       "    </tr>\n",
       "    <tr>\n",
       "      <th>4</th>\n",
       "      <td>3007858</td>\n",
       "      <td>196724</td>\n",
       "      <td>2</td>\n",
       "      <td>4</td>\n",
       "      <td>12</td>\n",
       "      <td>17.0</td>\n",
       "    </tr>\n",
       "  </tbody>\n",
       "</table>\n",
       "</div>"
      ],
      "text/plain": [
       "   order_id  user_id  order_number  order_dow  order_hour_of_day  \\\n",
       "0   1515936   183418            11          6                 13   \n",
       "1   1690866   163593             5          5                 12   \n",
       "2   1454967    39980             4          5                 19   \n",
       "3   1768857    82516            56          0                 20   \n",
       "4   3007858   196724             2          4                 12   \n",
       "\n",
       "   days_since_prior_order  \n",
       "0                    30.0  \n",
       "1                     9.0  \n",
       "2                     2.0  \n",
       "3                    10.0  \n",
       "4                    17.0  "
      ]
     },
     "metadata": {},
     "output_type": "display_data"
    },
    {
     "name": "stdout",
     "output_type": "stream",
     "text": [
      "\n",
      "<class 'pandas.core.frame.DataFrame'>\n",
      "RangeIndex: 478967 entries, 0 to 478966\n",
      "Data columns (total 6 columns):\n",
      " #   Column                  Non-Null Count   Dtype  \n",
      "---  ------                  --------------   -----  \n",
      " 0   order_id                478967 non-null  int64  \n",
      " 1   user_id                 478967 non-null  int64  \n",
      " 2   order_number            478967 non-null  int64  \n",
      " 3   order_dow               478967 non-null  int64  \n",
      " 4   order_hour_of_day       478967 non-null  int64  \n",
      " 5   days_since_prior_order  450148 non-null  float64\n",
      "dtypes: float64(1), int64(5)\n",
      "memory usage: 21.9 MB\n",
      "\n",
      "order_id                  15\n",
      "user_id                   15\n",
      "order_number              15\n",
      "order_dow                 15\n",
      "order_hour_of_day         15\n",
      "days_since_prior_order    13\n",
      "dtype: int64\n",
      "\n",
      "28819\n",
      "\n",
      "\n"
     ]
    },
    {
     "data": {
      "text/html": [
       "<div>\n",
       "<style scoped>\n",
       "    .dataframe tbody tr th:only-of-type {\n",
       "        vertical-align: middle;\n",
       "    }\n",
       "\n",
       "    .dataframe tbody tr th {\n",
       "        vertical-align: top;\n",
       "    }\n",
       "\n",
       "    .dataframe thead th {\n",
       "        text-align: right;\n",
       "    }\n",
       "</style>\n",
       "<table border=\"1\" class=\"dataframe\">\n",
       "  <thead>\n",
       "    <tr style=\"text-align: right;\">\n",
       "      <th></th>\n",
       "      <th>order_id</th>\n",
       "      <th>user_id</th>\n",
       "      <th>order_number</th>\n",
       "      <th>order_dow</th>\n",
       "      <th>order_hour_of_day</th>\n",
       "      <th>days_since_prior_order</th>\n",
       "    </tr>\n",
       "  </thead>\n",
       "  <tbody>\n",
       "    <tr>\n",
       "      <th>count</th>\n",
       "      <td>4.789670e+05</td>\n",
       "      <td>478967.000000</td>\n",
       "      <td>478967.000000</td>\n",
       "      <td>478967.000000</td>\n",
       "      <td>478967.000000</td>\n",
       "      <td>450148.000000</td>\n",
       "    </tr>\n",
       "    <tr>\n",
       "      <th>mean</th>\n",
       "      <td>1.709947e+06</td>\n",
       "      <td>102966.537475</td>\n",
       "      <td>17.157808</td>\n",
       "      <td>2.775058</td>\n",
       "      <td>13.446676</td>\n",
       "      <td>11.101751</td>\n",
       "    </tr>\n",
       "    <tr>\n",
       "      <th>std</th>\n",
       "      <td>9.869480e+05</td>\n",
       "      <td>59525.328991</td>\n",
       "      <td>17.704688</td>\n",
       "      <td>2.045869</td>\n",
       "      <td>4.224986</td>\n",
       "      <td>9.189975</td>\n",
       "    </tr>\n",
       "    <tr>\n",
       "      <th>min</th>\n",
       "      <td>4.000000e+00</td>\n",
       "      <td>2.000000</td>\n",
       "      <td>1.000000</td>\n",
       "      <td>0.000000</td>\n",
       "      <td>0.000000</td>\n",
       "      <td>0.000000</td>\n",
       "    </tr>\n",
       "    <tr>\n",
       "      <th>25%</th>\n",
       "      <td>8.564685e+05</td>\n",
       "      <td>51414.000000</td>\n",
       "      <td>5.000000</td>\n",
       "      <td>1.000000</td>\n",
       "      <td>10.000000</td>\n",
       "      <td>4.000000</td>\n",
       "    </tr>\n",
       "    <tr>\n",
       "      <th>50%</th>\n",
       "      <td>1.709522e+06</td>\n",
       "      <td>102633.000000</td>\n",
       "      <td>11.000000</td>\n",
       "      <td>3.000000</td>\n",
       "      <td>13.000000</td>\n",
       "      <td>7.000000</td>\n",
       "    </tr>\n",
       "    <tr>\n",
       "      <th>75%</th>\n",
       "      <td>2.562990e+06</td>\n",
       "      <td>154419.000000</td>\n",
       "      <td>23.000000</td>\n",
       "      <td>5.000000</td>\n",
       "      <td>16.000000</td>\n",
       "      <td>15.000000</td>\n",
       "    </tr>\n",
       "    <tr>\n",
       "      <th>max</th>\n",
       "      <td>3.421079e+06</td>\n",
       "      <td>206209.000000</td>\n",
       "      <td>100.000000</td>\n",
       "      <td>6.000000</td>\n",
       "      <td>23.000000</td>\n",
       "      <td>30.000000</td>\n",
       "    </tr>\n",
       "  </tbody>\n",
       "</table>\n",
       "</div>"
      ],
      "text/plain": [
       "           order_id        user_id   order_number      order_dow  \\\n",
       "count  4.789670e+05  478967.000000  478967.000000  478967.000000   \n",
       "mean   1.709947e+06  102966.537475      17.157808       2.775058   \n",
       "std    9.869480e+05   59525.328991      17.704688       2.045869   \n",
       "min    4.000000e+00       2.000000       1.000000       0.000000   \n",
       "25%    8.564685e+05   51414.000000       5.000000       1.000000   \n",
       "50%    1.709522e+06  102633.000000      11.000000       3.000000   \n",
       "75%    2.562990e+06  154419.000000      23.000000       5.000000   \n",
       "max    3.421079e+06  206209.000000     100.000000       6.000000   \n",
       "\n",
       "       order_hour_of_day  days_since_prior_order  \n",
       "count      478967.000000           450148.000000  \n",
       "mean           13.446676               11.101751  \n",
       "std             4.224986                9.189975  \n",
       "min             0.000000                0.000000  \n",
       "25%            10.000000                4.000000  \n",
       "50%            13.000000                7.000000  \n",
       "75%            16.000000               15.000000  \n",
       "max            23.000000               30.000000  "
      ]
     },
     "execution_count": 3,
     "metadata": {},
     "output_type": "execute_result"
    }
   ],
   "source": [
    "# Checking structure of DataFrame \"Instacart_Orders\"\n",
    "display(df_orders.head())\n",
    "print()\n",
    "df_orders.info()\n",
    "print()\n",
    "print(df_orders[df_orders.duplicated()].count())\n",
    "print()\n",
    "print(df_orders[\"days_since_prior_order\"].isna().sum())\n",
    "print()\n",
    "df_orders[\"days_since_prior_order\"].value_counts().sort_index()\n",
    "print()\n",
    "df_orders.describe()\n"
   ]
  },
  {
   "cell_type": "code",
   "execution_count": 4,
   "id": "5130e05e",
   "metadata": {
    "id": "5130e05e"
   },
   "outputs": [
    {
     "data": {
      "text/html": [
       "<div>\n",
       "<style scoped>\n",
       "    .dataframe tbody tr th:only-of-type {\n",
       "        vertical-align: middle;\n",
       "    }\n",
       "\n",
       "    .dataframe tbody tr th {\n",
       "        vertical-align: top;\n",
       "    }\n",
       "\n",
       "    .dataframe thead th {\n",
       "        text-align: right;\n",
       "    }\n",
       "</style>\n",
       "<table border=\"1\" class=\"dataframe\">\n",
       "  <thead>\n",
       "    <tr style=\"text-align: right;\">\n",
       "      <th></th>\n",
       "      <th>product_id</th>\n",
       "      <th>product_name</th>\n",
       "      <th>aisle_id</th>\n",
       "      <th>department_id</th>\n",
       "    </tr>\n",
       "  </thead>\n",
       "  <tbody>\n",
       "    <tr>\n",
       "      <th>0</th>\n",
       "      <td>1</td>\n",
       "      <td>Chocolate Sandwich Cookies</td>\n",
       "      <td>61</td>\n",
       "      <td>19</td>\n",
       "    </tr>\n",
       "    <tr>\n",
       "      <th>1</th>\n",
       "      <td>2</td>\n",
       "      <td>All-Seasons Salt</td>\n",
       "      <td>104</td>\n",
       "      <td>13</td>\n",
       "    </tr>\n",
       "    <tr>\n",
       "      <th>2</th>\n",
       "      <td>3</td>\n",
       "      <td>Robust Golden Unsweetened Oolong Tea</td>\n",
       "      <td>94</td>\n",
       "      <td>7</td>\n",
       "    </tr>\n",
       "    <tr>\n",
       "      <th>3</th>\n",
       "      <td>4</td>\n",
       "      <td>Smart Ones Classic Favorites Mini Rigatoni Wit...</td>\n",
       "      <td>38</td>\n",
       "      <td>1</td>\n",
       "    </tr>\n",
       "    <tr>\n",
       "      <th>4</th>\n",
       "      <td>5</td>\n",
       "      <td>Green Chile Anytime Sauce</td>\n",
       "      <td>5</td>\n",
       "      <td>13</td>\n",
       "    </tr>\n",
       "  </tbody>\n",
       "</table>\n",
       "</div>"
      ],
      "text/plain": [
       "   product_id                                       product_name  aisle_id  \\\n",
       "0           1                         Chocolate Sandwich Cookies        61   \n",
       "1           2                                   All-Seasons Salt       104   \n",
       "2           3               Robust Golden Unsweetened Oolong Tea        94   \n",
       "3           4  Smart Ones Classic Favorites Mini Rigatoni Wit...        38   \n",
       "4           5                          Green Chile Anytime Sauce         5   \n",
       "\n",
       "   department_id  \n",
       "0             19  \n",
       "1             13  \n",
       "2              7  \n",
       "3              1  \n",
       "4             13  "
      ]
     },
     "metadata": {},
     "output_type": "display_data"
    },
    {
     "name": "stdout",
     "output_type": "stream",
     "text": [
      "\n",
      "<class 'pandas.core.frame.DataFrame'>\n",
      "RangeIndex: 49694 entries, 0 to 49693\n",
      "Data columns (total 4 columns):\n",
      " #   Column         Non-Null Count  Dtype \n",
      "---  ------         --------------  ----- \n",
      " 0   product_id     49694 non-null  int64 \n",
      " 1   product_name   48436 non-null  object\n",
      " 2   aisle_id       49694 non-null  int64 \n",
      " 3   department_id  49694 non-null  int64 \n",
      "dtypes: int64(3), object(1)\n",
      "memory usage: 1.5+ MB\n",
      "\n",
      "1258\n",
      "\n",
      "product_id       0\n",
      "product_name     0\n",
      "aisle_id         0\n",
      "department_id    0\n",
      "dtype: int64\n",
      "\n"
     ]
    },
    {
     "data": {
      "text/plain": [
       "#2 Coffee Filters                                                  1\n",
       "#2 Cone White Coffee Filters                                       1\n",
       "#2 Mechanical Pencils                                              1\n",
       "#4 Natural Brown Coffee Filters                                    1\n",
       "& Go! Hazelnut Spread + Pretzel Sticks                             1\n",
       "                                                                  ..\n",
       "with Xylitol Unwrapped Original Flavor 50 Sticks Sugar Free Gum    1\n",
       "with Xylitol Unwrapped Spearmint 50 Sticks Sugar Free Gum          1\n",
       "with Xylitol Watermelon Twist 18 Sticks Sugar Free Gum             1\n",
       "with a Splash of Mango Coconut Water                               1\n",
       "with a Splash of Pineapple Coconut Water                           1\n",
       "Name: product_name, Length: 48436, dtype: int64"
      ]
     },
     "execution_count": 4,
     "metadata": {},
     "output_type": "execute_result"
    }
   ],
   "source": [
    "#  Checking structure of DataFrame \"Products\"\n",
    "display(df_products.head())\n",
    "print()\n",
    "df_products.info()\n",
    "print()\n",
    "print(df_products[\"product_name\"].isna().sum())\n",
    "print()\n",
    "print(df_products[df_products.duplicated()].count())\n",
    "print()\n",
    "df_products[\"product_name\"].value_counts().sort_index()\n"
   ]
  },
  {
   "cell_type": "code",
   "execution_count": 5,
   "id": "d8370c05",
   "metadata": {
    "id": "d8370c05"
   },
   "outputs": [
    {
     "data": {
      "text/html": [
       "<div>\n",
       "<style scoped>\n",
       "    .dataframe tbody tr th:only-of-type {\n",
       "        vertical-align: middle;\n",
       "    }\n",
       "\n",
       "    .dataframe tbody tr th {\n",
       "        vertical-align: top;\n",
       "    }\n",
       "\n",
       "    .dataframe thead th {\n",
       "        text-align: right;\n",
       "    }\n",
       "</style>\n",
       "<table border=\"1\" class=\"dataframe\">\n",
       "  <thead>\n",
       "    <tr style=\"text-align: right;\">\n",
       "      <th></th>\n",
       "      <th>order_id</th>\n",
       "      <th>product_id</th>\n",
       "      <th>add_to_cart_order</th>\n",
       "      <th>reordered</th>\n",
       "    </tr>\n",
       "  </thead>\n",
       "  <tbody>\n",
       "    <tr>\n",
       "      <th>0</th>\n",
       "      <td>2141543</td>\n",
       "      <td>11440</td>\n",
       "      <td>17.0</td>\n",
       "      <td>0</td>\n",
       "    </tr>\n",
       "    <tr>\n",
       "      <th>1</th>\n",
       "      <td>567889</td>\n",
       "      <td>1560</td>\n",
       "      <td>1.0</td>\n",
       "      <td>1</td>\n",
       "    </tr>\n",
       "    <tr>\n",
       "      <th>2</th>\n",
       "      <td>2261212</td>\n",
       "      <td>26683</td>\n",
       "      <td>1.0</td>\n",
       "      <td>1</td>\n",
       "    </tr>\n",
       "    <tr>\n",
       "      <th>3</th>\n",
       "      <td>491251</td>\n",
       "      <td>8670</td>\n",
       "      <td>35.0</td>\n",
       "      <td>1</td>\n",
       "    </tr>\n",
       "    <tr>\n",
       "      <th>4</th>\n",
       "      <td>2571142</td>\n",
       "      <td>1940</td>\n",
       "      <td>5.0</td>\n",
       "      <td>1</td>\n",
       "    </tr>\n",
       "  </tbody>\n",
       "</table>\n",
       "</div>"
      ],
      "text/plain": [
       "   order_id  product_id  add_to_cart_order  reordered\n",
       "0   2141543       11440               17.0          0\n",
       "1    567889        1560                1.0          1\n",
       "2   2261212       26683                1.0          1\n",
       "3    491251        8670               35.0          1\n",
       "4   2571142        1940                5.0          1"
      ]
     },
     "metadata": {},
     "output_type": "display_data"
    },
    {
     "name": "stdout",
     "output_type": "stream",
     "text": [
      "\n",
      "<class 'pandas.core.frame.DataFrame'>\n",
      "RangeIndex: 4545007 entries, 0 to 4545006\n",
      "Data columns (total 4 columns):\n",
      " #   Column             Non-Null Count    Dtype  \n",
      "---  ------             --------------    -----  \n",
      " 0   order_id           4545007 non-null  int64  \n",
      " 1   product_id         4545007 non-null  int64  \n",
      " 2   add_to_cart_order  4544171 non-null  float64\n",
      " 3   reordered          4545007 non-null  int64  \n",
      "dtypes: float64(1), int64(3)\n",
      "memory usage: 138.7 MB\n",
      "\n",
      "order_id             0.0\n",
      "product_id           0.0\n",
      "add_to_cart_order    0.0\n",
      "reordered            0.0\n",
      "dtype: float64\n",
      "\n",
      "order_id  product_id  add_to_cart_order  reordered\n",
      "4         10054       5.0                1            1\n",
      "2277733   35233       5.0                1            1\n",
      "2277734   15233       4.0                1            1\n",
      "          11471       2.0                1            1\n",
      "          6374        3.0                1            1\n",
      "                                                     ..\n",
      "1145037   26790       21.0               1            1\n",
      "          27767       10.0               1            1\n",
      "          32086       16.0               0            1\n",
      "          33572       5.0                1            1\n",
      "3421079   30136       1.0                0            1\n",
      "Length: 4544171, dtype: int64\n",
      "\n",
      "order_id               0\n",
      "product_id             0\n",
      "add_to_cart_order    836\n",
      "reordered              0\n",
      "dtype: int64\n",
      "\n"
     ]
    },
    {
     "data": {
      "text/html": [
       "<div>\n",
       "<style scoped>\n",
       "    .dataframe tbody tr th:only-of-type {\n",
       "        vertical-align: middle;\n",
       "    }\n",
       "\n",
       "    .dataframe tbody tr th {\n",
       "        vertical-align: top;\n",
       "    }\n",
       "\n",
       "    .dataframe thead th {\n",
       "        text-align: right;\n",
       "    }\n",
       "</style>\n",
       "<table border=\"1\" class=\"dataframe\">\n",
       "  <thead>\n",
       "    <tr style=\"text-align: right;\">\n",
       "      <th></th>\n",
       "      <th>order_id</th>\n",
       "      <th>product_id</th>\n",
       "      <th>add_to_cart_order</th>\n",
       "      <th>reordered</th>\n",
       "    </tr>\n",
       "  </thead>\n",
       "  <tbody>\n",
       "    <tr>\n",
       "      <th>count</th>\n",
       "      <td>4.545007e+06</td>\n",
       "      <td>4.545007e+06</td>\n",
       "      <td>4.544171e+06</td>\n",
       "      <td>4.545007e+06</td>\n",
       "    </tr>\n",
       "    <tr>\n",
       "      <th>mean</th>\n",
       "      <td>1.711166e+06</td>\n",
       "      <td>2.558084e+04</td>\n",
       "      <td>8.351669e+00</td>\n",
       "      <td>5.905025e-01</td>\n",
       "    </tr>\n",
       "    <tr>\n",
       "      <th>std</th>\n",
       "      <td>9.850955e+05</td>\n",
       "      <td>1.409552e+04</td>\n",
       "      <td>7.080368e+00</td>\n",
       "      <td>4.917411e-01</td>\n",
       "    </tr>\n",
       "    <tr>\n",
       "      <th>min</th>\n",
       "      <td>4.000000e+00</td>\n",
       "      <td>1.000000e+00</td>\n",
       "      <td>1.000000e+00</td>\n",
       "      <td>0.000000e+00</td>\n",
       "    </tr>\n",
       "    <tr>\n",
       "      <th>25%</th>\n",
       "      <td>8.608170e+05</td>\n",
       "      <td>1.353500e+04</td>\n",
       "      <td>3.000000e+00</td>\n",
       "      <td>0.000000e+00</td>\n",
       "    </tr>\n",
       "    <tr>\n",
       "      <th>50%</th>\n",
       "      <td>1.711530e+06</td>\n",
       "      <td>2.527200e+04</td>\n",
       "      <td>6.000000e+00</td>\n",
       "      <td>1.000000e+00</td>\n",
       "    </tr>\n",
       "    <tr>\n",
       "      <th>75%</th>\n",
       "      <td>2.561311e+06</td>\n",
       "      <td>3.793500e+04</td>\n",
       "      <td>1.100000e+01</td>\n",
       "      <td>1.000000e+00</td>\n",
       "    </tr>\n",
       "    <tr>\n",
       "      <th>max</th>\n",
       "      <td>3.421079e+06</td>\n",
       "      <td>4.969400e+04</td>\n",
       "      <td>6.400000e+01</td>\n",
       "      <td>1.000000e+00</td>\n",
       "    </tr>\n",
       "  </tbody>\n",
       "</table>\n",
       "</div>"
      ],
      "text/plain": [
       "           order_id    product_id  add_to_cart_order     reordered\n",
       "count  4.545007e+06  4.545007e+06       4.544171e+06  4.545007e+06\n",
       "mean   1.711166e+06  2.558084e+04       8.351669e+00  5.905025e-01\n",
       "std    9.850955e+05  1.409552e+04       7.080368e+00  4.917411e-01\n",
       "min    4.000000e+00  1.000000e+00       1.000000e+00  0.000000e+00\n",
       "25%    8.608170e+05  1.353500e+04       3.000000e+00  0.000000e+00\n",
       "50%    1.711530e+06  2.527200e+04       6.000000e+00  1.000000e+00\n",
       "75%    2.561311e+06  3.793500e+04       1.100000e+01  1.000000e+00\n",
       "max    3.421079e+06  4.969400e+04       6.400000e+01  1.000000e+00"
      ]
     },
     "execution_count": 5,
     "metadata": {},
     "output_type": "execute_result"
    }
   ],
   "source": [
    "#  Checking structure of DataFrame \"Order_products\"\n",
    "display(df_order_products.head())\n",
    "print()\n",
    "df_order_products.info(show_counts=True)\n",
    "print()\n",
    "print(df_order_products[df_order_products.duplicated()].sum())\n",
    "print()\n",
    "print(df_order_products.value_counts())\n",
    "print()\n",
    "print(df_order_products.isna().sum())\n",
    "print()\n",
    "df_order_products.describe()\n"
   ]
  },
  {
   "cell_type": "code",
   "execution_count": 6,
   "id": "59e2090f",
   "metadata": {
    "id": "59e2090f"
   },
   "outputs": [
    {
     "data": {
      "text/html": [
       "<div>\n",
       "<style scoped>\n",
       "    .dataframe tbody tr th:only-of-type {\n",
       "        vertical-align: middle;\n",
       "    }\n",
       "\n",
       "    .dataframe tbody tr th {\n",
       "        vertical-align: top;\n",
       "    }\n",
       "\n",
       "    .dataframe thead th {\n",
       "        text-align: right;\n",
       "    }\n",
       "</style>\n",
       "<table border=\"1\" class=\"dataframe\">\n",
       "  <thead>\n",
       "    <tr style=\"text-align: right;\">\n",
       "      <th></th>\n",
       "      <th>aisle_id</th>\n",
       "      <th>aisle</th>\n",
       "    </tr>\n",
       "  </thead>\n",
       "  <tbody>\n",
       "    <tr>\n",
       "      <th>0</th>\n",
       "      <td>1</td>\n",
       "      <td>prepared soups salads</td>\n",
       "    </tr>\n",
       "    <tr>\n",
       "      <th>1</th>\n",
       "      <td>2</td>\n",
       "      <td>specialty cheeses</td>\n",
       "    </tr>\n",
       "    <tr>\n",
       "      <th>2</th>\n",
       "      <td>3</td>\n",
       "      <td>energy granola bars</td>\n",
       "    </tr>\n",
       "    <tr>\n",
       "      <th>3</th>\n",
       "      <td>4</td>\n",
       "      <td>instant foods</td>\n",
       "    </tr>\n",
       "    <tr>\n",
       "      <th>4</th>\n",
       "      <td>5</td>\n",
       "      <td>marinades meat preparation</td>\n",
       "    </tr>\n",
       "  </tbody>\n",
       "</table>\n",
       "</div>"
      ],
      "text/plain": [
       "   aisle_id                       aisle\n",
       "0         1       prepared soups salads\n",
       "1         2           specialty cheeses\n",
       "2         3         energy granola bars\n",
       "3         4               instant foods\n",
       "4         5  marinades meat preparation"
      ]
     },
     "metadata": {},
     "output_type": "display_data"
    },
    {
     "name": "stdout",
     "output_type": "stream",
     "text": [
      "\n",
      "<class 'pandas.core.frame.DataFrame'>\n",
      "RangeIndex: 134 entries, 0 to 133\n",
      "Data columns (total 2 columns):\n",
      " #   Column    Non-Null Count  Dtype \n",
      "---  ------    --------------  ----- \n",
      " 0   aisle_id  134 non-null    int64 \n",
      " 1   aisle     134 non-null    object\n",
      "dtypes: int64(1), object(1)\n",
      "memory usage: 2.2+ KB\n",
      "\n",
      "aisle_id    0.0\n",
      "aisle       0.0\n",
      "dtype: float64\n",
      "\n",
      "aisle_id  aisle                     \n",
      "1         prepared soups salads         1\n",
      "85        food storage                  1\n",
      "99        canned fruit applesauce       1\n",
      "98        juice nectars                 1\n",
      "97        baking supplies decor         1\n",
      "                                       ..\n",
      "40        dog food care                 1\n",
      "39        seafood counter               1\n",
      "38        frozen meals                  1\n",
      "37        ice cream ice                 1\n",
      "134       specialty wines champagnes    1\n",
      "Length: 134, dtype: int64\n",
      "\n",
      "aisle_id    0\n",
      "aisle       0\n",
      "dtype: int64\n"
     ]
    }
   ],
   "source": [
    "#  Checking structure of DataFrame \"Aisles\"\n",
    "display(df_aisles.head())\n",
    "print()\n",
    "df_aisles.info()\n",
    "print()\n",
    "print(df_aisles[df_aisles.duplicated()].sum())\n",
    "print()\n",
    "print(df_aisles.value_counts())\n",
    "print()\n",
    "print(df_aisles.isna().sum())\n"
   ]
  },
  {
   "cell_type": "code",
   "execution_count": 7,
   "id": "6fc81694",
   "metadata": {
    "id": "6fc81694"
   },
   "outputs": [
    {
     "data": {
      "text/html": [
       "<div>\n",
       "<style scoped>\n",
       "    .dataframe tbody tr th:only-of-type {\n",
       "        vertical-align: middle;\n",
       "    }\n",
       "\n",
       "    .dataframe tbody tr th {\n",
       "        vertical-align: top;\n",
       "    }\n",
       "\n",
       "    .dataframe thead th {\n",
       "        text-align: right;\n",
       "    }\n",
       "</style>\n",
       "<table border=\"1\" class=\"dataframe\">\n",
       "  <thead>\n",
       "    <tr style=\"text-align: right;\">\n",
       "      <th></th>\n",
       "      <th>department_id</th>\n",
       "      <th>department</th>\n",
       "    </tr>\n",
       "  </thead>\n",
       "  <tbody>\n",
       "    <tr>\n",
       "      <th>0</th>\n",
       "      <td>1</td>\n",
       "      <td>frozen</td>\n",
       "    </tr>\n",
       "    <tr>\n",
       "      <th>1</th>\n",
       "      <td>2</td>\n",
       "      <td>other</td>\n",
       "    </tr>\n",
       "    <tr>\n",
       "      <th>2</th>\n",
       "      <td>3</td>\n",
       "      <td>bakery</td>\n",
       "    </tr>\n",
       "    <tr>\n",
       "      <th>3</th>\n",
       "      <td>4</td>\n",
       "      <td>produce</td>\n",
       "    </tr>\n",
       "    <tr>\n",
       "      <th>4</th>\n",
       "      <td>5</td>\n",
       "      <td>alcohol</td>\n",
       "    </tr>\n",
       "  </tbody>\n",
       "</table>\n",
       "</div>"
      ],
      "text/plain": [
       "   department_id department\n",
       "0              1     frozen\n",
       "1              2      other\n",
       "2              3     bakery\n",
       "3              4    produce\n",
       "4              5    alcohol"
      ]
     },
     "metadata": {},
     "output_type": "display_data"
    },
    {
     "name": "stdout",
     "output_type": "stream",
     "text": [
      "\n",
      "<class 'pandas.core.frame.DataFrame'>\n",
      "RangeIndex: 21 entries, 0 to 20\n",
      "Data columns (total 2 columns):\n",
      " #   Column         Non-Null Count  Dtype \n",
      "---  ------         --------------  ----- \n",
      " 0   department_id  21 non-null     int64 \n",
      " 1   department     21 non-null     object\n",
      "dtypes: int64(1), object(1)\n",
      "memory usage: 464.0+ bytes\n",
      "\n",
      "department_id    0\n",
      "department       0\n",
      "dtype: int64\n",
      "\n",
      "department_id  department     \n",
      "1              frozen             1\n",
      "2              other              1\n",
      "3              bakery             1\n",
      "4              produce            1\n",
      "5              alcohol            1\n",
      "6              international      1\n",
      "7              beverages          1\n",
      "8              pets               1\n",
      "9              dry goods pasta    1\n",
      "10             bulk               1\n",
      "11             personal care      1\n",
      "12             meat seafood       1\n",
      "13             pantry             1\n",
      "14             breakfast          1\n",
      "15             canned goods       1\n",
      "16             dairy eggs         1\n",
      "17             household          1\n",
      "18             babies             1\n",
      "19             snacks             1\n",
      "20             deli               1\n",
      "21             missing            1\n",
      "dtype: int64\n",
      "\n",
      "department_id    0\n",
      "department       0\n",
      "dtype: int64\n"
     ]
    }
   ],
   "source": [
    "#  Checking structure of DataFrame \"Departments\"\n",
    "display(df_departments.head())\n",
    "print()\n",
    "df_departments.info()\n",
    "print()\n",
    "print(df_departments[df_departments.duplicated()].count())\n",
    "print()\n",
    "print(df_departments.value_counts().sort_index())\n",
    "print()\n",
    "print(df_departments.isna().sum())\n"
   ]
  },
  {
   "cell_type": "markdown",
   "id": "t75BD19oaR5f",
   "metadata": {
    "id": "t75BD19oaR5f"
   },
   "source": [
    "## Conclusions\n",
    "\n",
    "In the `instacart_orders` dataframe, we see that all data types are `int`, except for \"days_since_prior_order,\" which is of type `float` and could be converted to `int`. There are 478,967 records in this dataset with 6 columns. The \"days_since_prior_order\" field has several zeros; however, this does not seem to be the same as a null value, as the customer could have placed an order today, making the days since the last order zero, which is a valid value. This dataset has 28,819 blank records in the \"days_since_prior_order\" column. There were 15 duplicate records identified in this dataset.\n",
    "\n",
    "In the `products` dataframe, all data types are `int`, except for \"product_name,\" which is of type `object` (string), which seems correct. There are 49,694 records in this dataset with 4 columns. This dataset has 1,258 null values in the \"product_name\" column. No duplicate records were found.\n",
    "\n",
    "In the `order_products` dataframe, all data types are `int`, except for \"add_to_cart_order,\" which is of type `float`. This seems strange since quantities are usually integers; it may be necessary to convert this to type `int`. There are 4,545,007 records in this dataset with 4 columns. This dataset has 836 blank records in the \"add_to_cart_order\" column. No duplicate records were found.\n",
    "\n",
    "In the `aisles` dataframe, we have `int` data types for \"aisle_id\" and `object` (string) for \"aisle,\" which makes sense. There are 134 records in this dataset with 2 columns. This dataset is complete, with no null or duplicate data.\n",
    "\n",
    "In the `departments` dataframe, we have `int` data types for \"department_id\" and `object` (string) for \"department,\" which makes sense. There are 21 records in this dataset with 2 columns. This dataset is complete, with no null or duplicate data.\n"
   ]
  },
  {
   "cell_type": "markdown",
   "id": "8RJHqxVmaVsF",
   "metadata": {
    "id": "8RJHqxVmaVsF"
   },
   "source": [
    "# Step 2. Data Preparation / Pre Processing"
   ]
  },
  {
   "cell_type": "markdown",
   "id": "p6poABZQaZYb",
   "metadata": {
    "id": "p6poABZQaZYb"
   },
   "source": [
    "## Plan of approach\n",
    "\n",
    "As we have already verified the data types in all datasets, now, for each dataset, we will convert the data types that need conversion, remove duplicates, and fill empty values to prepare them for further analysis."
   ]
  },
  {
   "cell_type": "markdown",
   "id": "f179f0a9",
   "metadata": {
    "id": "f179f0a9"
   },
   "source": [
    "### DataFrame `instacart_orders`"
   ]
  },
  {
   "cell_type": "code",
   "execution_count": 8,
   "id": "b99297a5-405a-463d-8535-9adc3da4ad74",
   "metadata": {
    "id": "b99297a5-405a-463d-8535-9adc3da4ad74"
   },
   "outputs": [
    {
     "name": "stdout",
     "output_type": "stream",
     "text": [
      "order_id                  22748225.0\n",
      "user_id                    1488252.0\n",
      "order_number                   375.0\n",
      "order_dow                       45.0\n",
      "order_hour_of_day               30.0\n",
      "days_since_prior_order         116.0\n",
      "dtype: float64\n",
      "\n",
      "2125197    2\n",
      "1782114    2\n",
      "1286742    2\n",
      "391768     2\n",
      "1021560    2\n",
      "          ..\n",
      "1273706    1\n",
      "689148     1\n",
      "1752059    1\n",
      "2794488    1\n",
      "2047       1\n",
      "Name: order_id, Length: 478952, dtype: int64\n"
     ]
    }
   ],
   "source": [
    "# Checking for doubled orders\n",
    "print(df_orders[df_orders.duplicated()].sum())\n",
    "print()\n",
    "print(df_orders[\"order_id\"].value_counts())"
   ]
  },
  {
   "cell_type": "markdown",
   "id": "PEkwUX_gvt5A",
   "metadata": {
    "id": "PEkwUX_gvt5A"
   },
   "source": [
    "Conclusion: we found 15 orders that share the same \"order_id.\" Interestingly, each duplication occurred only once, meaning there are 2 records when we should only have 1."
   ]
  },
  {
   "cell_type": "code",
   "execution_count": 9,
   "id": "0d44de5d",
   "metadata": {
    "id": "0d44de5d"
   },
   "outputs": [
    {
     "name": "stdout",
     "output_type": "stream",
     "text": [
      "<class 'pandas.core.frame.DataFrame'>\n",
      "Int64Index: 121 entries, 4838 to 477526\n",
      "Data columns (total 6 columns):\n",
      " #   Column                  Non-Null Count  Dtype  \n",
      "---  ------                  --------------  -----  \n",
      " 0   order_id                121 non-null    int64  \n",
      " 1   user_id                 121 non-null    int64  \n",
      " 2   order_number            121 non-null    int64  \n",
      " 3   order_dow               121 non-null    int64  \n",
      " 4   order_hour_of_day       121 non-null    int64  \n",
      " 5   days_since_prior_order  114 non-null    float64\n",
      "dtypes: float64(1), int64(5)\n",
      "memory usage: 6.6 KB\n"
     ]
    },
    {
     "data": {
      "text/plain": [
       "None"
      ]
     },
     "metadata": {},
     "output_type": "display_data"
    },
    {
     "data": {
      "text/html": [
       "<div>\n",
       "<style scoped>\n",
       "    .dataframe tbody tr th:only-of-type {\n",
       "        vertical-align: middle;\n",
       "    }\n",
       "\n",
       "    .dataframe tbody tr th {\n",
       "        vertical-align: top;\n",
       "    }\n",
       "\n",
       "    .dataframe thead th {\n",
       "        text-align: right;\n",
       "    }\n",
       "</style>\n",
       "<table border=\"1\" class=\"dataframe\">\n",
       "  <thead>\n",
       "    <tr style=\"text-align: right;\">\n",
       "      <th></th>\n",
       "      <th>order_id</th>\n",
       "      <th>user_id</th>\n",
       "      <th>order_number</th>\n",
       "      <th>order_dow</th>\n",
       "      <th>order_hour_of_day</th>\n",
       "      <th>days_since_prior_order</th>\n",
       "    </tr>\n",
       "  </thead>\n",
       "  <tbody>\n",
       "    <tr>\n",
       "      <th>4838</th>\n",
       "      <td>2766110</td>\n",
       "      <td>162084</td>\n",
       "      <td>41</td>\n",
       "      <td>3</td>\n",
       "      <td>2</td>\n",
       "      <td>16.0</td>\n",
       "    </tr>\n",
       "    <tr>\n",
       "      <th>5156</th>\n",
       "      <td>2190225</td>\n",
       "      <td>138285</td>\n",
       "      <td>18</td>\n",
       "      <td>3</td>\n",
       "      <td>2</td>\n",
       "      <td>11.0</td>\n",
       "    </tr>\n",
       "    <tr>\n",
       "      <th>15506</th>\n",
       "      <td>553049</td>\n",
       "      <td>58599</td>\n",
       "      <td>13</td>\n",
       "      <td>3</td>\n",
       "      <td>2</td>\n",
       "      <td>7.0</td>\n",
       "    </tr>\n",
       "    <tr>\n",
       "      <th>18420</th>\n",
       "      <td>382357</td>\n",
       "      <td>120200</td>\n",
       "      <td>19</td>\n",
       "      <td>3</td>\n",
       "      <td>2</td>\n",
       "      <td>11.0</td>\n",
       "    </tr>\n",
       "    <tr>\n",
       "      <th>24691</th>\n",
       "      <td>690242</td>\n",
       "      <td>77357</td>\n",
       "      <td>2</td>\n",
       "      <td>3</td>\n",
       "      <td>2</td>\n",
       "      <td>9.0</td>\n",
       "    </tr>\n",
       "    <tr>\n",
       "      <th>...</th>\n",
       "      <td>...</td>\n",
       "      <td>...</td>\n",
       "      <td>...</td>\n",
       "      <td>...</td>\n",
       "      <td>...</td>\n",
       "      <td>...</td>\n",
       "    </tr>\n",
       "    <tr>\n",
       "      <th>400167</th>\n",
       "      <td>774488</td>\n",
       "      <td>66195</td>\n",
       "      <td>16</td>\n",
       "      <td>3</td>\n",
       "      <td>2</td>\n",
       "      <td>2.0</td>\n",
       "    </tr>\n",
       "    <tr>\n",
       "      <th>410100</th>\n",
       "      <td>2934579</td>\n",
       "      <td>105857</td>\n",
       "      <td>4</td>\n",
       "      <td>3</td>\n",
       "      <td>2</td>\n",
       "      <td>8.0</td>\n",
       "    </tr>\n",
       "    <tr>\n",
       "      <th>411408</th>\n",
       "      <td>1286742</td>\n",
       "      <td>183220</td>\n",
       "      <td>48</td>\n",
       "      <td>3</td>\n",
       "      <td>2</td>\n",
       "      <td>4.0</td>\n",
       "    </tr>\n",
       "    <tr>\n",
       "      <th>415163</th>\n",
       "      <td>2282673</td>\n",
       "      <td>86751</td>\n",
       "      <td>49</td>\n",
       "      <td>3</td>\n",
       "      <td>2</td>\n",
       "      <td>2.0</td>\n",
       "    </tr>\n",
       "    <tr>\n",
       "      <th>415975</th>\n",
       "      <td>3286161</td>\n",
       "      <td>77320</td>\n",
       "      <td>9</td>\n",
       "      <td>3</td>\n",
       "      <td>2</td>\n",
       "      <td>8.0</td>\n",
       "    </tr>\n",
       "  </tbody>\n",
       "</table>\n",
       "<p>106 rows × 6 columns</p>\n",
       "</div>"
      ],
      "text/plain": [
       "        order_id  user_id  order_number  order_dow  order_hour_of_day  \\\n",
       "4838     2766110   162084            41          3                  2   \n",
       "5156     2190225   138285            18          3                  2   \n",
       "15506     553049    58599            13          3                  2   \n",
       "18420     382357   120200            19          3                  2   \n",
       "24691     690242    77357             2          3                  2   \n",
       "...          ...      ...           ...        ...                ...   \n",
       "400167    774488    66195            16          3                  2   \n",
       "410100   2934579   105857             4          3                  2   \n",
       "411408   1286742   183220            48          3                  2   \n",
       "415163   2282673    86751            49          3                  2   \n",
       "415975   3286161    77320             9          3                  2   \n",
       "\n",
       "        days_since_prior_order  \n",
       "4838                      16.0  \n",
       "5156                      11.0  \n",
       "15506                      7.0  \n",
       "18420                     11.0  \n",
       "24691                      9.0  \n",
       "...                        ...  \n",
       "400167                     2.0  \n",
       "410100                     8.0  \n",
       "411408                     4.0  \n",
       "415163                     2.0  \n",
       "415975                     8.0  \n",
       "\n",
       "[106 rows x 6 columns]"
      ]
     },
     "metadata": {},
     "output_type": "display_data"
    }
   ],
   "source": [
    "# Checking orders done at 2AM on Wednesdays\n",
    "filtered_df_orders = df_orders[(df_orders[\"order_dow\"] == 3) & (df_orders[\"order_hour_of_day\"] == 2)]\n",
    "display(filtered_df_orders.info())\n",
    "display(filtered_df_orders.head(106))"
   ]
  },
  {
   "cell_type": "markdown",
   "id": "vu2OWyoqwOx5",
   "metadata": {
    "id": "vu2OWyoqwOx5"
   },
   "source": [
    "Conclusion: We have 106 orders made on wednesdays @ 2AM"
   ]
  },
  {
   "cell_type": "code",
   "execution_count": 10,
   "id": "480563c7",
   "metadata": {
    "id": "480563c7"
   },
   "outputs": [],
   "source": [
    "# Removing doubled orders\n",
    "df_orders = df_orders.drop_duplicates().reset_index(drop=True)"
   ]
  },
  {
   "cell_type": "code",
   "execution_count": 11,
   "id": "0b2396a2",
   "metadata": {
    "id": "0b2396a2"
   },
   "outputs": [
    {
     "name": "stdout",
     "output_type": "stream",
     "text": [
      "order_id                  0.0\n",
      "user_id                   0.0\n",
      "order_number              0.0\n",
      "order_dow                 0.0\n",
      "order_hour_of_day         0.0\n",
      "days_since_prior_order    0.0\n",
      "dtype: float64\n"
     ]
    }
   ],
   "source": [
    "# Checking for doubles again\n",
    "print(df_orders[df_orders.duplicated()].sum())"
   ]
  },
  {
   "cell_type": "code",
   "execution_count": 12,
   "id": "f6113ef1",
   "metadata": {
    "id": "f6113ef1"
   },
   "outputs": [
    {
     "name": "stdout",
     "output_type": "stream",
     "text": [
      "1048576    1\n",
      "3389216    1\n",
      "1100604    1\n",
      "1275704    1\n",
      "2337103    1\n",
      "          ..\n",
      "1752059    1\n",
      "2794488    1\n",
      "711671     1\n",
      "1711087    1\n",
      "2047       1\n",
      "Name: order_id, Length: 478952, dtype: int64\n"
     ]
    }
   ],
   "source": [
    "# Checking IDs for doubled orders\n",
    "print(df_orders[\"order_id\"].value_counts())"
   ]
  },
  {
   "cell_type": "markdown",
   "id": "5e8905ae",
   "metadata": {
    "id": "5e8905ae"
   },
   "source": [
    "Conclusion: The df_orders DataFrame presented duplicate data that needed to be removed to allow for analysis. Now we can use this DataFrame to draw conclusions about order behavior."
   ]
  },
  {
   "cell_type": "markdown",
   "id": "45e6bc46",
   "metadata": {
    "id": "45e6bc46"
   },
   "source": [
    "### DataFrame `products`"
   ]
  },
  {
   "cell_type": "code",
   "execution_count": 13,
   "id": "5f526b5b-8175-46fa-a0fd-441767d50e64",
   "metadata": {
    "id": "5f526b5b-8175-46fa-a0fd-441767d50e64"
   },
   "outputs": [
    {
     "name": "stdout",
     "output_type": "stream",
     "text": [
      "product_id       0.0\n",
      "product_name     0.0\n",
      "aisle_id         0.0\n",
      "department_id    0.0\n",
      "dtype: float64\n"
     ]
    }
   ],
   "source": [
    "# Checking for doubled products\n",
    "print(df_products[df_products.duplicated()].sum())"
   ]
  },
  {
   "cell_type": "code",
   "execution_count": 14,
   "id": "88daa4f4",
   "metadata": {
    "id": "88daa4f4"
   },
   "outputs": [
    {
     "name": "stdout",
     "output_type": "stream",
     "text": [
      "0\n"
     ]
    }
   ],
   "source": [
    "# Checking IDs of doubled products\n",
    "print(df_products[\"product_id\"].duplicated().sum())"
   ]
  },
  {
   "cell_type": "code",
   "execution_count": 15,
   "id": "c773f0bf",
   "metadata": {
    "id": "c773f0bf"
   },
   "outputs": [
    {
     "name": "stdout",
     "output_type": "stream",
     "text": [
      "green tea with ginseng and honey                   3\n",
      "organic instant oatmeal light maple brown sugar    2\n",
      "organic balsamic vinegar of modena                 2\n",
      "cookies 'n cream ice cream                         2\n",
      "american cheese slices                             2\n",
      "                                                  ..\n",
      "melatonin 5 mg tablets                             1\n",
      "candles                                            1\n",
      "gluten free  herb crusted fish fillet              1\n",
      "candy cane                                         1\n",
      "manhattan cherry chip ice cream                    1\n",
      "Name: product_name, Length: 48332, dtype: int64\n"
     ]
    }
   ],
   "source": [
    "# Checking the name of doubled products and converting to lower\n",
    "df_products[\"product_name\"].value_counts()\n",
    "df_products[\"product_name\"] = df_products[\"product_name\"].str.lower()\n",
    "df_doublename = df_products[\"product_name\"].value_counts()\n",
    "print(df_doublename)"
   ]
  },
  {
   "cell_type": "code",
   "execution_count": 16,
   "id": "01efd02e",
   "metadata": {
    "id": "01efd02e"
   },
   "outputs": [
    {
     "data": {
      "text/html": [
       "<div>\n",
       "<style scoped>\n",
       "    .dataframe tbody tr th:only-of-type {\n",
       "        vertical-align: middle;\n",
       "    }\n",
       "\n",
       "    .dataframe tbody tr th {\n",
       "        vertical-align: top;\n",
       "    }\n",
       "\n",
       "    .dataframe thead th {\n",
       "        text-align: right;\n",
       "    }\n",
       "</style>\n",
       "<table border=\"1\" class=\"dataframe\">\n",
       "  <thead>\n",
       "    <tr style=\"text-align: right;\">\n",
       "      <th></th>\n",
       "      <th>product_id</th>\n",
       "      <th>product_name</th>\n",
       "      <th>aisle_id</th>\n",
       "      <th>department_id</th>\n",
       "    </tr>\n",
       "  </thead>\n",
       "  <tbody>\n",
       "    <tr>\n",
       "      <th>2058</th>\n",
       "      <td>2059</td>\n",
       "      <td>biotin 1000 mcg</td>\n",
       "      <td>47</td>\n",
       "      <td>11</td>\n",
       "    </tr>\n",
       "    <tr>\n",
       "      <th>5455</th>\n",
       "      <td>5456</td>\n",
       "      <td>green tea with ginseng and honey</td>\n",
       "      <td>96</td>\n",
       "      <td>20</td>\n",
       "    </tr>\n",
       "    <tr>\n",
       "      <th>5558</th>\n",
       "      <td>5559</td>\n",
       "      <td>cream of mushroom soup</td>\n",
       "      <td>69</td>\n",
       "      <td>15</td>\n",
       "    </tr>\n",
       "    <tr>\n",
       "      <th>7558</th>\n",
       "      <td>7559</td>\n",
       "      <td>cinnamon rolls with icing</td>\n",
       "      <td>105</td>\n",
       "      <td>13</td>\n",
       "    </tr>\n",
       "    <tr>\n",
       "      <th>9037</th>\n",
       "      <td>9038</td>\n",
       "      <td>american cheese slices</td>\n",
       "      <td>21</td>\n",
       "      <td>16</td>\n",
       "    </tr>\n",
       "    <tr>\n",
       "      <th>...</th>\n",
       "      <td>...</td>\n",
       "      <td>...</td>\n",
       "      <td>...</td>\n",
       "      <td>...</td>\n",
       "    </tr>\n",
       "    <tr>\n",
       "      <th>49689</th>\n",
       "      <td>49690</td>\n",
       "      <td>high performance energy drink</td>\n",
       "      <td>64</td>\n",
       "      <td>7</td>\n",
       "    </tr>\n",
       "    <tr>\n",
       "      <th>49690</th>\n",
       "      <td>49691</td>\n",
       "      <td>original pancake &amp; waffle mix</td>\n",
       "      <td>130</td>\n",
       "      <td>14</td>\n",
       "    </tr>\n",
       "    <tr>\n",
       "      <th>49691</th>\n",
       "      <td>49692</td>\n",
       "      <td>organic instant oatmeal light maple brown sugar</td>\n",
       "      <td>130</td>\n",
       "      <td>14</td>\n",
       "    </tr>\n",
       "    <tr>\n",
       "      <th>49692</th>\n",
       "      <td>49693</td>\n",
       "      <td>spring water body wash</td>\n",
       "      <td>127</td>\n",
       "      <td>11</td>\n",
       "    </tr>\n",
       "    <tr>\n",
       "      <th>49693</th>\n",
       "      <td>49694</td>\n",
       "      <td>burrito- steak &amp; cheese</td>\n",
       "      <td>38</td>\n",
       "      <td>1</td>\n",
       "    </tr>\n",
       "  </tbody>\n",
       "</table>\n",
       "<p>104 rows × 4 columns</p>\n",
       "</div>"
      ],
      "text/plain": [
       "       product_id                                     product_name  aisle_id  \\\n",
       "2058         2059                                  biotin 1000 mcg        47   \n",
       "5455         5456                 green tea with ginseng and honey        96   \n",
       "5558         5559                           cream of mushroom soup        69   \n",
       "7558         7559                        cinnamon rolls with icing       105   \n",
       "9037         9038                           american cheese slices        21   \n",
       "...           ...                                              ...       ...   \n",
       "49689       49690                    high performance energy drink        64   \n",
       "49690       49691                    original pancake & waffle mix       130   \n",
       "49691       49692  organic instant oatmeal light maple brown sugar       130   \n",
       "49692       49693                           spring water body wash       127   \n",
       "49693       49694                          burrito- steak & cheese        38   \n",
       "\n",
       "       department_id  \n",
       "2058              11  \n",
       "5455              20  \n",
       "5558              15  \n",
       "7558              13  \n",
       "9037              16  \n",
       "...              ...  \n",
       "49689              7  \n",
       "49690             14  \n",
       "49691             14  \n",
       "49692             11  \n",
       "49693              1  \n",
       "\n",
       "[104 rows x 4 columns]"
      ]
     },
     "metadata": {},
     "output_type": "display_data"
    }
   ],
   "source": [
    "# Checking doubled product names that are not missing\n",
    "df_doublename_notmissing = df_products[(df_products[\"product_name\"].duplicated()) & (~df_products[\"product_name\"].isna())]\n",
    "display(df_doublename_notmissing)"
   ]
  },
  {
   "cell_type": "markdown",
   "id": "9da8d293",
   "metadata": {
    "id": "9da8d293"
   },
   "source": [
    "Conclusion: We found no records of doubled products in any columns, but we did find 104 doubled product names"
   ]
  },
  {
   "cell_type": "markdown",
   "id": "60f30db1",
   "metadata": {
    "id": "60f30db1"
   },
   "source": [
    "### DataFrame `departments`"
   ]
  },
  {
   "cell_type": "code",
   "execution_count": 17,
   "id": "fb410ad4-0fbf-4b80-bb09-23fdea79afe3",
   "metadata": {
    "id": "fb410ad4-0fbf-4b80-bb09-23fdea79afe3"
   },
   "outputs": [
    {
     "name": "stdout",
     "output_type": "stream",
     "text": [
      "department_id    0.0\n",
      "department       0.0\n",
      "dtype: float64\n"
     ]
    }
   ],
   "source": [
    "# Checking for doubles\n",
    "print(df_departments[df_departments.duplicated()].sum())"
   ]
  },
  {
   "cell_type": "code",
   "execution_count": 18,
   "id": "332b12bb",
   "metadata": {
    "id": "332b12bb"
   },
   "outputs": [
    {
     "name": "stdout",
     "output_type": "stream",
     "text": [
      "0\n"
     ]
    }
   ],
   "source": [
    "# Checking for doubled department IDs\n",
    "print(df_departments[\"department_id\"].duplicated().sum())"
   ]
  },
  {
   "cell_type": "markdown",
   "id": "bd30d78e",
   "metadata": {
    "id": "bd30d78e"
   },
   "source": [
    "Conclusion: We found no records of doubled departments"
   ]
  },
  {
   "cell_type": "markdown",
   "id": "889349c1",
   "metadata": {
    "id": "889349c1"
   },
   "source": [
    "### DataFrame `aisles`"
   ]
  },
  {
   "cell_type": "code",
   "execution_count": 19,
   "id": "9da89fb9-4679-40f5-ad0d-c34df753a3f8",
   "metadata": {
    "id": "9da89fb9-4679-40f5-ad0d-c34df753a3f8"
   },
   "outputs": [
    {
     "name": "stdout",
     "output_type": "stream",
     "text": [
      "aisle_id    0.0\n",
      "aisle       0.0\n",
      "dtype: float64\n"
     ]
    }
   ],
   "source": [
    "# Checking for doubled aisles\n",
    "print(df_aisles[df_aisles.duplicated()].sum())"
   ]
  },
  {
   "cell_type": "code",
   "execution_count": 20,
   "id": "da7c2822",
   "metadata": {
    "id": "da7c2822"
   },
   "outputs": [
    {
     "name": "stdout",
     "output_type": "stream",
     "text": [
      "0\n"
     ]
    }
   ],
   "source": [
    "# Checking for doubled Aisle IDs\n",
    "print(df_aisles[\"aisle_id\"].duplicated().sum())"
   ]
  },
  {
   "cell_type": "markdown",
   "id": "ac63826f",
   "metadata": {
    "id": "ac63826f"
   },
   "source": [
    "Conclusion: We found no records of doubled aisles"
   ]
  },
  {
   "cell_type": "markdown",
   "id": "274cd06a",
   "metadata": {
    "id": "274cd06a"
   },
   "source": [
    "### DataFrame `order_products`"
   ]
  },
  {
   "cell_type": "code",
   "execution_count": 21,
   "id": "52326689-84a8-4b8f-a881-7c68780f62c9",
   "metadata": {
    "id": "52326689-84a8-4b8f-a881-7c68780f62c9"
   },
   "outputs": [
    {
     "name": "stdout",
     "output_type": "stream",
     "text": [
      "order_id             0.0\n",
      "product_id           0.0\n",
      "add_to_cart_order    0.0\n",
      "reordered            0.0\n",
      "dtype: float64\n"
     ]
    }
   ],
   "source": [
    "# Checking for doubled order_products\n",
    "print(df_order_products[df_order_products.duplicated()].sum())"
   ]
  },
  {
   "cell_type": "code",
   "execution_count": 22,
   "id": "7b861391",
   "metadata": {
    "id": "7b861391"
   },
   "outputs": [
    {
     "name": "stdout",
     "output_type": "stream",
     "text": [
      "(4072526, 4)\n",
      "\n",
      "      order_id  product_id  add_to_cart_order  reordered\n",
      "824     844425       39408               10.0          1\n",
      "1303   2825714       44632               16.0          1\n",
      "1723   2658937       15740               23.0          1\n",
      "1837   1945917       19348                1.0          1\n",
      "2013   1914624       46175               13.0          0\n",
      "<class 'pandas.core.frame.DataFrame'>\n",
      "Int64Index: 0 entries\n",
      "Data columns (total 4 columns):\n",
      " #   Column             Non-Null Count  Dtype  \n",
      "---  ------             --------------  -----  \n",
      " 0   order_id           0 non-null      int64  \n",
      " 1   product_id         0 non-null      int64  \n",
      " 2   add_to_cart_order  0 non-null      float64\n",
      " 3   reordered          0 non-null      int64  \n",
      "dtypes: float64(1), int64(3)\n",
      "memory usage: 0.0 bytes\n"
     ]
    }
   ],
   "source": [
    "# Checking for more complicated cases of doubled orders\n",
    "complex_doubled = df_order_products[(df_order_products[\"order_id\"].duplicated()) & (df_order_products[\"product_id\"].duplicated())]\n",
    "\n",
    "print(complex_doubled.shape)\n",
    "print()\n",
    "print(complex_doubled.head())\n",
    "df_order_products[df_order_products.duplicated(subset=['order_id', 'product_id'])].info()"
   ]
  },
  {
   "cell_type": "markdown",
   "id": "0b890492",
   "metadata": {
    "id": "0b890492"
   },
   "source": [
    "Conclusion: We do not have completely duplicate rows in the order_products dataset. A more complex case of duplication would be having more than one record with the same order_id and the same product_id. By using the \"subset\" parameter within .duplicated, the result was zero, meaning there are no cases of repeated order_id and product_id."
   ]
  },
  {
   "cell_type": "markdown",
   "id": "1e46de76",
   "metadata": {
    "id": "1e46de76"
   },
   "source": [
    "## Finding and removing null values\n",
    "\n",
    "When checking for doubles, we found that we need to investigate null values on the following columns:\n",
    "\n",
    "*\t`'product_name'` on products.\n",
    "*   `'days_since_prior_order'` orders.\n",
    "*\t`'add_to_cart_order'` on order_products.\n"
   ]
  },
  {
   "cell_type": "markdown",
   "id": "c0aebd78",
   "metadata": {
    "id": "c0aebd78"
   },
   "source": [
    "### DataFrame `products`"
   ]
  },
  {
   "cell_type": "code",
   "execution_count": 23,
   "id": "fe4a8b0f",
   "metadata": {
    "id": "fe4a8b0f"
   },
   "outputs": [
    {
     "name": "stdout",
     "output_type": "stream",
     "text": [
      "1258\n",
      "\n",
      "False    48436\n",
      "True      1258\n",
      "Name: product_name, dtype: int64\n"
     ]
    }
   ],
   "source": [
    "# Checking nulls on 'product_name'\n",
    "print(df_products[\"product_name\"].isna().sum())\n",
    "print()\n",
    "print(df_products[\"product_name\"].isna().value_counts())"
   ]
  },
  {
   "cell_type": "markdown",
   "id": "-A6x1AbJhjkp",
   "metadata": {
    "id": "-A6x1AbJhjkp"
   },
   "source": [
    "Conclusion: We have 1258 null values on \"product_name\""
   ]
  },
  {
   "cell_type": "code",
   "execution_count": 24,
   "id": "e96167bc",
   "metadata": {
    "id": "e96167bc"
   },
   "outputs": [
    {
     "name": "stdout",
     "output_type": "stream",
     "text": [
      "       product_id product_name  aisle_id  department_id\n",
      "37             38          NaN       100             21\n",
      "71             72          NaN       100             21\n",
      "109           110          NaN       100             21\n",
      "296           297          NaN       100             21\n",
      "416           417          NaN       100             21\n",
      "...           ...          ...       ...            ...\n",
      "49552       49553          NaN       100             21\n",
      "49574       49575          NaN       100             21\n",
      "49640       49641          NaN       100             21\n",
      "49663       49664          NaN       100             21\n",
      "49668       49669          NaN       100             21\n",
      "\n",
      "[1258 rows x 4 columns]\n"
     ]
    }
   ],
   "source": [
    "# Checking if all null values for product name are associated with aisleID 100\n",
    "df_aisle100_noname = df_products[(df_products[\"product_name\"].isna()) & (df_products[\"aisle_id\"] == 100)]\n",
    "\n",
    "print(df_aisle100_noname)"
   ]
  },
  {
   "cell_type": "markdown",
   "id": "WRpIfXRphpSL",
   "metadata": {
    "id": "WRpIfXRphpSL"
   },
   "source": [
    "Conclusion: Yes, 1258 product names are associated with aisleID 100"
   ]
  },
  {
   "cell_type": "code",
   "execution_count": 25,
   "id": "8fd0a541",
   "metadata": {
    "id": "8fd0a541"
   },
   "outputs": [
    {
     "name": "stdout",
     "output_type": "stream",
     "text": [
      "       product_id product_name  aisle_id  department_id\n",
      "37             38          NaN       100             21\n",
      "71             72          NaN       100             21\n",
      "109           110          NaN       100             21\n",
      "296           297          NaN       100             21\n",
      "416           417          NaN       100             21\n",
      "...           ...          ...       ...            ...\n",
      "49552       49553          NaN       100             21\n",
      "49574       49575          NaN       100             21\n",
      "49640       49641          NaN       100             21\n",
      "49663       49664          NaN       100             21\n",
      "49668       49669          NaN       100             21\n",
      "\n",
      "[1258 rows x 4 columns]\n"
     ]
    }
   ],
   "source": [
    "# Checking if all null values for product name are associated with departament ID 21?\n",
    "df_dep21_noname = df_products[(df_products[\"product_name\"].isna()) & (df_products[\"department_id\"] == 21)]\n",
    "print(df_dep21_noname)"
   ]
  },
  {
   "cell_type": "markdown",
   "id": "qDpdYn1Fht_I",
   "metadata": {
    "id": "qDpdYn1Fht_I"
   },
   "source": [
    "Conclusion: Yes 1258 null product names are associated with department 21"
   ]
  },
  {
   "cell_type": "code",
   "execution_count": 26,
   "id": "325c3464",
   "metadata": {
    "id": "325c3464"
   },
   "outputs": [
    {
     "name": "stdout",
     "output_type": "stream",
     "text": [
      "99    missing\n",
      "Name: aisle, dtype: object\n",
      "\n",
      "20    missing\n",
      "Name: department, dtype: object\n"
     ]
    }
   ],
   "source": [
    "# Checking what are aisleID 100 and departmentID 21 mean\n",
    "print(df_aisles[df_aisles[\"aisle_id\"] == 100][\"aisle\"])\n",
    "print()\n",
    "print(df_departments[df_departments[\"department_id\"] == 21][\"department\"])"
   ]
  },
  {
   "cell_type": "markdown",
   "id": "nqhSTUPhhvEJ",
   "metadata": {
    "id": "nqhSTUPhhvEJ"
   },
   "source": [
    "Conclusion: Aisle 100 is labeled as \"missing,\" indicating that the product_id was associated with this aisle but no product_name was provided. It may be a business rule to associate all product_ids without a product_name to aisle 100 (\"missing\"). The same applies to department 21, also labeled as \"missing\" and with products without a product_name associated with it."
   ]
  },
  {
   "cell_type": "code",
   "execution_count": 27,
   "id": "6b295120",
   "metadata": {
    "id": "6b295120"
   },
   "outputs": [
    {
     "name": "stdout",
     "output_type": "stream",
     "text": [
      "product_id       0\n",
      "product_name     0\n",
      "aisle_id         0\n",
      "department_id    0\n",
      "dtype: int64\n"
     ]
    }
   ],
   "source": [
    "# Replacing null product names with 'Unknown'\n",
    "df_products[\"product_name\"] = df_products[\"product_name\"].fillna(\"Unknown\")\n",
    "print(df_products.isna().sum())"
   ]
  },
  {
   "cell_type": "markdown",
   "id": "fc70e5ad",
   "metadata": {
    "id": "fc70e5ad"
   },
   "source": [
    "Conclusion: We identified a department (100) and an aisle (21) to which all 1,258 products without a product_name were associated. We then replaced the missing value with \"Unknown\" to make the dataset complete and without missing values in product_name."
   ]
  },
  {
   "cell_type": "markdown",
   "id": "7eb45c86",
   "metadata": {
    "id": "7eb45c86"
   },
   "source": [
    "### DataFrame `orders`"
   ]
  },
  {
   "cell_type": "code",
   "execution_count": 28,
   "id": "93e41d96",
   "metadata": {
    "id": "93e41d96"
   },
   "outputs": [
    {
     "name": "stdout",
     "output_type": "stream",
     "text": [
      "order_id                      0\n",
      "user_id                       0\n",
      "order_number                  0\n",
      "order_dow                     0\n",
      "order_hour_of_day             0\n",
      "days_since_prior_order    28817\n",
      "dtype: int64\n"
     ]
    }
   ],
   "source": [
    "# Finding null values\n",
    "print(df_orders.isna().sum())"
   ]
  },
  {
   "cell_type": "code",
   "execution_count": 29,
   "id": "166e5a86",
   "metadata": {
    "id": "166e5a86"
   },
   "outputs": [
    {
     "name": "stdout",
     "output_type": "stream",
     "text": [
      "order_id                  0\n",
      "user_id                   0\n",
      "order_number              0\n",
      "order_dow                 0\n",
      "order_hour_of_day         0\n",
      "days_since_prior_order    0\n",
      "dtype: int64\n"
     ]
    }
   ],
   "source": [
    "# Checking for null values for customers that are not making their first order\n",
    "df_order_empty_notfirstorder = df_orders[(df_orders[\"order_number\"] != 1)]\n",
    "print(df_order_empty_notfirstorder.isna().sum())"
   ]
  },
  {
   "cell_type": "markdown",
   "id": "4e23d089",
   "metadata": {
    "id": "4e23d089"
   },
   "source": [
    "Conclusion: We have 28,817 null values on column \"days_since_prior_order\", but none of them are associated with customers that are not placing their first order"
   ]
  },
  {
   "cell_type": "markdown",
   "id": "69dc9ca4",
   "metadata": {
    "id": "69dc9ca4"
   },
   "source": [
    "### DataFrame `order_products`"
   ]
  },
  {
   "cell_type": "code",
   "execution_count": 30,
   "id": "b8240253",
   "metadata": {
    "id": "b8240253"
   },
   "outputs": [
    {
     "name": "stdout",
     "output_type": "stream",
     "text": [
      "order_id               0\n",
      "product_id             0\n",
      "add_to_cart_order    836\n",
      "reordered              0\n",
      "dtype: int64\n"
     ]
    }
   ],
   "source": [
    "# Checking for null values\n",
    "print(df_order_products.isna().sum())"
   ]
  },
  {
   "cell_type": "code",
   "execution_count": 31,
   "id": "9a78e5ee",
   "metadata": {
    "id": "9a78e5ee"
   },
   "outputs": [
    {
     "name": "stdout",
     "output_type": "stream",
     "text": [
      "add_to_cart_order mínimo: 1.0\n",
      "add_to_cart_order máximo: 64.0\n"
     ]
    }
   ],
   "source": [
    "# Checking for min and max for \"add_to_cart_order\"\n",
    "addcart_min = df_order_products[\"add_to_cart_order\"].min()\n",
    "addcart_max = df_order_products[\"add_to_cart_order\"].max()\n",
    "print(\"add_to_cart_order mínimo:\",addcart_min)\n",
    "print(\"add_to_cart_order máximo:\",addcart_max)"
   ]
  },
  {
   "cell_type": "markdown",
   "id": "-Z2Ja215jW78",
   "metadata": {
    "id": "-Z2Ja215jW78"
   },
   "source": [
    "Conclusion: We have 836 records without \"add_to_cart_order\" information, the minimum is 1 and maximum is 64"
   ]
  },
  {
   "cell_type": "code",
   "execution_count": 32,
   "id": "ab9d0c2b",
   "metadata": {
    "id": "ab9d0c2b"
   },
   "outputs": [
    {
     "name": "stdout",
     "output_type": "stream",
     "text": [
      "737        2449164\n",
      "9926       1968313\n",
      "14394      2926893\n",
      "16418      1717990\n",
      "30114      1959075\n",
      "            ...   \n",
      "4505662    1800005\n",
      "4511400    1633337\n",
      "4517562     404157\n",
      "4534112    1673227\n",
      "4535739    1832957\n",
      "Name: order_id, Length: 836, dtype: int64\n"
     ]
    }
   ],
   "source": [
    "# Saving all order IDs with at least one null value in 'add_to_cart_order'\n",
    "orderid_no_add_to_cart_order = df_order_products[df_order_products[\"add_to_cart_order\"].isna()][\"order_id\"]\n",
    "print(orderid_no_add_to_cart_order)"
   ]
  },
  {
   "cell_type": "code",
   "execution_count": 33,
   "id": "54c31695",
   "metadata": {
    "id": "54c31695"
   },
   "outputs": [
    {
     "name": "stdout",
     "output_type": "stream",
     "text": [
      "63\n"
     ]
    }
   ],
   "source": [
    "# Checking if all orders with null values have more than 64 products\n",
    "no_add_to_cart_order_isna64 = df_order_products[df_order_products[\"add_to_cart_order\"].isna()]\n",
    "no_add_to_cart_order_isna64 = no_add_to_cart_order_isna64.groupby(\"order_id\")[\"product_id\"].count()\n",
    "print (no_add_to_cart_order_isna64.max())"
   ]
  },
  {
   "cell_type": "markdown",
   "id": "p9V6pddtjglj",
   "metadata": {
    "id": "p9V6pddtjglj"
   },
   "source": [
    "Conclusion: We have 70 orders without add_to_carter_order information, none of them with mor ethan 64 items per orderpedido"
   ]
  },
  {
   "cell_type": "code",
   "execution_count": 34,
   "id": "7a987d08",
   "metadata": {
    "id": "7a987d08"
   },
   "outputs": [
    {
     "name": "stdout",
     "output_type": "stream",
     "text": [
      "Empty DataFrame\n",
      "Columns: [order_id, product_id, add_to_cart_order, reordered]\n",
      "Index: []\n",
      "<class 'pandas.core.frame.DataFrame'>\n",
      "RangeIndex: 4545007 entries, 0 to 4545006\n",
      "Data columns (total 4 columns):\n",
      " #   Column             Non-Null Count    Dtype\n",
      "---  ------             --------------    -----\n",
      " 0   order_id           4545007 non-null  int64\n",
      " 1   product_id         4545007 non-null  int64\n",
      " 2   add_to_cart_order  4545007 non-null  int64\n",
      " 3   reordered          4545007 non-null  int64\n",
      "dtypes: int64(4)\n",
      "memory usage: 138.7 MB\n"
     ]
    }
   ],
   "source": [
    "# Replacing null values on 'add_to_cart_order' by 999 and converting to type \"integer\"\n",
    "df_order_products[\"add_to_cart_order\"] = df_order_products[\"add_to_cart_order\"].fillna(999)\n",
    "df_order_products[\"add_to_cart_order\"] = df_order_products[\"add_to_cart_order\"].astype(\"int\")\n",
    "print(df_order_products[df_order_products[\"add_to_cart_order\"].isna()])\n",
    "df_order_products.info(show_counts=True)"
   ]
  },
  {
   "cell_type": "markdown",
   "id": "fea4bcc7",
   "metadata": {
    "id": "fea4bcc7"
   },
   "source": [
    "Conclusion:From 836 records without add_to_cart_order, none have more than 64 items per order. We have replaced nulls for 999 and converted to type integer"
   ]
  },
  {
   "cell_type": "markdown",
   "id": "RnplPFY1gSrb",
   "metadata": {
    "id": "RnplPFY1gSrb"
   },
   "source": [
    "## Conclusions\n",
    "\n",
    "It was necessary to perform data cleaning on the orders, products, and order_products DataFrames, converting data types, removing duplicates, and replacing missing values to make them complete and ready for analysis. Proceeding with the analysis without these treatments could produce incorrect or distorted information, or even prevent certain analyses from being performed."
   ]
  },
  {
   "cell_type": "markdown",
   "id": "UjrOIwTcz3ri",
   "metadata": {
    "id": "UjrOIwTcz3ri"
   },
   "source": [
    "# Etapa 3. Data Analysis\n",
    "\n",
    "We will execute the following analysis:"
   ]
  },
  {
   "cell_type": "markdown",
   "id": "turkish-kidney",
   "metadata": {
    "id": "turkish-kidney"
   },
   "source": [
    "1. Verify if the values in the columns 'order_hour_of_day' and 'order_dow' in the orders table make sense (i.e., the values in the 'order_hour_of_day' column range from 0 to 23 and those in 'order_dow' range from 0 to 6).\n",
    "2. Create a chart showing how many people place orders at each hour of the day.\n",
    "3. Create a chart showing on which day of the week people make purchases.\n",
    "4. Create a chart showing how long people wait until placing their next order and comment on the minimum and maximum values."
   ]
  },
  {
   "cell_type": "code",
   "execution_count": 35,
   "id": "growing-fruit",
   "metadata": {
    "id": "growing-fruit"
   },
   "outputs": [
    {
     "data": {
      "text/plain": [
       "0      3180\n",
       "1      1763\n",
       "2       989\n",
       "3       770\n",
       "4       765\n",
       "5      1371\n",
       "6      4215\n",
       "7     13043\n",
       "8     25024\n",
       "9     35896\n",
       "10    40578\n",
       "11    40032\n",
       "12    38034\n",
       "13    39007\n",
       "14    39631\n",
       "15    39789\n",
       "16    38112\n",
       "17    31930\n",
       "18    25510\n",
       "19    19547\n",
       "20    14624\n",
       "21    11019\n",
       "22     8512\n",
       "23     5611\n",
       "Name: order_hour_of_day, dtype: int64"
      ]
     },
     "execution_count": 35,
     "metadata": {},
     "output_type": "execute_result"
    }
   ],
   "source": [
    "df_orders[\"order_hour_of_day\"].value_counts().sort_index()"
   ]
  },
  {
   "cell_type": "code",
   "execution_count": 36,
   "id": "accessory-malaysia",
   "metadata": {
    "id": "accessory-malaysia"
   },
   "outputs": [
    {
     "data": {
      "text/plain": [
       "0    84090\n",
       "1    82185\n",
       "2    65833\n",
       "3    60897\n",
       "4    59810\n",
       "5    63488\n",
       "6    62649\n",
       "Name: order_dow, dtype: int64"
      ]
     },
     "execution_count": 36,
     "metadata": {},
     "output_type": "execute_result"
    }
   ],
   "source": [
    "df_orders[\"order_dow\"].value_counts().sort_index()"
   ]
  },
  {
   "cell_type": "markdown",
   "id": "hmR2GNQ6lCsX",
   "metadata": {
    "id": "hmR2GNQ6lCsX"
   },
   "source": [
    "Conclusion: Yes, the data seems to make sense because the column with the hour of the day ranges from 0 to 23, the column with the day of the week ranges from 0 to 6, and the data type is int in both cases."
   ]
  },
  {
   "cell_type": "code",
   "execution_count": 37,
   "id": "a36cca27",
   "metadata": {
    "id": "a36cca27"
   },
   "outputs": [
    {
     "data": {
      "image/png": "[encoded data removed]",
      "text/plain": [
       "<Figure size 1600x900 with 1 Axes>"
      ]
     },
     "metadata": {},
     "output_type": "display_data"
    }
   ],
   "source": [
    "df_orders.groupby(\"order_hour_of_day\")[\"user_id\"].nunique().plot(\n",
    "    kind=\"bar\",\n",
    "    edgecolor=\"black\",\n",
    "    title=\"Time the order was placed (0-24)\",\n",
    "    figsize=[16,9]\n",
    ")\n",
    "\n",
    "plt.show()\n",
    "\n"
   ]
  },
  {
   "cell_type": "markdown",
   "id": "11270eed",
   "metadata": {
    "id": "11270eed"
   },
   "source": [
    "Conclusion: The peak of orders occurs between 10 and 11 a.m., followed by 2 to 3 p.m. The period with the most orders is between 10 a.m. and 5 p.m."
   ]
  },
  {
   "cell_type": "code",
   "execution_count": 38,
   "id": "chief-digit",
   "metadata": {
    "id": "chief-digit"
   },
   "outputs": [
    {
     "data": {
      "image/png": "[encoded data removed]",
      "text/plain": [
       "<Figure size 1600x900 with 1 Axes>"
      ]
     },
     "metadata": {},
     "output_type": "display_data"
    }
   ],
   "source": [
    "df_orders.groupby(\"order_dow\")[\"user_id\"].nunique().plot(\n",
    "    kind=\"bar\",\n",
    "    edgecolor=\"black\",\n",
    "    title=\"Day of the week that order was placed (0-6)\",\n",
    "    figsize=[16,9]\n",
    ")\n",
    "plt.show()"
   ]
  },
  {
   "cell_type": "markdown",
   "id": "dominant-lightning",
   "metadata": {
    "id": "dominant-lightning"
   },
   "source": [
    "Conclusion: The days of the week with most orders are sunday and monday"
   ]
  },
  {
   "cell_type": "code",
   "execution_count": 39,
   "id": "gMOIimGd5VNb",
   "metadata": {
    "id": "gMOIimGd5VNb",
    "scrolled": false
   },
   "outputs": [
    {
     "name": "stdout",
     "output_type": "stream",
     "text": [
      "11.101813900274362\n"
     ]
    },
    {
     "data": {
      "image/png": "[encoded data removed]",
      "text/plain": [
       "<Figure size 1600x900 with 1 Axes>"
      ]
     },
     "metadata": {},
     "output_type": "display_data"
    }
   ],
   "source": [
    "avg_reorder = df_orders[\"days_since_prior_order\"].mean()\n",
    "print(avg_reorder)\n",
    "\n",
    "time_to_order = df_orders.groupby(\"days_since_prior_order\")[\"user_id\"].count()\n",
    "time_to_order.plot(\n",
    "    kind=\"bar\",\n",
    "    edgecolor=\"black\",\n",
    "    title=\"Users x days until next order\",\n",
    "    figsize=[16,9],\n",
    "    ylabel=\"Number of users\",\n",
    "    xlabel=\"Days until next order\"\n",
    ")\n",
    "plt.show()"
   ]
  },
  {
   "cell_type": "markdown",
   "id": "discrete-vertex",
   "metadata": {
    "id": "discrete-vertex"
   },
   "source": [
    "Conclusion: People take 11 days on average between orders, most orders take place every 30 days, followed by orders every 7 days"
   ]
  },
  {
   "cell_type": "markdown",
   "id": "tight-staff",
   "metadata": {
    "id": "tight-staff"
   },
   "source": [
    "We will execute the following analysis:\n",
    "\n",
    "1. Is there any difference in the distributions of 'order_hour_of_day' on Wednesdays and Saturdays? Create bar charts for both days on the same graph and describe the differences you notice.\n",
    "2. Build a distribution chart for the number of orders that customers make (i.e., how many customers placed only 1 order, how many placed only 2, how many placed only 3, etc.).\n",
    "3. What are the 20 most frequently purchased products? Display the IDs and names."
   ]
  },
  {
   "cell_type": "code",
   "execution_count": 40,
   "id": "d89b8403",
   "metadata": {
    "id": "d89b8403"
   },
   "outputs": [
    {
     "name": "stdout",
     "output_type": "stream",
     "text": [
      "order_dow             0     1     2     3     4     5     6\n",
      "order_hour_of_day                                          \n",
      "0                   533   565   462   373   324   459   464\n",
      "1                   337   269   240   215   229   219   254\n",
      "2                   188   145   136   106   114   123   177\n",
      "3                   128   104   104   101   109    99   125\n",
      "4                   108   104   109   108   100   118   118\n",
      "5                   171   246   196   170   198   229   161\n",
      "6                   463   757   653   643   594   654   451\n",
      "7                  1752  2320  1900  1732  1787  1933  1619\n",
      "8                  3908  4751  3485  3125  3136  3373  3246\n",
      "9                  5650  7262  5057  4490  4332  4794  4311\n",
      "10                 6978  7881  5489  5026  4938  5347  4919\n",
      "11                 7186  7194  5365  5004  4842  5325  5116\n",
      "12                 7231  6648  5066  4688  4433  4836  5132\n",
      "13                 7483  6618  5234  4674  4567  5108  5323\n",
      "14                 7533  6545  5344  4774  4795  5265  5375\n",
      "15                 7585  6446  5260  5163  4795  5352  5188\n",
      "16                 6956  6050  5322  4976  4788  4991  5029\n",
      "17                 5552  5125  4525  4175  4089  4169  4295\n",
      "18                 4142  4075  3672  3463  3379  3441  3338\n",
      "19                 3084  3126  2787  2652  2691  2597  2610\n",
      "20                 2544  2332  2061  1917  2037  1886  1847\n",
      "21                 2043  1698  1481  1450  1506  1368  1473\n",
      "22                 1614  1165  1130  1154  1236  1028  1185\n",
      "23                  921   759   755   718   791   774   893\n"
     ]
    },
    {
     "data": {
      "image/png": "[encoded data removed]",
      "text/plain": [
       "<Figure size 1600x900 with 1 Axes>"
      ]
     },
     "metadata": {},
     "output_type": "display_data"
    }
   ],
   "source": [
    "df_orders_pivot = df_orders.pivot_table(\n",
    "    index=\"order_hour_of_day\",\n",
    "    columns=\"order_dow\",\n",
    "    values=\"order_id\",\n",
    "    aggfunc=\"count\"\n",
    ")\n",
    "print(df_orders_pivot)\n",
    "df_orders_pivot.plot(\n",
    "    kind=\"bar\",\n",
    "    y=[3,6],\n",
    "    figsize=[16,9]\n",
    ")\n",
    "plt.xticks(range(0, 24, 1))\n",
    "plt.show()"
   ]
  },
  {
   "cell_type": "markdown",
   "id": "charitable-congo",
   "metadata": {
    "id": "charitable-congo"
   },
   "source": [
    "Conclusion: We can observe similar behavior in terms of the number of orders on Wednesdays and Saturdays, with a slightly higher number of orders on Saturdays between 12 and 2 p.m."
   ]
  },
  {
   "cell_type": "code",
   "execution_count": 41,
   "id": "d8c26c23",
   "metadata": {
    "id": "d8c26c23"
   },
   "outputs": [
    {
     "data": {
      "image/png": "[encoded data removed]",
      "text/plain": [
       "<Figure size 1600x900 with 1 Axes>"
      ]
     },
     "metadata": {},
     "output_type": "display_data"
    }
   ],
   "source": [
    "order_count_per_user = df_orders.groupby(['user_id'])['order_id'].count().sort_values()\n",
    "order_count_per_user.plot(\n",
    "    kind=\"hist\",\n",
    "    bins=30,\n",
    "    title=\"Distribution of orders per customer\",\n",
    "    xlabel=\"Amount of orders per customer\",\n",
    "    figsize=[16,9]\n",
    ")\n",
    "plt.xticks(range(0,30,1))\n",
    "plt.show()"
   ]
  },
  {
   "cell_type": "markdown",
   "id": "d2eff7d5",
   "metadata": {
    "id": "d2eff7d5"
   },
   "source": [
    "Conclusion: The majority of customers places between 1 and 5 orders and most have placed only 1 order"
   ]
  },
  {
   "cell_type": "code",
   "execution_count": 42,
   "id": "exterior-arizona",
   "metadata": {
    "id": "exterior-arizona"
   },
   "outputs": [
    {
     "name": "stdout",
     "output_type": "stream",
     "text": [
      "product_id\n",
      "1                            chocolate sandwich cookies\n",
      "2                                      all-seasons salt\n",
      "3                  robust golden unsweetened oolong tea\n",
      "4     smart ones classic favorites mini rigatoni wit...\n",
      "5                             green chile anytime sauce\n",
      "6                                          dry nose oil\n",
      "7                        pure coconut water with orange\n",
      "8                     cut russet potatoes steam n' mash\n",
      "9                     light strawberry blueberry yogurt\n",
      "10       sparkling orange juice & prickly pear beverage\n",
      "Name: product_name, dtype: object\n",
      "\n",
      "product_id\n",
      "1        280\n",
      "2         11\n",
      "3         42\n",
      "4         49\n",
      "7          2\n",
      "        ... \n",
      "49690      5\n",
      "49691     72\n",
      "49692     12\n",
      "49693     25\n",
      "49694      9\n",
      "Name: order_id, Length: 45573, dtype: int64\n",
      "                                                 product_name  order_id\n",
      "product_id                                                             \n",
      "1                                  chocolate sandwich cookies     280.0\n",
      "2                                            all-seasons salt      11.0\n",
      "3                        robust golden unsweetened oolong tea      42.0\n",
      "4           smart ones classic favorites mini rigatoni wit...      49.0\n",
      "5                                   green chile anytime sauce       NaN\n",
      "...                                                       ...       ...\n",
      "49690                           high performance energy drink       5.0\n",
      "49691                           original pancake & waffle mix      72.0\n",
      "49692         organic instant oatmeal light maple brown sugar      12.0\n",
      "49693                                  spring water body wash      25.0\n",
      "49694                                 burrito- steak & cheese       9.0\n",
      "\n",
      "[49694 rows x 2 columns]\n",
      "\n",
      "                        product_name  quantity_sold\n",
      "product_id                                         \n",
      "24852                         banana        66050.0\n",
      "13176         bag of organic bananas        53297.0\n",
      "21137           organic strawberries        37039.0\n",
      "21903           organic baby spinach        33971.0\n",
      "47209           organic hass avocado        29773.0\n",
      "47766                organic avocado        24689.0\n",
      "47626                    large lemon        21495.0\n",
      "16797                   strawberries        20018.0\n",
      "26209                          limes        19690.0\n",
      "27845             organic whole milk        19600.0\n",
      "27966            organic raspberries        19197.0\n",
      "22935           organic yellow onion        15898.0\n",
      "24964                 organic garlic        15292.0\n",
      "45007               organic zucchini        14584.0\n",
      "39275            organic blueberries        13879.0\n",
      "49683                 cucumber kirby        13675.0\n",
      "28204             organic fuji apple        12544.0\n",
      "5876                   organic lemon        12232.0\n",
      "8277        apple honeycrisp organic        11993.0\n",
      "40706         organic grape tomatoes        11781.0\n"
     ]
    }
   ],
   "source": [
    "product_names = df_products.groupby(\"product_id\")[\"product_name\"].sum()\n",
    "print(product_names.head(10))\n",
    "print()\n",
    "top20_products = df_order_products.groupby(\"product_id\")[\"order_id\"].count()\n",
    "print(top20_products)\n",
    "df_concat = pd.concat([product_names,top20_products], axis=\"columns\")\n",
    "print(df_concat)\n",
    "print()\n",
    "df_concat.columns = [\"product_name\",\"quantity_sold\"]\n",
    "sorted_df_concat = df_concat.sort_values(\"quantity_sold\",ascending=False)\n",
    "print(sorted_df_concat.head(20))"
   ]
  },
  {
   "cell_type": "markdown",
   "id": "7df00f47",
   "metadata": {
    "id": "7df00f47"
   },
   "source": [
    "Conclusion: The 20 best-selling products were sold 11,781 times or more, and all of them are food items such as vegetables, fruits, milk, etc. The top-selling product was bananas, with 66,050 sales."
   ]
  },
  {
   "cell_type": "markdown",
   "id": "gross-theme",
   "metadata": {
    "id": "gross-theme"
   },
   "source": [
    "Now we will run the following analysis\n",
    "\n",
    "1. How many items do people usually buy in an order? What does the distribution look like?\n",
    "2. What are the 20 most frequently included items in repeat orders? Display the IDs and names.\n",
    "3. For each product, what proportion of its orders are repeat purchases? Create a table with columns for the product ID, name, and the proportion of repeat orders.\n",
    "4. For each customer, what proportion of all their orders are repeat purchases?\n",
    "5. What are the 20 items that people most often add to their carts first? Display the product ID, name, and the number of times it was the first item added to a cart."
   ]
  },
  {
   "cell_type": "code",
   "execution_count": 43,
   "id": "virtual-punch",
   "metadata": {
    "id": "virtual-punch"
   },
   "outputs": [
    {
     "name": "stdout",
     "output_type": "stream",
     "text": [
      "count    4.545007e+06\n",
      "mean     8.533887e+00\n",
      "std      1.518562e+01\n",
      "min      1.000000e+00\n",
      "25%      3.000000e+00\n",
      "50%      6.000000e+00\n",
      "75%      1.100000e+01\n",
      "max      9.990000e+02\n",
      "Name: add_to_cart_order, dtype: float64\n"
     ]
    },
    {
     "data": {
      "image/png": "[encoded data removed]",
      "text/plain": [
       "<Figure size 1600x900 with 1 Axes>"
      ]
     },
     "metadata": {},
     "output_type": "display_data"
    }
   ],
   "source": [
    "print(df_order_products[\"add_to_cart_order\"].describe())\n",
    "\n",
    "num_items = df_order_products.groupby('order_id')['product_id'].count()\n",
    "barchart_vals = num_items[num_items<30].value_counts().sort_index().plot(\n",
    "    kind=\"bar\",\n",
    "    xlim=30,\n",
    "    edgecolor=\"black\",\n",
    "    rot=45,\n",
    "    figsize=[16,9],\n",
    "    title=\"Number of items per order\",\n",
    "    xlabel=\"Quantity of items\"\n",
    ")"
   ]
  },
  {
   "cell_type": "markdown",
   "id": "designed-mortality",
   "metadata": {
    "id": "designed-mortality"
   },
   "source": [
    "Conclusion: People usually order between 3 and 8 items. The median is 6 and the average is 9 items per order. We have identified an order with 999 items, which seems strange and distorts the average. So we have filtered this outlier out."
   ]
  },
  {
   "cell_type": "code",
   "execution_count": 44,
   "id": "9374e55a",
   "metadata": {
    "id": "9374e55a",
    "scrolled": false
   },
   "outputs": [
    {
     "name": "stdout",
     "output_type": "stream",
     "text": [
      "product_id\n",
      "1        158\n",
      "3         31\n",
      "4         25\n",
      "7          1\n",
      "8          6\n",
      "        ... \n",
      "49690      4\n",
      "49691     31\n",
      "49692      5\n",
      "49693     11\n",
      "49694      3\n",
      "Name: product_id, Length: 36228, dtype: int64\n",
      "                                                 product_name  product_id\n",
      "product_id                                                               \n",
      "1                                  chocolate sandwich cookies       158.0\n",
      "2                                            all-seasons salt         NaN\n",
      "3                        robust golden unsweetened oolong tea        31.0\n",
      "4           smart ones classic favorites mini rigatoni wit...        25.0\n",
      "5                                   green chile anytime sauce         NaN\n",
      "...                                                       ...         ...\n",
      "49690                           high performance energy drink         4.0\n",
      "49691                           original pancake & waffle mix        31.0\n",
      "49692         organic instant oatmeal light maple brown sugar         5.0\n",
      "49693                                  spring water body wash        11.0\n",
      "49694                                 burrito- steak & cheese         3.0\n",
      "\n",
      "[49694 rows x 2 columns]\n"
     ]
    },
    {
     "data": {
      "text/html": [
       "<div>\n",
       "<style scoped>\n",
       "    .dataframe tbody tr th:only-of-type {\n",
       "        vertical-align: middle;\n",
       "    }\n",
       "\n",
       "    .dataframe tbody tr th {\n",
       "        vertical-align: top;\n",
       "    }\n",
       "\n",
       "    .dataframe thead th {\n",
       "        text-align: right;\n",
       "    }\n",
       "</style>\n",
       "<table border=\"1\" class=\"dataframe\">\n",
       "  <thead>\n",
       "    <tr style=\"text-align: right;\">\n",
       "      <th></th>\n",
       "      <th>product_name</th>\n",
       "      <th>quantity_sold</th>\n",
       "    </tr>\n",
       "    <tr>\n",
       "      <th>product_id</th>\n",
       "      <th></th>\n",
       "      <th></th>\n",
       "    </tr>\n",
       "  </thead>\n",
       "  <tbody>\n",
       "    <tr>\n",
       "      <th>24852</th>\n",
       "      <td>banana</td>\n",
       "      <td>55763.0</td>\n",
       "    </tr>\n",
       "    <tr>\n",
       "      <th>13176</th>\n",
       "      <td>bag of organic bananas</td>\n",
       "      <td>44450.0</td>\n",
       "    </tr>\n",
       "    <tr>\n",
       "      <th>21137</th>\n",
       "      <td>organic strawberries</td>\n",
       "      <td>28639.0</td>\n",
       "    </tr>\n",
       "    <tr>\n",
       "      <th>21903</th>\n",
       "      <td>organic baby spinach</td>\n",
       "      <td>26233.0</td>\n",
       "    </tr>\n",
       "    <tr>\n",
       "      <th>47209</th>\n",
       "      <td>organic hass avocado</td>\n",
       "      <td>23629.0</td>\n",
       "    </tr>\n",
       "    <tr>\n",
       "      <th>47766</th>\n",
       "      <td>organic avocado</td>\n",
       "      <td>18743.0</td>\n",
       "    </tr>\n",
       "    <tr>\n",
       "      <th>27845</th>\n",
       "      <td>organic whole milk</td>\n",
       "      <td>16251.0</td>\n",
       "    </tr>\n",
       "    <tr>\n",
       "      <th>47626</th>\n",
       "      <td>large lemon</td>\n",
       "      <td>15044.0</td>\n",
       "    </tr>\n",
       "    <tr>\n",
       "      <th>27966</th>\n",
       "      <td>organic raspberries</td>\n",
       "      <td>14748.0</td>\n",
       "    </tr>\n",
       "    <tr>\n",
       "      <th>16797</th>\n",
       "      <td>strawberries</td>\n",
       "      <td>13945.0</td>\n",
       "    </tr>\n",
       "    <tr>\n",
       "      <th>26209</th>\n",
       "      <td>limes</td>\n",
       "      <td>13327.0</td>\n",
       "    </tr>\n",
       "    <tr>\n",
       "      <th>22935</th>\n",
       "      <td>organic yellow onion</td>\n",
       "      <td>11145.0</td>\n",
       "    </tr>\n",
       "    <tr>\n",
       "      <th>24964</th>\n",
       "      <td>organic garlic</td>\n",
       "      <td>10411.0</td>\n",
       "    </tr>\n",
       "    <tr>\n",
       "      <th>45007</th>\n",
       "      <td>organic zucchini</td>\n",
       "      <td>10076.0</td>\n",
       "    </tr>\n",
       "    <tr>\n",
       "      <th>49683</th>\n",
       "      <td>cucumber kirby</td>\n",
       "      <td>9538.0</td>\n",
       "    </tr>\n",
       "    <tr>\n",
       "      <th>28204</th>\n",
       "      <td>organic fuji apple</td>\n",
       "      <td>8989.0</td>\n",
       "    </tr>\n",
       "    <tr>\n",
       "      <th>8277</th>\n",
       "      <td>apple honeycrisp organic</td>\n",
       "      <td>8836.0</td>\n",
       "    </tr>\n",
       "    <tr>\n",
       "      <th>39275</th>\n",
       "      <td>organic blueberries</td>\n",
       "      <td>8799.0</td>\n",
       "    </tr>\n",
       "    <tr>\n",
       "      <th>5876</th>\n",
       "      <td>organic lemon</td>\n",
       "      <td>8412.0</td>\n",
       "    </tr>\n",
       "    <tr>\n",
       "      <th>49235</th>\n",
       "      <td>organic half &amp; half</td>\n",
       "      <td>8389.0</td>\n",
       "    </tr>\n",
       "  </tbody>\n",
       "</table>\n",
       "</div>"
      ],
      "text/plain": [
       "                        product_name  quantity_sold\n",
       "product_id                                         \n",
       "24852                         banana        55763.0\n",
       "13176         bag of organic bananas        44450.0\n",
       "21137           organic strawberries        28639.0\n",
       "21903           organic baby spinach        26233.0\n",
       "47209           organic hass avocado        23629.0\n",
       "47766                organic avocado        18743.0\n",
       "27845             organic whole milk        16251.0\n",
       "47626                    large lemon        15044.0\n",
       "27966            organic raspberries        14748.0\n",
       "16797                   strawberries        13945.0\n",
       "26209                          limes        13327.0\n",
       "22935           organic yellow onion        11145.0\n",
       "24964                 organic garlic        10411.0\n",
       "45007               organic zucchini        10076.0\n",
       "49683                 cucumber kirby         9538.0\n",
       "28204             organic fuji apple         8989.0\n",
       "8277        apple honeycrisp organic         8836.0\n",
       "39275            organic blueberries         8799.0\n",
       "5876                   organic lemon         8412.0\n",
       "49235            organic half & half         8389.0"
      ]
     },
     "metadata": {},
     "output_type": "display_data"
    }
   ],
   "source": [
    "top20_reorder = df_order_products[df_order_products[\"reordered\"] == 1]\n",
    "top20_reorder = top20_reorder.groupby(\"product_id\")[\"product_id\"].count()\n",
    "print(top20_reorder)\n",
    "df_concat2 = pd.concat([product_names,top20_reorder], axis=\"columns\")\n",
    "print(df_concat2)\n",
    "df_concat2.columns = [\"product_name\",\"quantity_sold\"]\n",
    "sorted_df_concat2 = df_concat2.sort_values(\"quantity_sold\",ascending=False)\n",
    "display(sorted_df_concat2.head(20))"
   ]
  },
  {
   "cell_type": "code",
   "execution_count": 45,
   "id": "bb2e612e",
   "metadata": {},
   "outputs": [
    {
     "data": {
      "text/html": [
       "<div>\n",
       "<style scoped>\n",
       "    .dataframe tbody tr th:only-of-type {\n",
       "        vertical-align: middle;\n",
       "    }\n",
       "\n",
       "    .dataframe tbody tr th {\n",
       "        vertical-align: top;\n",
       "    }\n",
       "\n",
       "    .dataframe thead th {\n",
       "        text-align: right;\n",
       "    }\n",
       "</style>\n",
       "<table border=\"1\" class=\"dataframe\">\n",
       "  <thead>\n",
       "    <tr style=\"text-align: right;\">\n",
       "      <th></th>\n",
       "      <th>product_name_top20</th>\n",
       "      <th>quantity_sold_top20</th>\n",
       "      <th>quantity_sold_top20_recompra</th>\n",
       "    </tr>\n",
       "    <tr>\n",
       "      <th>product_id</th>\n",
       "      <th></th>\n",
       "      <th></th>\n",
       "      <th></th>\n",
       "    </tr>\n",
       "  </thead>\n",
       "  <tbody>\n",
       "    <tr>\n",
       "      <th>24852</th>\n",
       "      <td>banana</td>\n",
       "      <td>66050.0</td>\n",
       "      <td>55763.0</td>\n",
       "    </tr>\n",
       "    <tr>\n",
       "      <th>13176</th>\n",
       "      <td>bag of organic bananas</td>\n",
       "      <td>53297.0</td>\n",
       "      <td>44450.0</td>\n",
       "    </tr>\n",
       "    <tr>\n",
       "      <th>21137</th>\n",
       "      <td>organic strawberries</td>\n",
       "      <td>37039.0</td>\n",
       "      <td>28639.0</td>\n",
       "    </tr>\n",
       "    <tr>\n",
       "      <th>21903</th>\n",
       "      <td>organic baby spinach</td>\n",
       "      <td>33971.0</td>\n",
       "      <td>26233.0</td>\n",
       "    </tr>\n",
       "    <tr>\n",
       "      <th>47209</th>\n",
       "      <td>organic hass avocado</td>\n",
       "      <td>29773.0</td>\n",
       "      <td>23629.0</td>\n",
       "    </tr>\n",
       "    <tr>\n",
       "      <th>47766</th>\n",
       "      <td>organic avocado</td>\n",
       "      <td>24689.0</td>\n",
       "      <td>18743.0</td>\n",
       "    </tr>\n",
       "    <tr>\n",
       "      <th>47626</th>\n",
       "      <td>large lemon</td>\n",
       "      <td>21495.0</td>\n",
       "      <td>15044.0</td>\n",
       "    </tr>\n",
       "    <tr>\n",
       "      <th>16797</th>\n",
       "      <td>strawberries</td>\n",
       "      <td>20018.0</td>\n",
       "      <td>13945.0</td>\n",
       "    </tr>\n",
       "    <tr>\n",
       "      <th>26209</th>\n",
       "      <td>limes</td>\n",
       "      <td>19690.0</td>\n",
       "      <td>13327.0</td>\n",
       "    </tr>\n",
       "    <tr>\n",
       "      <th>27845</th>\n",
       "      <td>organic whole milk</td>\n",
       "      <td>19600.0</td>\n",
       "      <td>16251.0</td>\n",
       "    </tr>\n",
       "    <tr>\n",
       "      <th>27966</th>\n",
       "      <td>organic raspberries</td>\n",
       "      <td>19197.0</td>\n",
       "      <td>14748.0</td>\n",
       "    </tr>\n",
       "    <tr>\n",
       "      <th>22935</th>\n",
       "      <td>organic yellow onion</td>\n",
       "      <td>15898.0</td>\n",
       "      <td>11145.0</td>\n",
       "    </tr>\n",
       "    <tr>\n",
       "      <th>24964</th>\n",
       "      <td>organic garlic</td>\n",
       "      <td>15292.0</td>\n",
       "      <td>10411.0</td>\n",
       "    </tr>\n",
       "    <tr>\n",
       "      <th>45007</th>\n",
       "      <td>organic zucchini</td>\n",
       "      <td>14584.0</td>\n",
       "      <td>10076.0</td>\n",
       "    </tr>\n",
       "    <tr>\n",
       "      <th>39275</th>\n",
       "      <td>organic blueberries</td>\n",
       "      <td>13879.0</td>\n",
       "      <td>8799.0</td>\n",
       "    </tr>\n",
       "    <tr>\n",
       "      <th>49683</th>\n",
       "      <td>cucumber kirby</td>\n",
       "      <td>13675.0</td>\n",
       "      <td>9538.0</td>\n",
       "    </tr>\n",
       "    <tr>\n",
       "      <th>28204</th>\n",
       "      <td>organic fuji apple</td>\n",
       "      <td>12544.0</td>\n",
       "      <td>8989.0</td>\n",
       "    </tr>\n",
       "    <tr>\n",
       "      <th>5876</th>\n",
       "      <td>organic lemon</td>\n",
       "      <td>12232.0</td>\n",
       "      <td>8412.0</td>\n",
       "    </tr>\n",
       "    <tr>\n",
       "      <th>8277</th>\n",
       "      <td>apple honeycrisp organic</td>\n",
       "      <td>11993.0</td>\n",
       "      <td>8836.0</td>\n",
       "    </tr>\n",
       "    <tr>\n",
       "      <th>40706</th>\n",
       "      <td>organic grape tomatoes</td>\n",
       "      <td>11781.0</td>\n",
       "      <td>7793.0</td>\n",
       "    </tr>\n",
       "  </tbody>\n",
       "</table>\n",
       "</div>"
      ],
      "text/plain": [
       "                  product_name_top20  quantity_sold_top20  \\\n",
       "product_id                                                  \n",
       "24852                         banana              66050.0   \n",
       "13176         bag of organic bananas              53297.0   \n",
       "21137           organic strawberries              37039.0   \n",
       "21903           organic baby spinach              33971.0   \n",
       "47209           organic hass avocado              29773.0   \n",
       "47766                organic avocado              24689.0   \n",
       "47626                    large lemon              21495.0   \n",
       "16797                   strawberries              20018.0   \n",
       "26209                          limes              19690.0   \n",
       "27845             organic whole milk              19600.0   \n",
       "27966            organic raspberries              19197.0   \n",
       "22935           organic yellow onion              15898.0   \n",
       "24964                 organic garlic              15292.0   \n",
       "45007               organic zucchini              14584.0   \n",
       "39275            organic blueberries              13879.0   \n",
       "49683                 cucumber kirby              13675.0   \n",
       "28204             organic fuji apple              12544.0   \n",
       "5876                   organic lemon              12232.0   \n",
       "8277        apple honeycrisp organic              11993.0   \n",
       "40706         organic grape tomatoes              11781.0   \n",
       "\n",
       "            quantity_sold_top20_recompra  \n",
       "product_id                                \n",
       "24852                            55763.0  \n",
       "13176                            44450.0  \n",
       "21137                            28639.0  \n",
       "21903                            26233.0  \n",
       "47209                            23629.0  \n",
       "47766                            18743.0  \n",
       "47626                            15044.0  \n",
       "16797                            13945.0  \n",
       "26209                            13327.0  \n",
       "27845                            16251.0  \n",
       "27966                            14748.0  \n",
       "22935                            11145.0  \n",
       "24964                            10411.0  \n",
       "45007                            10076.0  \n",
       "39275                             8799.0  \n",
       "49683                             9538.0  \n",
       "28204                             8989.0  \n",
       "5876                              8412.0  \n",
       "8277                              8836.0  \n",
       "40706                             7793.0  "
      ]
     },
     "metadata": {},
     "output_type": "display_data"
    }
   ],
   "source": [
    "merged_top20 = sorted_df_concat.merge(\n",
    "    sorted_df_concat2,\n",
    "    on=\"product_id\",\n",
    "    how=\"inner\",\n",
    "    suffixes=[\"_top20\",\"_top20_recompra\"]\n",
    ")\n",
    "merged_top20 = merged_top20.drop(\"product_name_top20_recompra\", axis=\"columns\")\n",
    "display(merged_top20.head(20))"
   ]
  },
  {
   "cell_type": "markdown",
   "id": "80e70c74",
   "metadata": {
    "id": "80e70c74"
   },
   "source": [
    "Conclusions:\n",
    "- The top20 products and top20 repurchase are pretty similar. Top20 repurchase has less quantity sold than top20. The top 6 items on both groups are the same.\n",
    "- All products from top20 repurchase are vegetables, fruits and milk\n",
    "- The list above shows common items between top20 and top20 repurchase and their quantities\n"
   ]
  },
  {
   "cell_type": "code",
   "execution_count": 46,
   "id": "8ae9f4b1",
   "metadata": {
    "id": "8ae9f4b1",
    "scrolled": false
   },
   "outputs": [
    {
     "data": {
      "text/html": [
       "<div>\n",
       "<style scoped>\n",
       "    .dataframe tbody tr th:only-of-type {\n",
       "        vertical-align: middle;\n",
       "    }\n",
       "\n",
       "    .dataframe tbody tr th {\n",
       "        vertical-align: top;\n",
       "    }\n",
       "\n",
       "    .dataframe thead th {\n",
       "        text-align: right;\n",
       "    }\n",
       "</style>\n",
       "<table border=\"1\" class=\"dataframe\">\n",
       "  <thead>\n",
       "    <tr style=\"text-align: right;\">\n",
       "      <th></th>\n",
       "      <th>product_name</th>\n",
       "      <th>qty_1st_order</th>\n",
       "      <th>qty_reordered</th>\n",
       "      <th>%_reordered</th>\n",
       "    </tr>\n",
       "    <tr>\n",
       "      <th>product_id</th>\n",
       "      <th></th>\n",
       "      <th></th>\n",
       "      <th></th>\n",
       "      <th></th>\n",
       "    </tr>\n",
       "  </thead>\n",
       "  <tbody>\n",
       "    <tr>\n",
       "      <th>10236</th>\n",
       "      <td>fragrance free clay with natural odor eliminat...</td>\n",
       "      <td>1.0</td>\n",
       "      <td>20.0</td>\n",
       "      <td>0.952381</td>\n",
       "    </tr>\n",
       "    <tr>\n",
       "      <th>5470</th>\n",
       "      <td>tequila reposado</td>\n",
       "      <td>1.0</td>\n",
       "      <td>18.0</td>\n",
       "      <td>0.947368</td>\n",
       "    </tr>\n",
       "    <tr>\n",
       "      <th>8867</th>\n",
       "      <td>artisan multigrain bread</td>\n",
       "      <td>1.0</td>\n",
       "      <td>17.0</td>\n",
       "      <td>0.944444</td>\n",
       "    </tr>\n",
       "    <tr>\n",
       "      <th>20783</th>\n",
       "      <td>super detox acai noni goji</td>\n",
       "      <td>1.0</td>\n",
       "      <td>17.0</td>\n",
       "      <td>0.944444</td>\n",
       "    </tr>\n",
       "    <tr>\n",
       "      <th>27041</th>\n",
       "      <td>mushroom stems &amp; pieces</td>\n",
       "      <td>1.0</td>\n",
       "      <td>15.0</td>\n",
       "      <td>0.937500</td>\n",
       "    </tr>\n",
       "    <tr>\n",
       "      <th>22049</th>\n",
       "      <td>organic blue corn tortila chips</td>\n",
       "      <td>1.0</td>\n",
       "      <td>14.0</td>\n",
       "      <td>0.933333</td>\n",
       "    </tr>\n",
       "    <tr>\n",
       "      <th>8428</th>\n",
       "      <td>fresh squeezed ipa</td>\n",
       "      <td>1.0</td>\n",
       "      <td>14.0</td>\n",
       "      <td>0.933333</td>\n",
       "    </tr>\n",
       "    <tr>\n",
       "      <th>13240</th>\n",
       "      <td>licorice- twists- black</td>\n",
       "      <td>1.0</td>\n",
       "      <td>13.0</td>\n",
       "      <td>0.928571</td>\n",
       "    </tr>\n",
       "    <tr>\n",
       "      <th>45523</th>\n",
       "      <td>dark 83% pure dark chocolate bite</td>\n",
       "      <td>1.0</td>\n",
       "      <td>13.0</td>\n",
       "      <td>0.928571</td>\n",
       "    </tr>\n",
       "    <tr>\n",
       "      <th>40507</th>\n",
       "      <td>peach mango liquid water enhancer</td>\n",
       "      <td>1.0</td>\n",
       "      <td>12.0</td>\n",
       "      <td>0.923077</td>\n",
       "    </tr>\n",
       "    <tr>\n",
       "      <th>1078</th>\n",
       "      <td>french vanilla creme protein energy bars</td>\n",
       "      <td>1.0</td>\n",
       "      <td>12.0</td>\n",
       "      <td>0.923077</td>\n",
       "    </tr>\n",
       "    <tr>\n",
       "      <th>15783</th>\n",
       "      <td>smoked 5 spice tofu</td>\n",
       "      <td>1.0</td>\n",
       "      <td>12.0</td>\n",
       "      <td>0.923077</td>\n",
       "    </tr>\n",
       "    <tr>\n",
       "      <th>27383</th>\n",
       "      <td>select tender chicken with crisp carrots &amp; lea...</td>\n",
       "      <td>1.0</td>\n",
       "      <td>11.0</td>\n",
       "      <td>0.916667</td>\n",
       "    </tr>\n",
       "    <tr>\n",
       "      <th>38873</th>\n",
       "      <td>calorie free seltzer water</td>\n",
       "      <td>1.0</td>\n",
       "      <td>11.0</td>\n",
       "      <td>0.916667</td>\n",
       "    </tr>\n",
       "    <tr>\n",
       "      <th>33256</th>\n",
       "      <td>no salt added stoneground mustard</td>\n",
       "      <td>1.0</td>\n",
       "      <td>11.0</td>\n",
       "      <td>0.916667</td>\n",
       "    </tr>\n",
       "    <tr>\n",
       "      <th>37698</th>\n",
       "      <td>sliced pears in heavy syrup</td>\n",
       "      <td>1.0</td>\n",
       "      <td>11.0</td>\n",
       "      <td>0.916667</td>\n",
       "    </tr>\n",
       "    <tr>\n",
       "      <th>44271</th>\n",
       "      <td>carbonated water</td>\n",
       "      <td>1.0</td>\n",
       "      <td>11.0</td>\n",
       "      <td>0.916667</td>\n",
       "    </tr>\n",
       "    <tr>\n",
       "      <th>7423</th>\n",
       "      <td>white chocolate raspberry protein bar</td>\n",
       "      <td>1.0</td>\n",
       "      <td>11.0</td>\n",
       "      <td>0.916667</td>\n",
       "    </tr>\n",
       "    <tr>\n",
       "      <th>16134</th>\n",
       "      <td>olive oil sea salt bar</td>\n",
       "      <td>1.0</td>\n",
       "      <td>11.0</td>\n",
       "      <td>0.916667</td>\n",
       "    </tr>\n",
       "    <tr>\n",
       "      <th>44741</th>\n",
       "      <td>honey whole wheat</td>\n",
       "      <td>3.0</td>\n",
       "      <td>31.0</td>\n",
       "      <td>0.911765</td>\n",
       "    </tr>\n",
       "    <tr>\n",
       "      <th>30228</th>\n",
       "      <td>salt water taffy</td>\n",
       "      <td>1.0</td>\n",
       "      <td>10.0</td>\n",
       "      <td>0.909091</td>\n",
       "    </tr>\n",
       "    <tr>\n",
       "      <th>11279</th>\n",
       "      <td>9 grain &amp; seed bread</td>\n",
       "      <td>1.0</td>\n",
       "      <td>10.0</td>\n",
       "      <td>0.909091</td>\n",
       "    </tr>\n",
       "    <tr>\n",
       "      <th>11708</th>\n",
       "      <td>apple cinnamon scones</td>\n",
       "      <td>1.0</td>\n",
       "      <td>10.0</td>\n",
       "      <td>0.909091</td>\n",
       "    </tr>\n",
       "    <tr>\n",
       "      <th>49049</th>\n",
       "      <td>ginger lemon gummi candy</td>\n",
       "      <td>1.0</td>\n",
       "      <td>10.0</td>\n",
       "      <td>0.909091</td>\n",
       "    </tr>\n",
       "    <tr>\n",
       "      <th>2075</th>\n",
       "      <td>serenity ultimate extrema overnight pads</td>\n",
       "      <td>1.0</td>\n",
       "      <td>10.0</td>\n",
       "      <td>0.909091</td>\n",
       "    </tr>\n",
       "    <tr>\n",
       "      <th>27029</th>\n",
       "      <td>strawberry cream covered biscuit sticks</td>\n",
       "      <td>1.0</td>\n",
       "      <td>10.0</td>\n",
       "      <td>0.909091</td>\n",
       "    </tr>\n",
       "    <tr>\n",
       "      <th>8982</th>\n",
       "      <td>savory shreds turkey &amp; cheese dinner in gravy ...</td>\n",
       "      <td>1.0</td>\n",
       "      <td>10.0</td>\n",
       "      <td>0.909091</td>\n",
       "    </tr>\n",
       "    <tr>\n",
       "      <th>19164</th>\n",
       "      <td>style pritns 18 oz. plastic cups</td>\n",
       "      <td>1.0</td>\n",
       "      <td>10.0</td>\n",
       "      <td>0.909091</td>\n",
       "    </tr>\n",
       "    <tr>\n",
       "      <th>38251</th>\n",
       "      <td>benchbreak chardonnay</td>\n",
       "      <td>1.0</td>\n",
       "      <td>10.0</td>\n",
       "      <td>0.909091</td>\n",
       "    </tr>\n",
       "    <tr>\n",
       "      <th>15187</th>\n",
       "      <td>berry sparkling water beverage</td>\n",
       "      <td>1.0</td>\n",
       "      <td>10.0</td>\n",
       "      <td>0.909091</td>\n",
       "    </tr>\n",
       "    <tr>\n",
       "      <th>24352</th>\n",
       "      <td>vanilla almondmilk</td>\n",
       "      <td>1.0</td>\n",
       "      <td>10.0</td>\n",
       "      <td>0.909091</td>\n",
       "    </tr>\n",
       "    <tr>\n",
       "      <th>48670</th>\n",
       "      <td>diet orange &amp; cream soda</td>\n",
       "      <td>1.0</td>\n",
       "      <td>10.0</td>\n",
       "      <td>0.909091</td>\n",
       "    </tr>\n",
       "    <tr>\n",
       "      <th>36084</th>\n",
       "      <td>fruitables tropical orange juice beverage</td>\n",
       "      <td>1.0</td>\n",
       "      <td>10.0</td>\n",
       "      <td>0.909091</td>\n",
       "    </tr>\n",
       "    <tr>\n",
       "      <th>2882</th>\n",
       "      <td>gentle care tissue rolls</td>\n",
       "      <td>1.0</td>\n",
       "      <td>10.0</td>\n",
       "      <td>0.909091</td>\n",
       "    </tr>\n",
       "    <tr>\n",
       "      <th>48041</th>\n",
       "      <td>danactive vanilla probiotic dairy drink</td>\n",
       "      <td>6.0</td>\n",
       "      <td>59.0</td>\n",
       "      <td>0.907692</td>\n",
       "    </tr>\n",
       "    <tr>\n",
       "      <th>5793</th>\n",
       "      <td>rehab tea + lemonade + energy</td>\n",
       "      <td>4.0</td>\n",
       "      <td>39.0</td>\n",
       "      <td>0.906977</td>\n",
       "    </tr>\n",
       "    <tr>\n",
       "      <th>17407</th>\n",
       "      <td>cranberry kombucha</td>\n",
       "      <td>3.0</td>\n",
       "      <td>28.0</td>\n",
       "      <td>0.903226</td>\n",
       "    </tr>\n",
       "    <tr>\n",
       "      <th>28094</th>\n",
       "      <td>sonic blood orange passion flavored dietary su...</td>\n",
       "      <td>1.0</td>\n",
       "      <td>9.0</td>\n",
       "      <td>0.900000</td>\n",
       "    </tr>\n",
       "    <tr>\n",
       "      <th>15997</th>\n",
       "      <td>non-fat goat milk yogurt</td>\n",
       "      <td>1.0</td>\n",
       "      <td>9.0</td>\n",
       "      <td>0.900000</td>\n",
       "    </tr>\n",
       "    <tr>\n",
       "      <th>22901</th>\n",
       "      <td>soft frozen strawberry lemonade</td>\n",
       "      <td>1.0</td>\n",
       "      <td>9.0</td>\n",
       "      <td>0.900000</td>\n",
       "    </tr>\n",
       "    <tr>\n",
       "      <th>1696</th>\n",
       "      <td>honey oat</td>\n",
       "      <td>1.0</td>\n",
       "      <td>9.0</td>\n",
       "      <td>0.900000</td>\n",
       "    </tr>\n",
       "    <tr>\n",
       "      <th>2142</th>\n",
       "      <td>gourmet french roast ground coffee</td>\n",
       "      <td>1.0</td>\n",
       "      <td>9.0</td>\n",
       "      <td>0.900000</td>\n",
       "    </tr>\n",
       "    <tr>\n",
       "      <th>36948</th>\n",
       "      <td>rehab lemonade tea</td>\n",
       "      <td>2.0</td>\n",
       "      <td>18.0</td>\n",
       "      <td>0.900000</td>\n",
       "    </tr>\n",
       "    <tr>\n",
       "      <th>22546</th>\n",
       "      <td>choice cuts in gravy country stew wet dog food</td>\n",
       "      <td>1.0</td>\n",
       "      <td>9.0</td>\n",
       "      <td>0.900000</td>\n",
       "    </tr>\n",
       "    <tr>\n",
       "      <th>6211</th>\n",
       "      <td>g series lemon lime sports drink</td>\n",
       "      <td>1.0</td>\n",
       "      <td>9.0</td>\n",
       "      <td>0.900000</td>\n",
       "    </tr>\n",
       "    <tr>\n",
       "      <th>25652</th>\n",
       "      <td>raisin mochi</td>\n",
       "      <td>1.0</td>\n",
       "      <td>9.0</td>\n",
       "      <td>0.900000</td>\n",
       "    </tr>\n",
       "    <tr>\n",
       "      <th>41517</th>\n",
       "      <td>sidekicks chocolate shake</td>\n",
       "      <td>1.0</td>\n",
       "      <td>9.0</td>\n",
       "      <td>0.900000</td>\n",
       "    </tr>\n",
       "    <tr>\n",
       "      <th>25491</th>\n",
       "      <td>babaganus</td>\n",
       "      <td>1.0</td>\n",
       "      <td>9.0</td>\n",
       "      <td>0.900000</td>\n",
       "    </tr>\n",
       "    <tr>\n",
       "      <th>39062</th>\n",
       "      <td>wasabi rice snack</td>\n",
       "      <td>1.0</td>\n",
       "      <td>9.0</td>\n",
       "      <td>0.900000</td>\n",
       "    </tr>\n",
       "    <tr>\n",
       "      <th>42698</th>\n",
       "      <td>hot pork sausage</td>\n",
       "      <td>1.0</td>\n",
       "      <td>9.0</td>\n",
       "      <td>0.900000</td>\n",
       "    </tr>\n",
       "    <tr>\n",
       "      <th>10759</th>\n",
       "      <td>iced mocha</td>\n",
       "      <td>1.0</td>\n",
       "      <td>9.0</td>\n",
       "      <td>0.900000</td>\n",
       "    </tr>\n",
       "    <tr>\n",
       "      <th>14067</th>\n",
       "      <td>puffed corn cereal</td>\n",
       "      <td>2.0</td>\n",
       "      <td>18.0</td>\n",
       "      <td>0.900000</td>\n",
       "    </tr>\n",
       "    <tr>\n",
       "      <th>30889</th>\n",
       "      <td>in water sardines</td>\n",
       "      <td>1.0</td>\n",
       "      <td>9.0</td>\n",
       "      <td>0.900000</td>\n",
       "    </tr>\n",
       "    <tr>\n",
       "      <th>8050</th>\n",
       "      <td>wonton strips garlic ginger</td>\n",
       "      <td>1.0</td>\n",
       "      <td>9.0</td>\n",
       "      <td>0.900000</td>\n",
       "    </tr>\n",
       "    <tr>\n",
       "      <th>25103</th>\n",
       "      <td>chocolate chip cookie dough nutrition bars</td>\n",
       "      <td>1.0</td>\n",
       "      <td>9.0</td>\n",
       "      <td>0.900000</td>\n",
       "    </tr>\n",
       "    <tr>\n",
       "      <th>15237</th>\n",
       "      <td>macaroni &amp; cheese refrigerated sides</td>\n",
       "      <td>1.0</td>\n",
       "      <td>9.0</td>\n",
       "      <td>0.900000</td>\n",
       "    </tr>\n",
       "    <tr>\n",
       "      <th>14300</th>\n",
       "      <td>bonito del norte in olive oil</td>\n",
       "      <td>1.0</td>\n",
       "      <td>9.0</td>\n",
       "      <td>0.900000</td>\n",
       "    </tr>\n",
       "    <tr>\n",
       "      <th>12009</th>\n",
       "      <td>umbrian lentil soup</td>\n",
       "      <td>2.0</td>\n",
       "      <td>17.0</td>\n",
       "      <td>0.894737</td>\n",
       "    </tr>\n",
       "    <tr>\n",
       "      <th>19030</th>\n",
       "      <td>no calories no caffeine seltzer water</td>\n",
       "      <td>2.0</td>\n",
       "      <td>17.0</td>\n",
       "      <td>0.894737</td>\n",
       "    </tr>\n",
       "    <tr>\n",
       "      <th>29281</th>\n",
       "      <td>natural atrisan granola original</td>\n",
       "      <td>2.0</td>\n",
       "      <td>17.0</td>\n",
       "      <td>0.894737</td>\n",
       "    </tr>\n",
       "  </tbody>\n",
       "</table>\n",
       "</div>"
      ],
      "text/plain": [
       "                                                 product_name  qty_1st_order  \\\n",
       "product_id                                                                     \n",
       "10236       fragrance free clay with natural odor eliminat...            1.0   \n",
       "5470                                         tequila reposado            1.0   \n",
       "8867                                 artisan multigrain bread            1.0   \n",
       "20783                              super detox acai noni goji            1.0   \n",
       "27041                                 mushroom stems & pieces            1.0   \n",
       "22049                         organic blue corn tortila chips            1.0   \n",
       "8428                                       fresh squeezed ipa            1.0   \n",
       "13240                                 licorice- twists- black            1.0   \n",
       "45523                       dark 83% pure dark chocolate bite            1.0   \n",
       "40507                       peach mango liquid water enhancer            1.0   \n",
       "1078                 french vanilla creme protein energy bars            1.0   \n",
       "15783                                     smoked 5 spice tofu            1.0   \n",
       "27383       select tender chicken with crisp carrots & lea...            1.0   \n",
       "38873                              calorie free seltzer water            1.0   \n",
       "33256                       no salt added stoneground mustard            1.0   \n",
       "37698                             sliced pears in heavy syrup            1.0   \n",
       "44271                                        carbonated water            1.0   \n",
       "7423                    white chocolate raspberry protein bar            1.0   \n",
       "16134                                  olive oil sea salt bar            1.0   \n",
       "44741                                       honey whole wheat            3.0   \n",
       "30228                                        salt water taffy            1.0   \n",
       "11279                                    9 grain & seed bread            1.0   \n",
       "11708                                   apple cinnamon scones            1.0   \n",
       "49049                                ginger lemon gummi candy            1.0   \n",
       "2075                 serenity ultimate extrema overnight pads            1.0   \n",
       "27029                 strawberry cream covered biscuit sticks            1.0   \n",
       "8982        savory shreds turkey & cheese dinner in gravy ...            1.0   \n",
       "19164                        style pritns 18 oz. plastic cups            1.0   \n",
       "38251                                   benchbreak chardonnay            1.0   \n",
       "15187                          berry sparkling water beverage            1.0   \n",
       "24352                                      vanilla almondmilk            1.0   \n",
       "48670                                diet orange & cream soda            1.0   \n",
       "36084               fruitables tropical orange juice beverage            1.0   \n",
       "2882                                 gentle care tissue rolls            1.0   \n",
       "48041                 danactive vanilla probiotic dairy drink            6.0   \n",
       "5793                            rehab tea + lemonade + energy            4.0   \n",
       "17407                                      cranberry kombucha            3.0   \n",
       "28094       sonic blood orange passion flavored dietary su...            1.0   \n",
       "15997                                non-fat goat milk yogurt            1.0   \n",
       "22901                         soft frozen strawberry lemonade            1.0   \n",
       "1696                                                honey oat            1.0   \n",
       "2142                       gourmet french roast ground coffee            1.0   \n",
       "36948                                      rehab lemonade tea            2.0   \n",
       "22546          choice cuts in gravy country stew wet dog food            1.0   \n",
       "6211                         g series lemon lime sports drink            1.0   \n",
       "25652                                            raisin mochi            1.0   \n",
       "41517                               sidekicks chocolate shake            1.0   \n",
       "25491                                               babaganus            1.0   \n",
       "39062                                       wasabi rice snack            1.0   \n",
       "42698                                        hot pork sausage            1.0   \n",
       "10759                                              iced mocha            1.0   \n",
       "14067                                      puffed corn cereal            2.0   \n",
       "30889                                       in water sardines            1.0   \n",
       "8050                              wonton strips garlic ginger            1.0   \n",
       "25103              chocolate chip cookie dough nutrition bars            1.0   \n",
       "15237                    macaroni & cheese refrigerated sides            1.0   \n",
       "14300                           bonito del norte in olive oil            1.0   \n",
       "12009                                     umbrian lentil soup            2.0   \n",
       "19030                   no calories no caffeine seltzer water            2.0   \n",
       "29281                        natural atrisan granola original            2.0   \n",
       "\n",
       "            qty_reordered  %_reordered  \n",
       "product_id                              \n",
       "10236                20.0     0.952381  \n",
       "5470                 18.0     0.947368  \n",
       "8867                 17.0     0.944444  \n",
       "20783                17.0     0.944444  \n",
       "27041                15.0     0.937500  \n",
       "22049                14.0     0.933333  \n",
       "8428                 14.0     0.933333  \n",
       "13240                13.0     0.928571  \n",
       "45523                13.0     0.928571  \n",
       "40507                12.0     0.923077  \n",
       "1078                 12.0     0.923077  \n",
       "15783                12.0     0.923077  \n",
       "27383                11.0     0.916667  \n",
       "38873                11.0     0.916667  \n",
       "33256                11.0     0.916667  \n",
       "37698                11.0     0.916667  \n",
       "44271                11.0     0.916667  \n",
       "7423                 11.0     0.916667  \n",
       "16134                11.0     0.916667  \n",
       "44741                31.0     0.911765  \n",
       "30228                10.0     0.909091  \n",
       "11279                10.0     0.909091  \n",
       "11708                10.0     0.909091  \n",
       "49049                10.0     0.909091  \n",
       "2075                 10.0     0.909091  \n",
       "27029                10.0     0.909091  \n",
       "8982                 10.0     0.909091  \n",
       "19164                10.0     0.909091  \n",
       "38251                10.0     0.909091  \n",
       "15187                10.0     0.909091  \n",
       "24352                10.0     0.909091  \n",
       "48670                10.0     0.909091  \n",
       "36084                10.0     0.909091  \n",
       "2882                 10.0     0.909091  \n",
       "48041                59.0     0.907692  \n",
       "5793                 39.0     0.906977  \n",
       "17407                28.0     0.903226  \n",
       "28094                 9.0     0.900000  \n",
       "15997                 9.0     0.900000  \n",
       "22901                 9.0     0.900000  \n",
       "1696                  9.0     0.900000  \n",
       "2142                  9.0     0.900000  \n",
       "36948                18.0     0.900000  \n",
       "22546                 9.0     0.900000  \n",
       "6211                  9.0     0.900000  \n",
       "25652                 9.0     0.900000  \n",
       "41517                 9.0     0.900000  \n",
       "25491                 9.0     0.900000  \n",
       "39062                 9.0     0.900000  \n",
       "42698                 9.0     0.900000  \n",
       "10759                 9.0     0.900000  \n",
       "14067                18.0     0.900000  \n",
       "30889                 9.0     0.900000  \n",
       "8050                  9.0     0.900000  \n",
       "25103                 9.0     0.900000  \n",
       "15237                 9.0     0.900000  \n",
       "14300                 9.0     0.900000  \n",
       "12009                17.0     0.894737  \n",
       "19030                17.0     0.894737  \n",
       "29281                17.0     0.894737  "
      ]
     },
     "metadata": {},
     "output_type": "display_data"
    }
   ],
   "source": [
    "order_products_pivot = df_order_products.pivot_table(\n",
    "    index=\"product_id\",\n",
    "    columns=\"reordered\",\n",
    "    values=\"order_id\",\n",
    "    aggfunc=\"count\",\n",
    ")\n",
    "order_products_pivot[\"total_reordered_%\"] = order_products_pivot[1] / (order_products_pivot[0] + order_products_pivot[1])\n",
    "concat_reordered = pd.concat([product_names,order_products_pivot], axis=\"columns\")\n",
    "concat_reordered = concat_reordered.sort_values(\"total_reordered_%\",ascending=False)\n",
    "concat_reordered.columns = [\"product_name\",\"qty_1st_order\",\"qty_reordered\",\"%_reordered\"]\n",
    "display(concat_reordered.head(60))"
   ]
  },
  {
   "cell_type": "markdown",
   "id": "I10dEIAyldcO",
   "metadata": {
    "id": "I10dEIAyldcO"
   },
   "source": [
    "Conclusions:\n",
    "- There are 56 products with over 90% reorder factor\n",
    "- Most of these products had only one sale on the first order, all others are repurchases"
   ]
  },
  {
   "cell_type": "code",
   "execution_count": 47,
   "id": "medical-couple",
   "metadata": {
    "id": "medical-couple",
    "scrolled": false
   },
   "outputs": [
    {
     "data": {
      "text/html": [
       "<div>\n",
       "<style scoped>\n",
       "    .dataframe tbody tr th:only-of-type {\n",
       "        vertical-align: middle;\n",
       "    }\n",
       "\n",
       "    .dataframe tbody tr th {\n",
       "        vertical-align: top;\n",
       "    }\n",
       "\n",
       "    .dataframe thead th {\n",
       "        text-align: right;\n",
       "    }\n",
       "</style>\n",
       "<table border=\"1\" class=\"dataframe\">\n",
       "  <thead>\n",
       "    <tr style=\"text-align: right;\">\n",
       "      <th></th>\n",
       "      <th>qty_1st_order</th>\n",
       "      <th>qty_reordered</th>\n",
       "      <th>%_reordered</th>\n",
       "    </tr>\n",
       "    <tr>\n",
       "      <th>user_id</th>\n",
       "      <th></th>\n",
       "      <th></th>\n",
       "      <th></th>\n",
       "    </tr>\n",
       "  </thead>\n",
       "  <tbody>\n",
       "    <tr>\n",
       "      <th>2</th>\n",
       "      <td>25.0</td>\n",
       "      <td>1.0</td>\n",
       "      <td>0.038462</td>\n",
       "    </tr>\n",
       "    <tr>\n",
       "      <th>4</th>\n",
       "      <td>2.0</td>\n",
       "      <td>NaN</td>\n",
       "      <td>NaN</td>\n",
       "    </tr>\n",
       "    <tr>\n",
       "      <th>5</th>\n",
       "      <td>4.0</td>\n",
       "      <td>8.0</td>\n",
       "      <td>0.666667</td>\n",
       "    </tr>\n",
       "    <tr>\n",
       "      <th>6</th>\n",
       "      <td>4.0</td>\n",
       "      <td>NaN</td>\n",
       "      <td>NaN</td>\n",
       "    </tr>\n",
       "    <tr>\n",
       "      <th>7</th>\n",
       "      <td>1.0</td>\n",
       "      <td>13.0</td>\n",
       "      <td>0.928571</td>\n",
       "    </tr>\n",
       "    <tr>\n",
       "      <th>11</th>\n",
       "      <td>12.0</td>\n",
       "      <td>3.0</td>\n",
       "      <td>0.200000</td>\n",
       "    </tr>\n",
       "    <tr>\n",
       "      <th>12</th>\n",
       "      <td>9.0</td>\n",
       "      <td>3.0</td>\n",
       "      <td>0.250000</td>\n",
       "    </tr>\n",
       "    <tr>\n",
       "      <th>13</th>\n",
       "      <td>10.0</td>\n",
       "      <td>13.0</td>\n",
       "      <td>0.565217</td>\n",
       "    </tr>\n",
       "    <tr>\n",
       "      <th>14</th>\n",
       "      <td>39.0</td>\n",
       "      <td>22.0</td>\n",
       "      <td>0.360656</td>\n",
       "    </tr>\n",
       "    <tr>\n",
       "      <th>15</th>\n",
       "      <td>6.0</td>\n",
       "      <td>7.0</td>\n",
       "      <td>0.538462</td>\n",
       "    </tr>\n",
       "    <tr>\n",
       "      <th>16</th>\n",
       "      <td>15.0</td>\n",
       "      <td>17.0</td>\n",
       "      <td>0.531250</td>\n",
       "    </tr>\n",
       "    <tr>\n",
       "      <th>17</th>\n",
       "      <td>15.0</td>\n",
       "      <td>38.0</td>\n",
       "      <td>0.716981</td>\n",
       "    </tr>\n",
       "    <tr>\n",
       "      <th>19</th>\n",
       "      <td>34.0</td>\n",
       "      <td>14.0</td>\n",
       "      <td>0.291667</td>\n",
       "    </tr>\n",
       "    <tr>\n",
       "      <th>20</th>\n",
       "      <td>4.0</td>\n",
       "      <td>NaN</td>\n",
       "      <td>NaN</td>\n",
       "    </tr>\n",
       "    <tr>\n",
       "      <th>21</th>\n",
       "      <td>12.0</td>\n",
       "      <td>8.0</td>\n",
       "      <td>0.400000</td>\n",
       "    </tr>\n",
       "    <tr>\n",
       "      <th>22</th>\n",
       "      <td>NaN</td>\n",
       "      <td>6.0</td>\n",
       "      <td>NaN</td>\n",
       "    </tr>\n",
       "    <tr>\n",
       "      <th>24</th>\n",
       "      <td>1.0</td>\n",
       "      <td>1.0</td>\n",
       "      <td>0.500000</td>\n",
       "    </tr>\n",
       "    <tr>\n",
       "      <th>26</th>\n",
       "      <td>9.0</td>\n",
       "      <td>7.0</td>\n",
       "      <td>0.437500</td>\n",
       "    </tr>\n",
       "    <tr>\n",
       "      <th>27</th>\n",
       "      <td>29.0</td>\n",
       "      <td>56.0</td>\n",
       "      <td>0.658824</td>\n",
       "    </tr>\n",
       "    <tr>\n",
       "      <th>28</th>\n",
       "      <td>22.0</td>\n",
       "      <td>22.0</td>\n",
       "      <td>0.500000</td>\n",
       "    </tr>\n",
       "    <tr>\n",
       "      <th>29</th>\n",
       "      <td>2.0</td>\n",
       "      <td>11.0</td>\n",
       "      <td>0.846154</td>\n",
       "    </tr>\n",
       "    <tr>\n",
       "      <th>30</th>\n",
       "      <td>3.0</td>\n",
       "      <td>NaN</td>\n",
       "      <td>NaN</td>\n",
       "    </tr>\n",
       "    <tr>\n",
       "      <th>31</th>\n",
       "      <td>64.0</td>\n",
       "      <td>28.0</td>\n",
       "      <td>0.304348</td>\n",
       "    </tr>\n",
       "    <tr>\n",
       "      <th>33</th>\n",
       "      <td>9.0</td>\n",
       "      <td>8.0</td>\n",
       "      <td>0.470588</td>\n",
       "    </tr>\n",
       "    <tr>\n",
       "      <th>34</th>\n",
       "      <td>1.0</td>\n",
       "      <td>NaN</td>\n",
       "      <td>NaN</td>\n",
       "    </tr>\n",
       "    <tr>\n",
       "      <th>35</th>\n",
       "      <td>17.0</td>\n",
       "      <td>16.0</td>\n",
       "      <td>0.484848</td>\n",
       "    </tr>\n",
       "    <tr>\n",
       "      <th>36</th>\n",
       "      <td>10.0</td>\n",
       "      <td>20.0</td>\n",
       "      <td>0.666667</td>\n",
       "    </tr>\n",
       "    <tr>\n",
       "      <th>37</th>\n",
       "      <td>10.0</td>\n",
       "      <td>4.0</td>\n",
       "      <td>0.285714</td>\n",
       "    </tr>\n",
       "    <tr>\n",
       "      <th>38</th>\n",
       "      <td>9.0</td>\n",
       "      <td>10.0</td>\n",
       "      <td>0.526316</td>\n",
       "    </tr>\n",
       "    <tr>\n",
       "      <th>40</th>\n",
       "      <td>21.0</td>\n",
       "      <td>15.0</td>\n",
       "      <td>0.416667</td>\n",
       "    </tr>\n",
       "    <tr>\n",
       "      <th>42</th>\n",
       "      <td>6.0</td>\n",
       "      <td>1.0</td>\n",
       "      <td>0.142857</td>\n",
       "    </tr>\n",
       "    <tr>\n",
       "      <th>43</th>\n",
       "      <td>21.0</td>\n",
       "      <td>12.0</td>\n",
       "      <td>0.363636</td>\n",
       "    </tr>\n",
       "    <tr>\n",
       "      <th>46</th>\n",
       "      <td>3.0</td>\n",
       "      <td>7.0</td>\n",
       "      <td>0.700000</td>\n",
       "    </tr>\n",
       "    <tr>\n",
       "      <th>47</th>\n",
       "      <td>4.0</td>\n",
       "      <td>2.0</td>\n",
       "      <td>0.333333</td>\n",
       "    </tr>\n",
       "    <tr>\n",
       "      <th>50</th>\n",
       "      <td>21.0</td>\n",
       "      <td>51.0</td>\n",
       "      <td>0.708333</td>\n",
       "    </tr>\n",
       "    <tr>\n",
       "      <th>52</th>\n",
       "      <td>5.0</td>\n",
       "      <td>5.0</td>\n",
       "      <td>0.500000</td>\n",
       "    </tr>\n",
       "    <tr>\n",
       "      <th>54</th>\n",
       "      <td>32.0</td>\n",
       "      <td>51.0</td>\n",
       "      <td>0.614458</td>\n",
       "    </tr>\n",
       "    <tr>\n",
       "      <th>56</th>\n",
       "      <td>14.0</td>\n",
       "      <td>13.0</td>\n",
       "      <td>0.481481</td>\n",
       "    </tr>\n",
       "    <tr>\n",
       "      <th>57</th>\n",
       "      <td>3.0</td>\n",
       "      <td>NaN</td>\n",
       "      <td>NaN</td>\n",
       "    </tr>\n",
       "    <tr>\n",
       "      <th>58</th>\n",
       "      <td>4.0</td>\n",
       "      <td>5.0</td>\n",
       "      <td>0.555556</td>\n",
       "    </tr>\n",
       "    <tr>\n",
       "      <th>59</th>\n",
       "      <td>12.0</td>\n",
       "      <td>8.0</td>\n",
       "      <td>0.400000</td>\n",
       "    </tr>\n",
       "    <tr>\n",
       "      <th>60</th>\n",
       "      <td>7.0</td>\n",
       "      <td>8.0</td>\n",
       "      <td>0.533333</td>\n",
       "    </tr>\n",
       "    <tr>\n",
       "      <th>61</th>\n",
       "      <td>9.0</td>\n",
       "      <td>3.0</td>\n",
       "      <td>0.250000</td>\n",
       "    </tr>\n",
       "    <tr>\n",
       "      <th>62</th>\n",
       "      <td>5.0</td>\n",
       "      <td>4.0</td>\n",
       "      <td>0.444444</td>\n",
       "    </tr>\n",
       "    <tr>\n",
       "      <th>63</th>\n",
       "      <td>9.0</td>\n",
       "      <td>25.0</td>\n",
       "      <td>0.735294</td>\n",
       "    </tr>\n",
       "    <tr>\n",
       "      <th>65</th>\n",
       "      <td>8.0</td>\n",
       "      <td>6.0</td>\n",
       "      <td>0.428571</td>\n",
       "    </tr>\n",
       "    <tr>\n",
       "      <th>66</th>\n",
       "      <td>1.0</td>\n",
       "      <td>NaN</td>\n",
       "      <td>NaN</td>\n",
       "    </tr>\n",
       "    <tr>\n",
       "      <th>67</th>\n",
       "      <td>8.0</td>\n",
       "      <td>9.0</td>\n",
       "      <td>0.529412</td>\n",
       "    </tr>\n",
       "    <tr>\n",
       "      <th>68</th>\n",
       "      <td>NaN</td>\n",
       "      <td>4.0</td>\n",
       "      <td>NaN</td>\n",
       "    </tr>\n",
       "    <tr>\n",
       "      <th>69</th>\n",
       "      <td>1.0</td>\n",
       "      <td>4.0</td>\n",
       "      <td>0.800000</td>\n",
       "    </tr>\n",
       "    <tr>\n",
       "      <th>70</th>\n",
       "      <td>7.0</td>\n",
       "      <td>7.0</td>\n",
       "      <td>0.500000</td>\n",
       "    </tr>\n",
       "    <tr>\n",
       "      <th>71</th>\n",
       "      <td>1.0</td>\n",
       "      <td>21.0</td>\n",
       "      <td>0.954545</td>\n",
       "    </tr>\n",
       "    <tr>\n",
       "      <th>72</th>\n",
       "      <td>1.0</td>\n",
       "      <td>4.0</td>\n",
       "      <td>0.800000</td>\n",
       "    </tr>\n",
       "    <tr>\n",
       "      <th>73</th>\n",
       "      <td>1.0</td>\n",
       "      <td>4.0</td>\n",
       "      <td>0.800000</td>\n",
       "    </tr>\n",
       "    <tr>\n",
       "      <th>74</th>\n",
       "      <td>3.0</td>\n",
       "      <td>1.0</td>\n",
       "      <td>0.250000</td>\n",
       "    </tr>\n",
       "    <tr>\n",
       "      <th>75</th>\n",
       "      <td>9.0</td>\n",
       "      <td>37.0</td>\n",
       "      <td>0.804348</td>\n",
       "    </tr>\n",
       "    <tr>\n",
       "      <th>77</th>\n",
       "      <td>23.0</td>\n",
       "      <td>16.0</td>\n",
       "      <td>0.410256</td>\n",
       "    </tr>\n",
       "    <tr>\n",
       "      <th>78</th>\n",
       "      <td>11.0</td>\n",
       "      <td>NaN</td>\n",
       "      <td>NaN</td>\n",
       "    </tr>\n",
       "    <tr>\n",
       "      <th>79</th>\n",
       "      <td>15.0</td>\n",
       "      <td>5.0</td>\n",
       "      <td>0.250000</td>\n",
       "    </tr>\n",
       "    <tr>\n",
       "      <th>80</th>\n",
       "      <td>2.0</td>\n",
       "      <td>13.0</td>\n",
       "      <td>0.866667</td>\n",
       "    </tr>\n",
       "  </tbody>\n",
       "</table>\n",
       "</div>"
      ],
      "text/plain": [
       "         qty_1st_order  qty_reordered  %_reordered\n",
       "user_id                                           \n",
       "2                 25.0            1.0     0.038462\n",
       "4                  2.0            NaN          NaN\n",
       "5                  4.0            8.0     0.666667\n",
       "6                  4.0            NaN          NaN\n",
       "7                  1.0           13.0     0.928571\n",
       "11                12.0            3.0     0.200000\n",
       "12                 9.0            3.0     0.250000\n",
       "13                10.0           13.0     0.565217\n",
       "14                39.0           22.0     0.360656\n",
       "15                 6.0            7.0     0.538462\n",
       "16                15.0           17.0     0.531250\n",
       "17                15.0           38.0     0.716981\n",
       "19                34.0           14.0     0.291667\n",
       "20                 4.0            NaN          NaN\n",
       "21                12.0            8.0     0.400000\n",
       "22                 NaN            6.0          NaN\n",
       "24                 1.0            1.0     0.500000\n",
       "26                 9.0            7.0     0.437500\n",
       "27                29.0           56.0     0.658824\n",
       "28                22.0           22.0     0.500000\n",
       "29                 2.0           11.0     0.846154\n",
       "30                 3.0            NaN          NaN\n",
       "31                64.0           28.0     0.304348\n",
       "33                 9.0            8.0     0.470588\n",
       "34                 1.0            NaN          NaN\n",
       "35                17.0           16.0     0.484848\n",
       "36                10.0           20.0     0.666667\n",
       "37                10.0            4.0     0.285714\n",
       "38                 9.0           10.0     0.526316\n",
       "40                21.0           15.0     0.416667\n",
       "42                 6.0            1.0     0.142857\n",
       "43                21.0           12.0     0.363636\n",
       "46                 3.0            7.0     0.700000\n",
       "47                 4.0            2.0     0.333333\n",
       "50                21.0           51.0     0.708333\n",
       "52                 5.0            5.0     0.500000\n",
       "54                32.0           51.0     0.614458\n",
       "56                14.0           13.0     0.481481\n",
       "57                 3.0            NaN          NaN\n",
       "58                 4.0            5.0     0.555556\n",
       "59                12.0            8.0     0.400000\n",
       "60                 7.0            8.0     0.533333\n",
       "61                 9.0            3.0     0.250000\n",
       "62                 5.0            4.0     0.444444\n",
       "63                 9.0           25.0     0.735294\n",
       "65                 8.0            6.0     0.428571\n",
       "66                 1.0            NaN          NaN\n",
       "67                 8.0            9.0     0.529412\n",
       "68                 NaN            4.0          NaN\n",
       "69                 1.0            4.0     0.800000\n",
       "70                 7.0            7.0     0.500000\n",
       "71                 1.0           21.0     0.954545\n",
       "72                 1.0            4.0     0.800000\n",
       "73                 1.0            4.0     0.800000\n",
       "74                 3.0            1.0     0.250000\n",
       "75                 9.0           37.0     0.804348\n",
       "77                23.0           16.0     0.410256\n",
       "78                11.0            NaN          NaN\n",
       "79                15.0            5.0     0.250000\n",
       "80                 2.0           13.0     0.866667"
      ]
     },
     "metadata": {},
     "output_type": "display_data"
    }
   ],
   "source": [
    "df_userid_orderid = df_orders.loc[:,[\"order_id\",\"user_id\"]]\n",
    "df_repeat_order = df_order_products.merge(\n",
    "    df_userid_orderid,\n",
    "    on=\"order_id\",\n",
    "    how=\"left\"\n",
    ")\n",
    "\n",
    "repeat_order_pivot = df_repeat_order.pivot_table(\n",
    "    index=\"user_id\",\n",
    "    columns=\"reordered\",\n",
    "    values=\"order_id\",\n",
    "    aggfunc=\"count\"\n",
    ")\n",
    "\n",
    "repeat_order_pivot[\"%_reordered\"] = repeat_order_pivot[1] / (repeat_order_pivot[0] + repeat_order_pivot[1])\n",
    "# repeat_order_pivot = repeat_order_pivot.sort_values(\"%_reordered\",ascending=False)\n",
    "repeat_order_pivot = repeat_order_pivot.sort_values(\"user_id\")\n",
    "repeat_order_pivot.columns = [\"qty_1st_order\",\"qty_reordered\",\"%_reordered\"]\n",
    "display(repeat_order_pivot.head(60))"
   ]
  },
  {
   "cell_type": "markdown",
   "id": "BgJSvXDsleXz",
   "metadata": {
    "id": "BgJSvXDsleXz"
   },
   "source": [
    "Conclusions:\n",
    "- 58 customers have over 98% reorder factor\n",
    "- Most of these customers had a single sale as first order, all others are repurchase"
   ]
  },
  {
   "cell_type": "code",
   "execution_count": 79,
   "id": "0ae57274",
   "metadata": {
    "id": "0ae57274",
    "scrolled": false
   },
   "outputs": [
    {
     "data": {
      "text/html": [
       "<div>\n",
       "<style scoped>\n",
       "    .dataframe tbody tr th:only-of-type {\n",
       "        vertical-align: middle;\n",
       "    }\n",
       "\n",
       "    .dataframe tbody tr th {\n",
       "        vertical-align: top;\n",
       "    }\n",
       "\n",
       "    .dataframe thead th {\n",
       "        text-align: right;\n",
       "    }\n",
       "</style>\n",
       "<table border=\"1\" class=\"dataframe\">\n",
       "  <thead>\n",
       "    <tr style=\"text-align: right;\">\n",
       "      <th></th>\n",
       "      <th>product_name</th>\n",
       "      <th>count</th>\n",
       "    </tr>\n",
       "    <tr>\n",
       "      <th>product_id</th>\n",
       "      <th></th>\n",
       "      <th></th>\n",
       "    </tr>\n",
       "  </thead>\n",
       "  <tbody>\n",
       "    <tr>\n",
       "      <th>24852</th>\n",
       "      <td>banana</td>\n",
       "      <td>15562</td>\n",
       "    </tr>\n",
       "    <tr>\n",
       "      <th>13176</th>\n",
       "      <td>bag of organic bananas</td>\n",
       "      <td>11026</td>\n",
       "    </tr>\n",
       "    <tr>\n",
       "      <th>27845</th>\n",
       "      <td>organic whole milk</td>\n",
       "      <td>4363</td>\n",
       "    </tr>\n",
       "    <tr>\n",
       "      <th>21137</th>\n",
       "      <td>organic strawberries</td>\n",
       "      <td>3946</td>\n",
       "    </tr>\n",
       "    <tr>\n",
       "      <th>47209</th>\n",
       "      <td>organic hass avocado</td>\n",
       "      <td>3390</td>\n",
       "    </tr>\n",
       "    <tr>\n",
       "      <th>21903</th>\n",
       "      <td>organic baby spinach</td>\n",
       "      <td>3336</td>\n",
       "    </tr>\n",
       "    <tr>\n",
       "      <th>47766</th>\n",
       "      <td>organic avocado</td>\n",
       "      <td>3044</td>\n",
       "    </tr>\n",
       "    <tr>\n",
       "      <th>19660</th>\n",
       "      <td>spring water</td>\n",
       "      <td>2336</td>\n",
       "    </tr>\n",
       "    <tr>\n",
       "      <th>16797</th>\n",
       "      <td>strawberries</td>\n",
       "      <td>2308</td>\n",
       "    </tr>\n",
       "    <tr>\n",
       "      <th>27966</th>\n",
       "      <td>organic raspberries</td>\n",
       "      <td>2024</td>\n",
       "    </tr>\n",
       "    <tr>\n",
       "      <th>44632</th>\n",
       "      <td>sparkling water grapefruit</td>\n",
       "      <td>1914</td>\n",
       "    </tr>\n",
       "    <tr>\n",
       "      <th>49235</th>\n",
       "      <td>organic half &amp; half</td>\n",
       "      <td>1797</td>\n",
       "    </tr>\n",
       "    <tr>\n",
       "      <th>47626</th>\n",
       "      <td>large lemon</td>\n",
       "      <td>1737</td>\n",
       "    </tr>\n",
       "    <tr>\n",
       "      <th>196</th>\n",
       "      <td>soda</td>\n",
       "      <td>1733</td>\n",
       "    </tr>\n",
       "    <tr>\n",
       "      <th>38689</th>\n",
       "      <td>organic reduced fat milk</td>\n",
       "      <td>1397</td>\n",
       "    </tr>\n",
       "    <tr>\n",
       "      <th>26209</th>\n",
       "      <td>limes</td>\n",
       "      <td>1370</td>\n",
       "    </tr>\n",
       "    <tr>\n",
       "      <th>12341</th>\n",
       "      <td>hass avocados</td>\n",
       "      <td>1340</td>\n",
       "    </tr>\n",
       "    <tr>\n",
       "      <th>5785</th>\n",
       "      <td>organic reduced fat 2% milk</td>\n",
       "      <td>1310</td>\n",
       "    </tr>\n",
       "    <tr>\n",
       "      <th>27086</th>\n",
       "      <td>half &amp; half</td>\n",
       "      <td>1309</td>\n",
       "    </tr>\n",
       "    <tr>\n",
       "      <th>43352</th>\n",
       "      <td>raspberries</td>\n",
       "      <td>1246</td>\n",
       "    </tr>\n",
       "  </tbody>\n",
       "</table>\n",
       "</div>"
      ],
      "text/plain": [
       "                           product_name  count\n",
       "product_id                                    \n",
       "24852                            banana  15562\n",
       "13176            bag of organic bananas  11026\n",
       "27845                organic whole milk   4363\n",
       "21137              organic strawberries   3946\n",
       "47209              organic hass avocado   3390\n",
       "21903              organic baby spinach   3336\n",
       "47766                   organic avocado   3044\n",
       "19660                      spring water   2336\n",
       "16797                      strawberries   2308\n",
       "27966               organic raspberries   2024\n",
       "44632        sparkling water grapefruit   1914\n",
       "49235               organic half & half   1797\n",
       "47626                       large lemon   1737\n",
       "196                                soda   1733\n",
       "38689          organic reduced fat milk   1397\n",
       "26209                             limes   1370\n",
       "12341                     hass avocados   1340\n",
       "5785        organic reduced fat 2% milk   1310\n",
       "27086                       half & half   1309\n",
       "43352                       raspberries   1246"
      ]
     },
     "metadata": {},
     "output_type": "display_data"
    }
   ],
   "source": [
    "\n",
    "df_top20cart = df_order_products[df_order_products[\"add_to_cart_order\"] == 1]\n",
    "# print(df_top20cart.head(50))\n",
    "# df_top20cart = df_top20cart.groupby(\"product_id\").value_counts()\n",
    "df_top20cart_pivot = df_top20cart.pivot_table(\n",
    "     index=\"product_id\",  \n",
    "     values=\"add_to_cart_order\",\n",
    "     aggfunc=\"count\"\n",
    ")\n",
    "df_top20cart_pivot = df_top20cart_pivot.sort_values(\"add_to_cart_order\",ascending=False).head(50)\n",
    "# print(df_top20cart_pivot.head(20))\n",
    "df_top20cart_merged = df_top20cart_pivot.merge(\n",
    "    product_names,\n",
    "    left_on=\"product_id\",\n",
    "    right_on=\"product_id\",\n",
    "    how=\"left\"\n",
    ")\n",
    "df_top20cart_merged.columns=[\"count\",\"product_name\"]\n",
    "df_top20cart_merged = df_top20cart_merged[[\"product_name\",\"count\"]]\n",
    "display(df_top20cart_merged.head(20))"
   ]
  },
  {
   "cell_type": "markdown",
   "id": "TisH_5Cp3wAi",
   "metadata": {
    "id": "TisH_5Cp3wAi"
   },
   "source": [
    "# General Conclusion of the Project"
   ]
  },
  {
   "cell_type": "markdown",
   "id": "696e5a79",
   "metadata": {
    "id": "Nk-4GS7mDwqY"
   },
   "source": [
    "Observações gerais:\n",
    "\n",
    "We observe a type of business where there is a high rate of repurchase of the same products,\n",
    "as well as these products being the first ones placed in the customers' carts.\n",
    "\n",
    "The data needed to be processed in the orders, products, and order_products dataframes so that the analysis could be carried out.\n",
    "\n",
    "Customers:\n",
    "Despite most customers buying between 6 to 9 items per order and making on average 1 to 5 orders,\n",
    "we see a high repurchase rate, especially in the categories of vegetables, fruits, and milk.\n",
    "\n",
    "People take an average of 11 days between one order and another, so from the 12th day, if the customer hasn't made a purchase yet,\n",
    "we can approach them with a marketing action to stimulate the purchase. Most orders are placed every 30 days, followed by every 7 days.\n",
    "\n",
    "We should concentrate marketing efforts on customers with a repurchase rate above 90% (for instance)\n",
    "to ensure revenue stability in the future. We must not lose these customers to the competition at all costs.\n",
    "\n",
    "We have a select group of customers (58) who had a repurchase rate above 98%, and these are the most important.\n",
    "\n",
    "Products:\n",
    "There are 56 products for which the percentage of repeated orders is above 90%. These products must never run out of stock.\n",
    "\n",
    "The top 20 best-selling products sold 11,781 times or more.\n",
    "\n",
    "The top 20 products, top 20 repurchased products, and the first 20 products placed in carts are practically the same.\n",
    "\n",
    "There are some products associated with aisle 21 (missing) and department 100 (missing) that need to be\n",
    "categorized by aisle and department.\n",
    "\n",
    "Orders:\n",
    "The days of the week with the most orders are Sunday and Monday, so we should focus our marketing efforts on these days.\n",
    "\n",
    "On Wednesdays and Saturdays, we have the opportunity to increase sales by launching marketing actions from 9 AM to 5 PM,\n",
    "when we have the highest volume of orders.\n",
    "\n",
    "Overall, the peak order times are between 10 and 11 AM, followed by 2 to 3 PM.\n",
    "\n",
    "The period with the most orders is between 10 AM and 5 PM.\n",
    "\n",
    "\n",
    "\n"
   ]
  }
 ],
 "metadata": {
  "ExecuteTimeLog": [
   {
    "duration": 337,
    "start_time": "2024-06-11T18:47:05.015Z"
   },
   {
    "duration": 4543,
    "start_time": "2024-06-11T18:47:12.353Z"
   },
   {
    "duration": 1146,
    "start_time": "2024-06-11T18:47:18.072Z"
   },
   {
    "duration": 1238,
    "start_time": "2024-06-11T18:47:26.568Z"
   },
   {
    "duration": 360,
    "start_time": "2024-06-11T18:47:43.877Z"
   },
   {
    "duration": 120,
    "start_time": "2024-06-11T18:49:26.070Z"
   },
   {
    "duration": 158,
    "start_time": "2024-06-11T18:49:30.894Z"
   },
   {
    "duration": 93,
    "start_time": "2024-06-11T18:49:47.638Z"
   },
   {
    "duration": 345,
    "start_time": "2024-06-11T18:51:28.805Z"
   },
   {
    "duration": 324,
    "start_time": "2024-06-11T18:53:51.864Z"
   },
   {
    "duration": 316,
    "start_time": "2024-06-11T18:53:54.259Z"
   },
   {
    "duration": 32,
    "start_time": "2024-06-11T18:53:57.127Z"
   },
   {
    "duration": 308,
    "start_time": "2024-06-11T18:54:42.786Z"
   },
   {
    "duration": 41,
    "start_time": "2024-06-11T18:55:08.309Z"
   },
   {
    "duration": 183,
    "start_time": "2024-06-11T18:55:23.709Z"
   },
   {
    "duration": 57,
    "start_time": "2024-06-11T18:55:26.597Z"
   },
   {
    "duration": 46,
    "start_time": "2024-06-11T18:55:29.026Z"
   },
   {
    "duration": 34,
    "start_time": "2024-06-11T18:55:34.025Z"
   },
   {
    "duration": 299,
    "start_time": "2024-06-11T18:59:19.776Z"
   },
   {
    "duration": 302,
    "start_time": "2024-06-11T18:59:45.555Z"
   },
   {
    "duration": 324,
    "start_time": "2024-06-11T19:00:01.048Z"
   },
   {
    "duration": 315,
    "start_time": "2024-06-11T19:00:12.148Z"
   },
   {
    "duration": 207,
    "start_time": "2024-06-11T19:01:27.783Z"
   },
   {
    "duration": 319,
    "start_time": "2024-06-11T19:01:31.887Z"
   },
   {
    "duration": 157,
    "start_time": "2024-06-11T19:02:05.765Z"
   },
   {
    "duration": 166,
    "start_time": "2024-06-11T19:02:20.618Z"
   },
   {
    "duration": 294,
    "start_time": "2024-06-11T19:02:24.759Z"
   },
   {
    "duration": 171,
    "start_time": "2024-06-11T19:02:42.930Z"
   },
   {
    "duration": 190,
    "start_time": "2024-06-11T20:11:46.967Z"
   },
   {
    "duration": 158,
    "start_time": "2024-06-11T20:12:04.316Z"
   },
   {
    "duration": 277,
    "start_time": "2024-06-11T20:12:50.202Z"
   },
   {
    "duration": 277,
    "start_time": "2024-06-11T20:13:04.281Z"
   },
   {
    "duration": 171,
    "start_time": "2024-06-11T20:55:05.175Z"
   },
   {
    "duration": 177,
    "start_time": "2024-06-11T20:55:52.509Z"
   },
   {
    "duration": 179,
    "start_time": "2024-06-11T20:56:11.074Z"
   },
   {
    "duration": 173,
    "start_time": "2024-06-11T20:56:33.592Z"
   },
   {
    "duration": 188,
    "start_time": "2024-06-11T22:02:41.494Z"
   },
   {
    "duration": 50,
    "start_time": "2024-06-11T22:03:16.309Z"
   },
   {
    "duration": 26,
    "start_time": "2024-06-11T22:03:23.666Z"
   },
   {
    "duration": 50,
    "start_time": "2024-06-11T22:05:23.237Z"
   },
   {
    "duration": 44,
    "start_time": "2024-06-11T22:06:58.029Z"
   },
   {
    "duration": 46,
    "start_time": "2024-06-11T22:07:29.736Z"
   },
   {
    "duration": 1562,
    "start_time": "2024-06-11T22:08:59.707Z"
   },
   {
    "duration": 2213,
    "start_time": "2024-06-11T22:09:03.578Z"
   },
   {
    "duration": 1639,
    "start_time": "2024-06-11T22:11:23.258Z"
   },
   {
    "duration": 1762,
    "start_time": "2024-06-11T22:13:00.213Z"
   },
   {
    "duration": 1673,
    "start_time": "2024-06-11T22:13:39.575Z"
   },
   {
    "duration": 1517,
    "start_time": "2024-06-11T22:13:52.991Z"
   },
   {
    "duration": 1504,
    "start_time": "2024-06-11T22:14:03.520Z"
   },
   {
    "duration": 1527,
    "start_time": "2024-06-11T22:14:13.420Z"
   },
   {
    "duration": 1527,
    "start_time": "2024-06-11T22:14:25.829Z"
   },
   {
    "duration": 1461,
    "start_time": "2024-06-11T22:14:38.319Z"
   },
   {
    "duration": 1606,
    "start_time": "2024-06-11T22:14:43.724Z"
   },
   {
    "duration": 241,
    "start_time": "2024-06-11T22:15:37.276Z"
   },
   {
    "duration": 223,
    "start_time": "2024-06-11T22:15:51.427Z"
   },
   {
    "duration": 223,
    "start_time": "2024-06-11T22:16:05.844Z"
   },
   {
    "duration": 51,
    "start_time": "2024-06-11T22:17:14.620Z"
   },
   {
    "duration": 49,
    "start_time": "2024-06-11T22:17:48.116Z"
   },
   {
    "duration": 149,
    "start_time": "2024-06-11T22:20:15.050Z"
   },
   {
    "duration": 1434,
    "start_time": "2024-06-11T22:20:54.574Z"
   },
   {
    "duration": 1513,
    "start_time": "2024-06-11T22:21:02.584Z"
   },
   {
    "duration": 19,
    "start_time": "2024-06-11T22:21:21.244Z"
   },
   {
    "duration": 38,
    "start_time": "2024-06-11T22:22:00.647Z"
   },
   {
    "duration": 1455,
    "start_time": "2024-06-11T22:24:06.659Z"
   },
   {
    "duration": 234,
    "start_time": "2024-06-11T22:25:11.857Z"
   },
   {
    "duration": 567,
    "start_time": "2024-06-11T22:25:24.958Z"
   },
   {
    "duration": 25,
    "start_time": "2024-06-11T22:27:47.461Z"
   },
   {
    "duration": 27,
    "start_time": "2024-06-11T22:28:15.447Z"
   },
   {
    "duration": 23,
    "start_time": "2024-06-11T22:35:21.620Z"
   },
   {
    "duration": 77,
    "start_time": "2024-06-11T22:35:45.693Z"
   },
   {
    "duration": 1332,
    "start_time": "2024-06-11T22:36:20.944Z"
   },
   {
    "duration": 103,
    "start_time": "2024-06-11T22:36:23.307Z"
   },
   {
    "duration": 7,
    "start_time": "2024-06-11T22:38:25.500Z"
   },
   {
    "duration": 108,
    "start_time": "2024-06-11T22:39:02.713Z"
   },
   {
    "duration": 7,
    "start_time": "2024-06-11T22:40:41.104Z"
   },
   {
    "duration": 24,
    "start_time": "2024-06-11T22:43:22.237Z"
   },
   {
    "duration": 95,
    "start_time": "2024-06-11T22:43:42.256Z"
   },
   {
    "duration": 656,
    "start_time": "2024-06-11T22:45:35.852Z"
   },
   {
    "duration": 1579,
    "start_time": "2024-06-11T22:45:36.511Z"
   },
   {
    "duration": 238,
    "start_time": "2024-06-11T22:45:38.093Z"
   },
   {
    "duration": 152,
    "start_time": "2024-06-11T22:45:38.335Z"
   },
   {
    "duration": 1463,
    "start_time": "2024-06-11T22:45:38.490Z"
   },
   {
    "duration": 23,
    "start_time": "2024-06-11T22:45:39.956Z"
   },
   {
    "duration": 42,
    "start_time": "2024-06-11T22:45:39.982Z"
   },
   {
    "duration": 3,
    "start_time": "2024-06-11T22:45:40.027Z"
   },
   {
    "duration": 4,
    "start_time": "2024-06-11T22:45:40.033Z"
   },
   {
    "duration": 3,
    "start_time": "2024-06-11T22:45:40.045Z"
   },
   {
    "duration": 3,
    "start_time": "2024-06-11T22:45:40.051Z"
   },
   {
    "duration": 51,
    "start_time": "2024-06-11T22:45:40.057Z"
   },
   {
    "duration": 4,
    "start_time": "2024-06-11T22:45:40.111Z"
   },
   {
    "duration": 4,
    "start_time": "2024-06-11T22:45:40.118Z"
   },
   {
    "duration": 4,
    "start_time": "2024-06-11T22:45:40.125Z"
   },
   {
    "duration": 4,
    "start_time": "2024-06-11T22:45:40.132Z"
   },
   {
    "duration": 4,
    "start_time": "2024-06-11T22:45:40.139Z"
   },
   {
    "duration": 3,
    "start_time": "2024-06-11T22:45:40.146Z"
   },
   {
    "duration": 4,
    "start_time": "2024-06-11T22:45:40.206Z"
   },
   {
    "duration": 4,
    "start_time": "2024-06-11T22:45:40.212Z"
   },
   {
    "duration": 4,
    "start_time": "2024-06-11T22:45:40.219Z"
   },
   {
    "duration": 4,
    "start_time": "2024-06-11T22:45:40.226Z"
   },
   {
    "duration": 4,
    "start_time": "2024-06-11T22:45:40.233Z"
   },
   {
    "duration": 4,
    "start_time": "2024-06-11T22:45:40.239Z"
   },
   {
    "duration": 4,
    "start_time": "2024-06-11T22:45:40.246Z"
   },
   {
    "duration": 5,
    "start_time": "2024-06-11T22:45:40.307Z"
   },
   {
    "duration": 3,
    "start_time": "2024-06-11T22:45:40.315Z"
   },
   {
    "duration": 2,
    "start_time": "2024-06-11T22:45:40.327Z"
   },
   {
    "duration": 3,
    "start_time": "2024-06-11T22:45:40.333Z"
   },
   {
    "duration": 4,
    "start_time": "2024-06-11T22:45:40.339Z"
   },
   {
    "duration": 3,
    "start_time": "2024-06-11T22:45:40.349Z"
   },
   {
    "duration": 52,
    "start_time": "2024-06-11T22:45:40.355Z"
   },
   {
    "duration": 4,
    "start_time": "2024-06-11T22:45:40.410Z"
   },
   {
    "duration": 3,
    "start_time": "2024-06-11T22:45:40.417Z"
   },
   {
    "duration": 3,
    "start_time": "2024-06-11T22:45:40.424Z"
   },
   {
    "duration": 9,
    "start_time": "2024-06-11T22:47:08.729Z"
   },
   {
    "duration": 17,
    "start_time": "2024-06-11T22:47:12.463Z"
   },
   {
    "duration": 36,
    "start_time": "2024-06-11T22:48:58.731Z"
   },
   {
    "duration": 35,
    "start_time": "2024-06-11T22:49:59.066Z"
   },
   {
    "duration": 388,
    "start_time": "2024-06-11T22:52:52.755Z"
   },
   {
    "duration": 375,
    "start_time": "2024-06-11T22:54:07.663Z"
   },
   {
    "duration": 349,
    "start_time": "2024-06-11T22:56:32.117Z"
   },
   {
    "duration": 370,
    "start_time": "2024-06-11T22:56:46.754Z"
   },
   {
    "duration": 384,
    "start_time": "2024-06-11T22:57:27.754Z"
   },
   {
    "duration": 388,
    "start_time": "2024-06-11T22:58:26.112Z"
   },
   {
    "duration": 1440,
    "start_time": "2024-06-11T23:06:14.818Z"
   },
   {
    "duration": 132,
    "start_time": "2024-06-11T23:13:37.994Z"
   },
   {
    "duration": 649,
    "start_time": "2024-06-11T23:13:46.461Z"
   },
   {
    "duration": 1622,
    "start_time": "2024-06-11T23:13:47.114Z"
   },
   {
    "duration": 222,
    "start_time": "2024-06-11T23:13:48.739Z"
   },
   {
    "duration": 150,
    "start_time": "2024-06-11T23:13:48.964Z"
   },
   {
    "duration": 1456,
    "start_time": "2024-06-11T23:13:49.120Z"
   },
   {
    "duration": 36,
    "start_time": "2024-06-11T23:13:50.579Z"
   },
   {
    "duration": 24,
    "start_time": "2024-06-11T23:13:50.618Z"
   },
   {
    "duration": 177,
    "start_time": "2024-06-11T23:13:50.644Z"
   },
   {
    "duration": 5,
    "start_time": "2024-06-11T23:13:50.824Z"
   },
   {
    "duration": 4,
    "start_time": "2024-06-11T23:13:50.832Z"
   },
   {
    "duration": 4,
    "start_time": "2024-06-11T23:13:50.838Z"
   },
   {
    "duration": 4,
    "start_time": "2024-06-11T23:13:50.845Z"
   },
   {
    "duration": 3,
    "start_time": "2024-06-11T23:13:50.853Z"
   },
   {
    "duration": 3,
    "start_time": "2024-06-11T23:13:50.907Z"
   },
   {
    "duration": 3,
    "start_time": "2024-06-11T23:13:50.914Z"
   },
   {
    "duration": 4,
    "start_time": "2024-06-11T23:13:50.921Z"
   },
   {
    "duration": 4,
    "start_time": "2024-06-11T23:13:50.928Z"
   },
   {
    "duration": 4,
    "start_time": "2024-06-11T23:13:50.936Z"
   },
   {
    "duration": 5,
    "start_time": "2024-06-11T23:13:50.943Z"
   },
   {
    "duration": 56,
    "start_time": "2024-06-11T23:13:50.951Z"
   },
   {
    "duration": 4,
    "start_time": "2024-06-11T23:13:51.010Z"
   },
   {
    "duration": 3,
    "start_time": "2024-06-11T23:13:51.018Z"
   },
   {
    "duration": 3,
    "start_time": "2024-06-11T23:13:51.025Z"
   },
   {
    "duration": 4,
    "start_time": "2024-06-11T23:13:51.031Z"
   },
   {
    "duration": 4,
    "start_time": "2024-06-11T23:13:51.038Z"
   },
   {
    "duration": 3,
    "start_time": "2024-06-11T23:13:51.046Z"
   },
   {
    "duration": 4,
    "start_time": "2024-06-11T23:13:51.106Z"
   },
   {
    "duration": 3,
    "start_time": "2024-06-11T23:13:51.113Z"
   },
   {
    "duration": 4,
    "start_time": "2024-06-11T23:13:51.119Z"
   },
   {
    "duration": 3,
    "start_time": "2024-06-11T23:13:51.126Z"
   },
   {
    "duration": 3,
    "start_time": "2024-06-11T23:13:51.133Z"
   },
   {
    "duration": 4,
    "start_time": "2024-06-11T23:13:51.139Z"
   },
   {
    "duration": 4,
    "start_time": "2024-06-11T23:13:51.146Z"
   },
   {
    "duration": 4,
    "start_time": "2024-06-11T23:13:51.206Z"
   },
   {
    "duration": 295,
    "start_time": "2024-06-11T23:14:39.179Z"
   },
   {
    "duration": 5,
    "start_time": "2024-06-11T23:15:38.766Z"
   },
   {
    "duration": 5,
    "start_time": "2024-06-11T23:15:44.385Z"
   },
   {
    "duration": 220,
    "start_time": "2024-06-11T23:15:47.208Z"
   },
   {
    "duration": 228,
    "start_time": "2024-06-11T23:16:52.129Z"
   },
   {
    "duration": 228,
    "start_time": "2024-06-11T23:17:04.280Z"
   },
   {
    "duration": 6,
    "start_time": "2024-06-11T23:21:40.376Z"
   },
   {
    "duration": 155,
    "start_time": "2024-06-11T23:21:55.108Z"
   },
   {
    "duration": 21,
    "start_time": "2024-06-12T00:06:36.842Z"
   },
   {
    "duration": 240,
    "start_time": "2024-06-12T00:08:00.507Z"
   },
   {
    "duration": 10,
    "start_time": "2024-06-12T00:08:05.609Z"
   },
   {
    "duration": 14,
    "start_time": "2024-06-12T00:08:25.561Z"
   },
   {
    "duration": 20,
    "start_time": "2024-06-12T00:17:26.088Z"
   },
   {
    "duration": 162,
    "start_time": "2024-06-12T00:18:02.352Z"
   },
   {
    "duration": 125,
    "start_time": "2024-06-12T00:18:07.490Z"
   },
   {
    "duration": 7,
    "start_time": "2024-06-12T00:19:00.280Z"
   },
   {
    "duration": 7,
    "start_time": "2024-06-12T00:21:09.636Z"
   },
   {
    "duration": 7,
    "start_time": "2024-06-12T00:21:21.107Z"
   },
   {
    "duration": 5,
    "start_time": "2024-06-12T00:21:38.847Z"
   },
   {
    "duration": 20,
    "start_time": "2024-06-12T00:22:52.220Z"
   },
   {
    "duration": 41,
    "start_time": "2024-06-12T00:23:06.099Z"
   },
   {
    "duration": 82,
    "start_time": "2024-06-12T00:23:17.727Z"
   },
   {
    "duration": 5,
    "start_time": "2024-06-12T00:24:14.409Z"
   },
   {
    "duration": 15,
    "start_time": "2024-06-12T00:24:23.508Z"
   },
   {
    "duration": 21,
    "start_time": "2024-06-12T00:24:30.129Z"
   },
   {
    "duration": 181,
    "start_time": "2024-06-12T00:25:30.131Z"
   },
   {
    "duration": 151,
    "start_time": "2024-06-12T00:25:31.698Z"
   },
   {
    "duration": 82,
    "start_time": "2024-06-12T00:25:33.814Z"
   },
   {
    "duration": 7,
    "start_time": "2024-06-12T00:26:47.056Z"
   },
   {
    "duration": 6,
    "start_time": "2024-06-12T00:27:02.728Z"
   },
   {
    "duration": 7,
    "start_time": "2024-06-12T00:27:12.054Z"
   },
   {
    "duration": 15,
    "start_time": "2024-06-12T00:27:20.643Z"
   },
   {
    "duration": 23,
    "start_time": "2024-06-12T00:28:04.822Z"
   },
   {
    "duration": 921,
    "start_time": "2024-06-12T00:28:18.530Z"
   },
   {
    "duration": 88,
    "start_time": "2024-06-12T00:28:19.806Z"
   },
   {
    "duration": 118,
    "start_time": "2024-06-12T00:28:24.419Z"
   },
   {
    "duration": 24,
    "start_time": "2024-06-12T00:28:29.026Z"
   },
   {
    "duration": 408,
    "start_time": "2024-06-12T00:29:19.567Z"
   },
   {
    "duration": 95,
    "start_time": "2024-06-12T00:31:11.736Z"
   },
   {
    "duration": 144,
    "start_time": "2024-06-12T00:31:19.068Z"
   },
   {
    "duration": 357,
    "start_time": "2024-06-12T00:32:41.427Z"
   },
   {
    "duration": 40,
    "start_time": "2024-06-12T00:33:07.972Z"
   },
   {
    "duration": 46,
    "start_time": "2024-06-12T00:33:18.015Z"
   },
   {
    "duration": 38,
    "start_time": "2024-06-12T00:33:26.504Z"
   },
   {
    "duration": 40,
    "start_time": "2024-06-12T00:33:33.528Z"
   },
   {
    "duration": 215,
    "start_time": "2024-06-12T00:33:52.643Z"
   },
   {
    "duration": 46,
    "start_time": "2024-06-12T00:33:59.204Z"
   },
   {
    "duration": 43,
    "start_time": "2024-06-12T00:34:03.430Z"
   },
   {
    "duration": 39,
    "start_time": "2024-06-12T00:34:17.079Z"
   },
   {
    "duration": 170,
    "start_time": "2024-06-12T00:34:38.751Z"
   },
   {
    "duration": 165,
    "start_time": "2024-06-12T00:34:43.480Z"
   },
   {
    "duration": 14,
    "start_time": "2024-06-12T00:35:07.462Z"
   },
   {
    "duration": 139,
    "start_time": "2024-06-12T00:35:24.284Z"
   },
   {
    "duration": 47,
    "start_time": "2024-06-12T00:35:38.654Z"
   },
   {
    "duration": 169,
    "start_time": "2024-06-12T00:36:05.248Z"
   },
   {
    "duration": 6,
    "start_time": "2024-06-12T00:36:10.701Z"
   },
   {
    "duration": 100,
    "start_time": "2024-06-12T00:36:16.614Z"
   },
   {
    "duration": 41,
    "start_time": "2024-06-12T00:36:21.336Z"
   },
   {
    "duration": 331,
    "start_time": "2024-06-12T00:37:13.491Z"
   },
   {
    "duration": 31,
    "start_time": "2024-06-12T00:37:51.774Z"
   },
   {
    "duration": 21,
    "start_time": "2024-06-12T00:38:04.160Z"
   },
   {
    "duration": 40,
    "start_time": "2024-06-12T00:38:34.272Z"
   },
   {
    "duration": 7,
    "start_time": "2024-06-12T00:40:14.725Z"
   },
   {
    "duration": 121,
    "start_time": "2024-06-12T00:40:46.271Z"
   },
   {
    "duration": 86,
    "start_time": "2024-06-12T00:40:57.631Z"
   },
   {
    "duration": 64,
    "start_time": "2024-06-12T00:41:05.411Z"
   },
   {
    "duration": 102,
    "start_time": "2024-06-12T00:41:13.878Z"
   },
   {
    "duration": 97,
    "start_time": "2024-06-12T00:41:37.225Z"
   },
   {
    "duration": 99,
    "start_time": "2024-06-12T00:41:44.293Z"
   },
   {
    "duration": 97,
    "start_time": "2024-06-12T00:41:53.824Z"
   },
   {
    "duration": 103,
    "start_time": "2024-06-12T00:42:03.155Z"
   },
   {
    "duration": 117,
    "start_time": "2024-06-12T00:42:14.982Z"
   },
   {
    "duration": 8,
    "start_time": "2024-06-12T00:42:32.779Z"
   },
   {
    "duration": 103,
    "start_time": "2024-06-12T00:43:19.525Z"
   },
   {
    "duration": 115,
    "start_time": "2024-06-12T00:43:53.838Z"
   },
   {
    "duration": 136,
    "start_time": "2024-06-12T00:43:58.778Z"
   },
   {
    "duration": 96,
    "start_time": "2024-06-12T00:44:10.278Z"
   },
   {
    "duration": 134,
    "start_time": "2024-06-12T00:44:38.601Z"
   },
   {
    "duration": 129,
    "start_time": "2024-06-12T00:44:52.717Z"
   },
   {
    "duration": 96,
    "start_time": "2024-06-12T00:45:12.415Z"
   },
   {
    "duration": 103,
    "start_time": "2024-06-12T00:45:23.348Z"
   },
   {
    "duration": 104,
    "start_time": "2024-06-12T00:45:50.554Z"
   },
   {
    "duration": 100,
    "start_time": "2024-06-12T00:45:57.180Z"
   },
   {
    "duration": 104,
    "start_time": "2024-06-12T00:46:59.822Z"
   },
   {
    "duration": 16,
    "start_time": "2024-06-12T00:47:28.224Z"
   },
   {
    "duration": 15,
    "start_time": "2024-06-12T00:47:39.925Z"
   },
   {
    "duration": 23,
    "start_time": "2024-06-12T00:48:25.316Z"
   },
   {
    "duration": 7,
    "start_time": "2024-06-12T00:50:51.845Z"
   },
   {
    "duration": 5,
    "start_time": "2024-06-12T00:51:35.225Z"
   },
   {
    "duration": 7,
    "start_time": "2024-06-12T00:52:31.548Z"
   },
   {
    "duration": 7,
    "start_time": "2024-06-12T00:52:48.696Z"
   },
   {
    "duration": 6,
    "start_time": "2024-06-12T00:52:56.417Z"
   },
   {
    "duration": 1329,
    "start_time": "2024-06-12T00:53:48.193Z"
   },
   {
    "duration": 242,
    "start_time": "2024-06-12T00:54:28.279Z"
   },
   {
    "duration": 234,
    "start_time": "2024-06-12T00:54:33.092Z"
   },
   {
    "duration": 242,
    "start_time": "2024-06-12T00:54:39.364Z"
   },
   {
    "duration": 9,
    "start_time": "2024-06-12T00:54:58.522Z"
   },
   {
    "duration": 29,
    "start_time": "2024-06-12T00:56:08.707Z"
   },
   {
    "duration": 28,
    "start_time": "2024-06-12T00:56:28.635Z"
   },
   {
    "duration": 25,
    "start_time": "2024-06-12T00:56:52.355Z"
   },
   {
    "duration": 7,
    "start_time": "2024-06-12T00:57:41.430Z"
   },
   {
    "duration": 5,
    "start_time": "2024-06-12T00:57:44.212Z"
   },
   {
    "duration": 5,
    "start_time": "2024-06-12T00:57:51.239Z"
   },
   {
    "duration": 9,
    "start_time": "2024-06-12T00:57:55.148Z"
   },
   {
    "duration": 28,
    "start_time": "2024-06-12T00:58:03.213Z"
   },
   {
    "duration": 148,
    "start_time": "2024-06-12T00:58:09.528Z"
   },
   {
    "duration": 213,
    "start_time": "2024-06-12T00:58:17.162Z"
   },
   {
    "duration": 212,
    "start_time": "2024-06-12T00:58:21.404Z"
   },
   {
    "duration": 220,
    "start_time": "2024-06-12T00:58:27.406Z"
   },
   {
    "duration": 1326,
    "start_time": "2024-06-12T00:58:45.426Z"
   },
   {
    "duration": 235,
    "start_time": "2024-06-12T00:58:50.981Z"
   },
   {
    "duration": 234,
    "start_time": "2024-06-12T00:59:00.621Z"
   },
   {
    "duration": 3841,
    "start_time": "2024-06-12T00:59:25.135Z"
   },
   {
    "duration": 1372,
    "start_time": "2024-06-12T01:01:01.829Z"
   },
   {
    "duration": 1346,
    "start_time": "2024-06-12T01:01:07.693Z"
   },
   {
    "duration": 1338,
    "start_time": "2024-06-12T01:02:20.231Z"
   },
   {
    "duration": 1323,
    "start_time": "2024-06-12T01:02:37.355Z"
   },
   {
    "duration": 3749,
    "start_time": "2024-06-12T01:03:16.393Z"
   },
   {
    "duration": 3790,
    "start_time": "2024-06-12T01:03:29.108Z"
   },
   {
    "duration": 5,
    "start_time": "2024-06-12T01:07:07.137Z"
   },
   {
    "duration": 801,
    "start_time": "2024-06-12T01:07:13.178Z"
   },
   {
    "duration": 821,
    "start_time": "2024-06-12T01:07:26.523Z"
   },
   {
    "duration": 4955,
    "start_time": "2024-06-12T01:08:51.752Z"
   },
   {
    "duration": 328,
    "start_time": "2024-06-12T15:10:11.546Z"
   },
   {
    "duration": 4317,
    "start_time": "2024-06-12T15:10:32.556Z"
   },
   {
    "duration": 1668,
    "start_time": "2024-06-12T15:10:36.877Z"
   },
   {
    "duration": 230,
    "start_time": "2024-06-12T15:10:38.548Z"
   },
   {
    "duration": 188,
    "start_time": "2024-06-12T15:10:38.784Z"
   },
   {
    "duration": 5194,
    "start_time": "2024-06-12T15:10:38.975Z"
   },
   {
    "duration": 54,
    "start_time": "2024-06-12T15:10:44.173Z"
   },
   {
    "duration": 36,
    "start_time": "2024-06-12T15:10:44.231Z"
   },
   {
    "duration": 302,
    "start_time": "2024-06-12T15:10:44.271Z"
   },
   {
    "duration": 46,
    "start_time": "2024-06-12T15:10:44.576Z"
   },
   {
    "duration": 182,
    "start_time": "2024-06-12T15:10:44.631Z"
   },
   {
    "duration": 165,
    "start_time": "2024-06-12T15:10:44.816Z"
   },
   {
    "duration": 100,
    "start_time": "2024-06-12T15:10:44.985Z"
   },
   {
    "duration": 38,
    "start_time": "2024-06-12T15:10:45.088Z"
   },
   {
    "duration": 7,
    "start_time": "2024-06-12T15:10:45.130Z"
   },
   {
    "duration": 113,
    "start_time": "2024-06-12T15:10:45.141Z"
   },
   {
    "duration": 28,
    "start_time": "2024-06-12T15:10:45.257Z"
   },
   {
    "duration": 25,
    "start_time": "2024-06-12T15:10:45.288Z"
   },
   {
    "duration": 5,
    "start_time": "2024-06-12T15:10:45.318Z"
   },
   {
    "duration": 12,
    "start_time": "2024-06-12T15:10:45.326Z"
   },
   {
    "duration": 7,
    "start_time": "2024-06-12T15:10:45.342Z"
   },
   {
    "duration": 1399,
    "start_time": "2024-06-12T15:10:45.352Z"
   },
   {
    "duration": 456,
    "start_time": "2024-06-12T15:10:46.757Z"
   },
   {
    "duration": 3,
    "start_time": "2024-06-12T15:10:47.216Z"
   },
   {
    "duration": 5,
    "start_time": "2024-06-12T15:10:47.222Z"
   },
   {
    "duration": 5,
    "start_time": "2024-06-12T15:10:47.230Z"
   },
   {
    "duration": 4,
    "start_time": "2024-06-12T15:10:47.238Z"
   },
   {
    "duration": 4,
    "start_time": "2024-06-12T15:10:47.245Z"
   },
   {
    "duration": 3,
    "start_time": "2024-06-12T15:10:47.256Z"
   },
   {
    "duration": 52,
    "start_time": "2024-06-12T15:10:47.262Z"
   },
   {
    "duration": 3,
    "start_time": "2024-06-12T15:10:47.317Z"
   },
   {
    "duration": 3,
    "start_time": "2024-06-12T15:10:47.323Z"
   },
   {
    "duration": 4,
    "start_time": "2024-06-12T15:10:47.329Z"
   },
   {
    "duration": 4,
    "start_time": "2024-06-12T15:10:47.336Z"
   },
   {
    "duration": 3,
    "start_time": "2024-06-12T15:10:47.343Z"
   },
   {
    "duration": 8,
    "start_time": "2024-06-12T15:12:16.199Z"
   },
   {
    "duration": 8,
    "start_time": "2024-06-12T15:12:21.624Z"
   },
   {
    "duration": 6,
    "start_time": "2024-06-12T15:12:30.551Z"
   },
   {
    "duration": 469,
    "start_time": "2024-06-12T15:12:36.298Z"
   },
   {
    "duration": 5,
    "start_time": "2024-06-12T15:16:29.414Z"
   },
   {
    "duration": 408,
    "start_time": "2024-06-12T15:16:33.745Z"
   },
   {
    "duration": 443,
    "start_time": "2024-06-12T15:17:13.465Z"
   },
   {
    "duration": 401,
    "start_time": "2024-06-12T15:17:26.023Z"
   },
   {
    "duration": 794,
    "start_time": "2024-06-12T15:17:45.454Z"
   },
   {
    "duration": 848,
    "start_time": "2024-06-12T15:17:55.582Z"
   },
   {
    "duration": 4846,
    "start_time": "2024-06-12T15:19:33.511Z"
   },
   {
    "duration": 1255,
    "start_time": "2024-06-12T15:22:08.573Z"
   },
   {
    "duration": 11,
    "start_time": "2024-06-12T15:22:18.521Z"
   },
   {
    "duration": 7,
    "start_time": "2024-06-12T15:22:25.134Z"
   },
   {
    "duration": 46,
    "start_time": "2024-06-12T15:22:44.687Z"
   },
   {
    "duration": 11,
    "start_time": "2024-06-12T15:22:53.377Z"
   },
   {
    "duration": 13,
    "start_time": "2024-06-12T15:23:00.109Z"
   },
   {
    "duration": 25,
    "start_time": "2024-06-12T15:25:29.462Z"
   },
   {
    "duration": 319,
    "start_time": "2024-06-12T15:25:35.043Z"
   },
   {
    "duration": 56,
    "start_time": "2024-06-12T15:26:37.004Z"
   },
   {
    "duration": 9,
    "start_time": "2024-06-12T15:26:48.058Z"
   },
   {
    "duration": 28,
    "start_time": "2024-06-12T15:27:11.278Z"
   },
   {
    "duration": 8,
    "start_time": "2024-06-12T15:27:25.223Z"
   },
   {
    "duration": 38,
    "start_time": "2024-06-12T15:27:30.122Z"
   },
   {
    "duration": 25,
    "start_time": "2024-06-12T15:27:41.681Z"
   },
   {
    "duration": 23,
    "start_time": "2024-06-12T15:27:54.168Z"
   },
   {
    "duration": 7,
    "start_time": "2024-06-12T15:27:59.570Z"
   },
   {
    "duration": 8,
    "start_time": "2024-06-12T15:28:01.684Z"
   },
   {
    "duration": 72,
    "start_time": "2024-06-12T15:28:53.870Z"
   },
   {
    "duration": 71,
    "start_time": "2024-06-12T15:29:03.922Z"
   },
   {
    "duration": 252,
    "start_time": "2024-06-12T15:29:56.617Z"
   },
   {
    "duration": 12,
    "start_time": "2024-06-12T15:30:10.518Z"
   },
   {
    "duration": 11,
    "start_time": "2024-06-12T15:30:21.389Z"
   },
   {
    "duration": 11,
    "start_time": "2024-06-12T15:31:05.418Z"
   },
   {
    "duration": 15,
    "start_time": "2024-06-12T15:31:20.407Z"
   },
   {
    "duration": 10,
    "start_time": "2024-06-12T15:31:29.044Z"
   },
   {
    "duration": 14,
    "start_time": "2024-06-12T15:32:29.708Z"
   },
   {
    "duration": 13,
    "start_time": "2024-06-12T15:32:36.750Z"
   },
   {
    "duration": 15,
    "start_time": "2024-06-12T15:32:41.708Z"
   },
   {
    "duration": 28,
    "start_time": "2024-06-12T15:33:14.951Z"
   },
   {
    "duration": 14,
    "start_time": "2024-06-12T15:33:19.017Z"
   },
   {
    "duration": 13,
    "start_time": "2024-06-12T15:34:16.296Z"
   },
   {
    "duration": 6,
    "start_time": "2024-06-12T15:36:13.878Z"
   },
   {
    "duration": 28,
    "start_time": "2024-06-12T15:36:39.543Z"
   },
   {
    "duration": 6,
    "start_time": "2024-06-12T15:36:54.296Z"
   },
   {
    "duration": 8,
    "start_time": "2024-06-12T15:37:47.541Z"
   },
   {
    "duration": 30,
    "start_time": "2024-06-12T15:42:33.018Z"
   },
   {
    "duration": 57,
    "start_time": "2024-06-12T15:42:37.659Z"
   },
   {
    "duration": 53,
    "start_time": "2024-06-12T15:43:56.990Z"
   },
   {
    "duration": 54,
    "start_time": "2024-06-12T15:44:08.145Z"
   },
   {
    "duration": 52,
    "start_time": "2024-06-12T15:45:01.561Z"
   },
   {
    "duration": 51,
    "start_time": "2024-06-12T15:50:16.402Z"
   },
   {
    "duration": 51,
    "start_time": "2024-06-12T15:50:22.588Z"
   },
   {
    "duration": 52,
    "start_time": "2024-06-12T15:51:03.789Z"
   },
   {
    "duration": 56,
    "start_time": "2024-06-12T15:51:17.282Z"
   },
   {
    "duration": 801,
    "start_time": "2024-06-12T15:51:24.890Z"
   },
   {
    "duration": 1898,
    "start_time": "2024-06-12T15:51:25.698Z"
   },
   {
    "duration": 295,
    "start_time": "2024-06-12T15:51:27.598Z"
   },
   {
    "duration": 249,
    "start_time": "2024-06-12T15:51:27.897Z"
   },
   {
    "duration": 5786,
    "start_time": "2024-06-12T15:51:28.158Z"
   },
   {
    "duration": 42,
    "start_time": "2024-06-12T15:51:33.947Z"
   },
   {
    "duration": 55,
    "start_time": "2024-06-12T15:51:33.992Z"
   },
   {
    "duration": 305,
    "start_time": "2024-06-12T15:51:34.059Z"
   },
   {
    "duration": 46,
    "start_time": "2024-06-12T15:51:34.367Z"
   },
   {
    "duration": 216,
    "start_time": "2024-06-12T15:51:34.416Z"
   },
   {
    "duration": 201,
    "start_time": "2024-06-12T15:51:34.635Z"
   },
   {
    "duration": 109,
    "start_time": "2024-06-12T15:51:34.839Z"
   },
   {
    "duration": 24,
    "start_time": "2024-06-12T15:51:34.954Z"
   },
   {
    "duration": 5,
    "start_time": "2024-06-12T15:51:34.984Z"
   },
   {
    "duration": 113,
    "start_time": "2024-06-12T15:51:35.011Z"
   },
   {
    "duration": 27,
    "start_time": "2024-06-12T15:51:35.127Z"
   },
   {
    "duration": 10,
    "start_time": "2024-06-12T15:51:35.157Z"
   },
   {
    "duration": 6,
    "start_time": "2024-06-12T15:51:35.170Z"
   },
   {
    "duration": 10,
    "start_time": "2024-06-12T15:51:35.213Z"
   },
   {
    "duration": 7,
    "start_time": "2024-06-12T15:51:35.226Z"
   },
   {
    "duration": 1425,
    "start_time": "2024-06-12T15:51:35.237Z"
   },
   {
    "duration": 505,
    "start_time": "2024-06-12T15:51:36.665Z"
   },
   {
    "duration": 13,
    "start_time": "2024-06-12T15:51:37.172Z"
   },
   {
    "duration": 34,
    "start_time": "2024-06-12T15:51:37.189Z"
   },
   {
    "duration": 15,
    "start_time": "2024-06-12T15:51:37.226Z"
   },
   {
    "duration": 8,
    "start_time": "2024-06-12T15:51:37.243Z"
   },
   {
    "duration": 8,
    "start_time": "2024-06-12T15:51:37.254Z"
   },
   {
    "duration": 47,
    "start_time": "2024-06-12T15:51:37.265Z"
   },
   {
    "duration": 4,
    "start_time": "2024-06-12T15:51:37.315Z"
   },
   {
    "duration": 3,
    "start_time": "2024-06-12T15:51:37.323Z"
   },
   {
    "duration": 3,
    "start_time": "2024-06-12T15:51:37.330Z"
   },
   {
    "duration": 4,
    "start_time": "2024-06-12T15:51:37.336Z"
   },
   {
    "duration": 4,
    "start_time": "2024-06-12T15:51:37.343Z"
   },
   {
    "duration": 4,
    "start_time": "2024-06-12T15:51:37.350Z"
   },
   {
    "duration": 653,
    "start_time": "2024-06-12T15:52:36.487Z"
   },
   {
    "duration": 722,
    "start_time": "2024-06-12T15:53:11.202Z"
   },
   {
    "duration": 1600,
    "start_time": "2024-06-12T15:53:11.929Z"
   },
   {
    "duration": 229,
    "start_time": "2024-06-12T15:53:13.532Z"
   },
   {
    "duration": 167,
    "start_time": "2024-06-12T15:53:13.764Z"
   },
   {
    "duration": 5058,
    "start_time": "2024-06-12T15:53:13.936Z"
   },
   {
    "duration": 37,
    "start_time": "2024-06-12T15:53:18.997Z"
   },
   {
    "duration": 26,
    "start_time": "2024-06-12T15:53:19.037Z"
   },
   {
    "duration": 283,
    "start_time": "2024-06-12T15:53:19.066Z"
   },
   {
    "duration": 34,
    "start_time": "2024-06-12T15:53:19.352Z"
   },
   {
    "duration": 196,
    "start_time": "2024-06-12T15:53:19.389Z"
   },
   {
    "duration": 165,
    "start_time": "2024-06-12T15:53:19.588Z"
   },
   {
    "duration": 88,
    "start_time": "2024-06-12T15:53:19.757Z"
   },
   {
    "duration": 23,
    "start_time": "2024-06-12T15:53:19.848Z"
   },
   {
    "duration": 5,
    "start_time": "2024-06-12T15:53:19.878Z"
   },
   {
    "duration": 82,
    "start_time": "2024-06-12T15:53:19.913Z"
   },
   {
    "duration": 27,
    "start_time": "2024-06-12T15:53:20.013Z"
   },
   {
    "duration": 10,
    "start_time": "2024-06-12T15:53:20.044Z"
   },
   {
    "duration": 6,
    "start_time": "2024-06-12T15:53:20.057Z"
   },
   {
    "duration": 53,
    "start_time": "2024-06-12T15:53:20.066Z"
   },
   {
    "duration": 6,
    "start_time": "2024-06-12T15:53:20.121Z"
   },
   {
    "duration": 1391,
    "start_time": "2024-06-12T15:53:20.130Z"
   },
   {
    "duration": 461,
    "start_time": "2024-06-12T15:53:21.525Z"
   },
   {
    "duration": 12,
    "start_time": "2024-06-12T15:53:21.989Z"
   },
   {
    "duration": 14,
    "start_time": "2024-06-12T15:53:22.013Z"
   },
   {
    "duration": 13,
    "start_time": "2024-06-12T15:53:22.029Z"
   },
   {
    "duration": 7,
    "start_time": "2024-06-12T15:53:22.046Z"
   },
   {
    "duration": 709,
    "start_time": "2024-06-12T15:53:22.057Z"
   },
   {
    "duration": 0,
    "start_time": "2024-06-12T15:53:22.769Z"
   },
   {
    "duration": 0,
    "start_time": "2024-06-12T15:53:22.771Z"
   },
   {
    "duration": 0,
    "start_time": "2024-06-12T15:53:22.773Z"
   },
   {
    "duration": 0,
    "start_time": "2024-06-12T15:53:22.776Z"
   },
   {
    "duration": 0,
    "start_time": "2024-06-12T15:53:22.778Z"
   },
   {
    "duration": 0,
    "start_time": "2024-06-12T15:53:22.779Z"
   },
   {
    "duration": 0,
    "start_time": "2024-06-12T15:53:22.781Z"
   },
   {
    "duration": 54,
    "start_time": "2024-06-12T15:53:37.165Z"
   },
   {
    "duration": 8,
    "start_time": "2024-06-12T15:54:41.997Z"
   },
   {
    "duration": 26,
    "start_time": "2024-06-12T15:54:55.884Z"
   },
   {
    "duration": 76,
    "start_time": "2024-06-12T15:56:26.584Z"
   },
   {
    "duration": 656,
    "start_time": "2024-06-12T15:56:57.948Z"
   },
   {
    "duration": 1696,
    "start_time": "2024-06-12T15:56:58.613Z"
   },
   {
    "duration": 232,
    "start_time": "2024-06-12T15:57:00.312Z"
   },
   {
    "duration": 176,
    "start_time": "2024-06-12T15:57:00.547Z"
   },
   {
    "duration": 5140,
    "start_time": "2024-06-12T15:57:00.729Z"
   },
   {
    "duration": 45,
    "start_time": "2024-06-12T15:57:05.871Z"
   },
   {
    "duration": 26,
    "start_time": "2024-06-12T15:57:05.919Z"
   },
   {
    "duration": 253,
    "start_time": "2024-06-12T15:57:05.947Z"
   },
   {
    "duration": 31,
    "start_time": "2024-06-12T15:57:06.213Z"
   },
   {
    "duration": 204,
    "start_time": "2024-06-12T15:57:06.247Z"
   },
   {
    "duration": 177,
    "start_time": "2024-06-12T15:57:06.454Z"
   },
   {
    "duration": 99,
    "start_time": "2024-06-12T15:57:06.635Z"
   },
   {
    "duration": 25,
    "start_time": "2024-06-12T15:57:06.737Z"
   },
   {
    "duration": 11,
    "start_time": "2024-06-12T15:57:06.769Z"
   },
   {
    "duration": 135,
    "start_time": "2024-06-12T15:57:06.783Z"
   },
   {
    "duration": 27,
    "start_time": "2024-06-12T15:57:06.922Z"
   },
   {
    "duration": 9,
    "start_time": "2024-06-12T15:57:06.952Z"
   },
   {
    "duration": 6,
    "start_time": "2024-06-12T15:57:06.964Z"
   },
   {
    "duration": 9,
    "start_time": "2024-06-12T15:57:07.012Z"
   },
   {
    "duration": 5,
    "start_time": "2024-06-12T15:57:07.025Z"
   },
   {
    "duration": 1406,
    "start_time": "2024-06-12T15:57:07.034Z"
   },
   {
    "duration": 486,
    "start_time": "2024-06-12T15:57:08.443Z"
   },
   {
    "duration": 13,
    "start_time": "2024-06-12T15:57:08.933Z"
   },
   {
    "duration": 17,
    "start_time": "2024-06-12T15:57:08.949Z"
   },
   {
    "duration": 46,
    "start_time": "2024-06-12T15:57:08.972Z"
   },
   {
    "duration": 8,
    "start_time": "2024-06-12T15:57:09.024Z"
   },
   {
    "duration": 24,
    "start_time": "2024-06-12T15:57:09.035Z"
   },
   {
    "duration": 3,
    "start_time": "2024-06-12T15:57:09.062Z"
   },
   {
    "duration": 4,
    "start_time": "2024-06-12T15:57:09.069Z"
   },
   {
    "duration": 5,
    "start_time": "2024-06-12T15:57:09.112Z"
   },
   {
    "duration": 3,
    "start_time": "2024-06-12T15:57:09.121Z"
   },
   {
    "duration": 5,
    "start_time": "2024-06-12T15:57:09.127Z"
   },
   {
    "duration": 3,
    "start_time": "2024-06-12T15:57:09.135Z"
   },
   {
    "duration": 4,
    "start_time": "2024-06-12T15:57:09.141Z"
   },
   {
    "duration": 16,
    "start_time": "2024-06-12T15:57:57.505Z"
   },
   {
    "duration": 10,
    "start_time": "2024-06-12T15:59:36.122Z"
   },
   {
    "duration": 364,
    "start_time": "2024-06-12T16:02:06.298Z"
   },
   {
    "duration": 347,
    "start_time": "2024-06-12T16:03:24.861Z"
   },
   {
    "duration": 8,
    "start_time": "2024-06-12T16:03:31.189Z"
   },
   {
    "duration": 24,
    "start_time": "2024-06-12T16:03:57.375Z"
   },
   {
    "duration": 8,
    "start_time": "2024-06-12T16:04:15.079Z"
   },
   {
    "duration": 27,
    "start_time": "2024-06-12T16:05:47.053Z"
   },
   {
    "duration": 47,
    "start_time": "2024-06-12T16:06:56.203Z"
   },
   {
    "duration": 5683,
    "start_time": "2024-06-12T16:07:49.908Z"
   },
   {
    "duration": 11,
    "start_time": "2024-06-12T16:09:30.815Z"
   },
   {
    "duration": 854,
    "start_time": "2024-06-12T17:42:32.449Z"
   },
   {
    "duration": 78,
    "start_time": "2024-06-12T17:45:05.409Z"
   },
   {
    "duration": 11,
    "start_time": "2024-06-12T17:46:54.606Z"
   },
   {
    "duration": 11,
    "start_time": "2024-06-12T17:47:04.352Z"
   },
   {
    "duration": 26,
    "start_time": "2024-06-12T17:47:49.453Z"
   },
   {
    "duration": 11,
    "start_time": "2024-06-12T17:48:52.002Z"
   },
   {
    "duration": 15,
    "start_time": "2024-06-12T17:48:58.151Z"
   },
   {
    "duration": 17,
    "start_time": "2024-06-12T17:49:16.141Z"
   },
   {
    "duration": 15,
    "start_time": "2024-06-12T17:49:25.930Z"
   },
   {
    "duration": 40,
    "start_time": "2024-06-12T17:53:56.405Z"
   },
   {
    "duration": 39,
    "start_time": "2024-06-12T17:54:39.508Z"
   },
   {
    "duration": 40,
    "start_time": "2024-06-12T17:54:45.122Z"
   },
   {
    "duration": 5,
    "start_time": "2024-06-12T17:54:56.475Z"
   },
   {
    "duration": 38,
    "start_time": "2024-06-12T17:55:05.539Z"
   },
   {
    "duration": 124,
    "start_time": "2024-06-12T17:56:39.162Z"
   },
   {
    "duration": 23,
    "start_time": "2024-06-12T17:59:23.099Z"
   },
   {
    "duration": 25,
    "start_time": "2024-06-12T17:59:26.102Z"
   },
   {
    "duration": 11,
    "start_time": "2024-06-12T17:59:40.721Z"
   },
   {
    "duration": 13,
    "start_time": "2024-06-12T17:59:49.017Z"
   },
   {
    "duration": 12,
    "start_time": "2024-06-12T18:00:11.416Z"
   },
   {
    "duration": 3868,
    "start_time": "2024-06-12T18:02:41.323Z"
   },
   {
    "duration": 719,
    "start_time": "2024-06-12T18:04:14.400Z"
   },
   {
    "duration": 1743,
    "start_time": "2024-06-12T18:04:15.122Z"
   },
   {
    "duration": 365,
    "start_time": "2024-06-12T18:04:16.868Z"
   },
   {
    "duration": 154,
    "start_time": "2024-06-12T18:04:17.237Z"
   },
   {
    "duration": 5652,
    "start_time": "2024-06-12T18:04:17.395Z"
   },
   {
    "duration": 29,
    "start_time": "2024-06-12T18:04:23.050Z"
   },
   {
    "duration": 53,
    "start_time": "2024-06-12T18:04:23.082Z"
   },
   {
    "duration": 267,
    "start_time": "2024-06-12T18:04:23.141Z"
   },
   {
    "duration": 33,
    "start_time": "2024-06-12T18:04:23.413Z"
   },
   {
    "duration": 206,
    "start_time": "2024-06-12T18:04:23.449Z"
   },
   {
    "duration": 181,
    "start_time": "2024-06-12T18:04:23.658Z"
   },
   {
    "duration": 87,
    "start_time": "2024-06-12T18:04:23.843Z"
   },
   {
    "duration": 21,
    "start_time": "2024-06-12T18:04:23.933Z"
   },
   {
    "duration": 5,
    "start_time": "2024-06-12T18:04:23.962Z"
   },
   {
    "duration": 110,
    "start_time": "2024-06-12T18:04:23.970Z"
   },
   {
    "duration": 40,
    "start_time": "2024-06-12T18:04:24.083Z"
   },
   {
    "duration": 10,
    "start_time": "2024-06-12T18:04:24.126Z"
   },
   {
    "duration": 5,
    "start_time": "2024-06-12T18:04:24.139Z"
   },
   {
    "duration": 8,
    "start_time": "2024-06-12T18:04:24.147Z"
   },
   {
    "duration": 5,
    "start_time": "2024-06-12T18:04:24.161Z"
   },
   {
    "duration": 1346,
    "start_time": "2024-06-12T18:04:24.169Z"
   },
   {
    "duration": 477,
    "start_time": "2024-06-12T18:04:25.518Z"
   },
   {
    "duration": 18,
    "start_time": "2024-06-12T18:04:25.997Z"
   },
   {
    "duration": 16,
    "start_time": "2024-06-12T18:04:26.018Z"
   },
   {
    "duration": 15,
    "start_time": "2024-06-12T18:04:26.036Z"
   },
   {
    "duration": 8,
    "start_time": "2024-06-12T18:04:26.053Z"
   },
   {
    "duration": 60,
    "start_time": "2024-06-12T18:04:26.064Z"
   },
   {
    "duration": 10,
    "start_time": "2024-06-12T18:04:26.127Z"
   },
   {
    "duration": 9,
    "start_time": "2024-06-12T18:04:26.140Z"
   },
   {
    "duration": 68,
    "start_time": "2024-06-12T18:04:26.152Z"
   },
   {
    "duration": 48,
    "start_time": "2024-06-12T18:04:26.223Z"
   },
   {
    "duration": 40,
    "start_time": "2024-06-12T18:04:26.274Z"
   },
   {
    "duration": 18,
    "start_time": "2024-06-12T18:04:26.317Z"
   },
   {
    "duration": 154,
    "start_time": "2024-06-12T18:04:26.338Z"
   },
   {
    "duration": 24,
    "start_time": "2024-06-12T18:04:26.494Z"
   },
   {
    "duration": 13,
    "start_time": "2024-06-12T18:04:26.521Z"
   },
   {
    "duration": 377,
    "start_time": "2024-06-12T18:04:26.536Z"
   },
   {
    "duration": 25,
    "start_time": "2024-06-12T18:04:52.567Z"
   },
   {
    "duration": 683,
    "start_time": "2024-06-12T18:07:49.548Z"
   },
   {
    "duration": 1725,
    "start_time": "2024-06-12T18:07:50.235Z"
   },
   {
    "duration": 384,
    "start_time": "2024-06-12T18:07:51.963Z"
   },
   {
    "duration": 171,
    "start_time": "2024-06-12T18:07:52.351Z"
   },
   {
    "duration": 5754,
    "start_time": "2024-06-12T18:07:52.525Z"
   },
   {
    "duration": 39,
    "start_time": "2024-06-12T18:07:58.282Z"
   },
   {
    "duration": 26,
    "start_time": "2024-06-12T18:07:58.324Z"
   },
   {
    "duration": 252,
    "start_time": "2024-06-12T18:07:58.353Z"
   },
   {
    "duration": 33,
    "start_time": "2024-06-12T18:07:58.614Z"
   },
   {
    "duration": 220,
    "start_time": "2024-06-12T18:07:58.654Z"
   },
   {
    "duration": 160,
    "start_time": "2024-06-12T18:07:58.877Z"
   },
   {
    "duration": 79,
    "start_time": "2024-06-12T18:07:59.040Z"
   },
   {
    "duration": 22,
    "start_time": "2024-06-12T18:07:59.122Z"
   },
   {
    "duration": 5,
    "start_time": "2024-06-12T18:07:59.147Z"
   },
   {
    "duration": 127,
    "start_time": "2024-06-12T18:07:59.155Z"
   },
   {
    "duration": 36,
    "start_time": "2024-06-12T18:07:59.285Z"
   },
   {
    "duration": 9,
    "start_time": "2024-06-12T18:07:59.323Z"
   },
   {
    "duration": 6,
    "start_time": "2024-06-12T18:07:59.335Z"
   },
   {
    "duration": 7,
    "start_time": "2024-06-12T18:07:59.345Z"
   },
   {
    "duration": 6,
    "start_time": "2024-06-12T18:07:59.356Z"
   },
   {
    "duration": 1297,
    "start_time": "2024-06-12T18:07:59.413Z"
   },
   {
    "duration": 436,
    "start_time": "2024-06-12T18:08:00.713Z"
   },
   {
    "duration": 20,
    "start_time": "2024-06-12T18:08:01.152Z"
   },
   {
    "duration": 15,
    "start_time": "2024-06-12T18:08:01.177Z"
   },
   {
    "duration": 13,
    "start_time": "2024-06-12T18:08:01.213Z"
   },
   {
    "duration": 8,
    "start_time": "2024-06-12T18:08:01.229Z"
   },
   {
    "duration": 14,
    "start_time": "2024-06-12T18:08:01.240Z"
   },
   {
    "duration": 53,
    "start_time": "2024-06-12T18:08:01.262Z"
   },
   {
    "duration": 8,
    "start_time": "2024-06-12T18:08:01.318Z"
   },
   {
    "duration": 27,
    "start_time": "2024-06-12T18:08:01.329Z"
   },
   {
    "duration": 89,
    "start_time": "2024-06-12T18:08:01.360Z"
   },
   {
    "duration": 12,
    "start_time": "2024-06-12T18:08:01.452Z"
   },
   {
    "duration": 15,
    "start_time": "2024-06-12T18:08:01.467Z"
   },
   {
    "duration": 132,
    "start_time": "2024-06-12T18:08:01.517Z"
   },
   {
    "duration": 13,
    "start_time": "2024-06-12T18:08:01.652Z"
   },
   {
    "duration": 12,
    "start_time": "2024-06-12T18:08:01.668Z"
   },
   {
    "duration": 18,
    "start_time": "2024-06-12T18:08:41.492Z"
   },
   {
    "duration": 15,
    "start_time": "2024-06-12T18:08:49.296Z"
   },
   {
    "duration": 8,
    "start_time": "2024-06-12T18:10:52.531Z"
   },
   {
    "duration": 245,
    "start_time": "2024-06-12T22:12:27.086Z"
   },
   {
    "duration": 1886,
    "start_time": "2024-06-12T22:15:05.994Z"
   },
   {
    "duration": 982,
    "start_time": "2024-06-12T22:16:10.646Z"
   },
   {
    "duration": 551,
    "start_time": "2024-06-12T22:16:24.419Z"
   },
   {
    "duration": 774,
    "start_time": "2024-06-12T22:16:40.698Z"
   },
   {
    "duration": 8,
    "start_time": "2024-06-12T22:17:11.154Z"
   },
   {
    "duration": 276,
    "start_time": "2024-06-12T22:17:16.146Z"
   },
   {
    "duration": 1151,
    "start_time": "2024-06-12T22:20:59.355Z"
   },
   {
    "duration": 279,
    "start_time": "2024-06-12T22:22:15.070Z"
   },
   {
    "duration": 292,
    "start_time": "2024-06-12T22:25:46.789Z"
   },
   {
    "duration": 10,
    "start_time": "2024-06-12T22:29:14.108Z"
   },
   {
    "duration": 442,
    "start_time": "2024-06-12T22:29:19.484Z"
   },
   {
    "duration": 373,
    "start_time": "2024-06-12T22:30:00.533Z"
   },
   {
    "duration": 375,
    "start_time": "2024-06-12T22:35:59.504Z"
   },
   {
    "duration": 426,
    "start_time": "2024-06-12T22:37:17.910Z"
   },
   {
    "duration": 405,
    "start_time": "2024-06-12T22:37:46.810Z"
   },
   {
    "duration": 379,
    "start_time": "2024-06-12T22:37:50.541Z"
   },
   {
    "duration": 29,
    "start_time": "2024-06-12T22:41:19.878Z"
   },
   {
    "duration": 392,
    "start_time": "2024-06-12T23:18:17.412Z"
   },
   {
    "duration": 567,
    "start_time": "2024-06-12T23:18:39.938Z"
   },
   {
    "duration": 299,
    "start_time": "2024-06-12T23:19:32.408Z"
   },
   {
    "duration": 306,
    "start_time": "2024-06-12T23:19:40.481Z"
   },
   {
    "duration": 7,
    "start_time": "2024-06-12T23:21:55.074Z"
   },
   {
    "duration": 5,
    "start_time": "2024-06-12T23:23:39.756Z"
   },
   {
    "duration": 166,
    "start_time": "2024-06-12T23:23:45.993Z"
   },
   {
    "duration": 29,
    "start_time": "2024-06-12T23:23:53.677Z"
   },
   {
    "duration": 45,
    "start_time": "2024-06-12T23:24:35.441Z"
   },
   {
    "duration": 18,
    "start_time": "2024-06-12T23:25:06.460Z"
   },
   {
    "duration": 310,
    "start_time": "2024-06-12T23:25:39.492Z"
   },
   {
    "duration": 24,
    "start_time": "2024-06-12T23:28:05.227Z"
   },
   {
    "duration": 26,
    "start_time": "2024-06-12T23:28:13.261Z"
   },
   {
    "duration": 55,
    "start_time": "2024-06-12T23:28:22.151Z"
   },
   {
    "duration": 39,
    "start_time": "2024-06-12T23:28:29.214Z"
   },
   {
    "duration": 1441,
    "start_time": "2024-06-12T23:30:53.712Z"
   },
   {
    "duration": 45,
    "start_time": "2024-06-12T23:31:09.490Z"
   },
   {
    "duration": 18,
    "start_time": "2024-06-12T23:31:19.722Z"
   },
   {
    "duration": 67,
    "start_time": "2024-06-12T23:31:26.801Z"
   },
   {
    "duration": 39,
    "start_time": "2024-06-12T23:31:33.626Z"
   },
   {
    "duration": 239,
    "start_time": "2024-06-12T23:33:16.360Z"
   },
   {
    "duration": 146,
    "start_time": "2024-06-12T23:33:37.543Z"
   },
   {
    "duration": 127,
    "start_time": "2024-06-12T23:33:55.535Z"
   },
   {
    "duration": 156,
    "start_time": "2024-06-12T23:34:15.585Z"
   },
   {
    "duration": 525,
    "start_time": "2024-06-12T23:34:38.503Z"
   },
   {
    "duration": 437,
    "start_time": "2024-06-12T23:34:50.182Z"
   },
   {
    "duration": 453,
    "start_time": "2024-06-12T23:35:54.608Z"
   },
   {
    "duration": 443,
    "start_time": "2024-06-12T23:36:35.632Z"
   },
   {
    "duration": 264,
    "start_time": "2024-06-12T23:41:16.052Z"
   },
   {
    "duration": 1536,
    "start_time": "2024-06-12T23:41:38.148Z"
   },
   {
    "duration": 1494,
    "start_time": "2024-06-12T23:41:54.755Z"
   },
   {
    "duration": 304,
    "start_time": "2024-06-12T23:42:02.850Z"
   },
   {
    "duration": 269,
    "start_time": "2024-06-12T23:42:08.338Z"
   },
   {
    "duration": 397,
    "start_time": "2024-06-12T23:42:21.883Z"
   },
   {
    "duration": 1713,
    "start_time": "2024-06-12T23:42:45.406Z"
   },
   {
    "duration": 595,
    "start_time": "2024-06-12T23:42:57.370Z"
   },
   {
    "duration": 565,
    "start_time": "2024-06-12T23:43:05.238Z"
   },
   {
    "duration": 163,
    "start_time": "2024-06-12T23:46:19.236Z"
   },
   {
    "duration": 150,
    "start_time": "2024-06-12T23:47:04.762Z"
   },
   {
    "duration": 725,
    "start_time": "2024-06-12T23:47:23.072Z"
   },
   {
    "duration": 156,
    "start_time": "2024-06-12T23:47:47.881Z"
   },
   {
    "duration": 180,
    "start_time": "2024-06-12T23:49:43.159Z"
   },
   {
    "duration": 187,
    "start_time": "2024-06-12T23:50:29.246Z"
   },
   {
    "duration": 171,
    "start_time": "2024-06-12T23:50:36.062Z"
   },
   {
    "duration": 197,
    "start_time": "2024-06-12T23:53:23.691Z"
   },
   {
    "duration": 237,
    "start_time": "2024-06-12T23:53:41.109Z"
   },
   {
    "duration": 7,
    "start_time": "2024-06-12T23:53:55.486Z"
   },
   {
    "duration": 140,
    "start_time": "2024-06-12T23:53:59.581Z"
   },
   {
    "duration": 131,
    "start_time": "2024-06-12T23:54:06.515Z"
   },
   {
    "duration": 129,
    "start_time": "2024-06-12T23:54:28.915Z"
   },
   {
    "duration": 129,
    "start_time": "2024-06-12T23:54:32.773Z"
   },
   {
    "duration": 217,
    "start_time": "2024-06-12T23:55:26.752Z"
   },
   {
    "duration": 132,
    "start_time": "2024-06-12T23:55:35.700Z"
   },
   {
    "duration": 134,
    "start_time": "2024-06-12T23:57:14.194Z"
   },
   {
    "duration": 138,
    "start_time": "2024-06-12T23:57:46.814Z"
   },
   {
    "duration": 249,
    "start_time": "2024-06-12T23:58:37.419Z"
   },
   {
    "duration": 144,
    "start_time": "2024-06-12T23:59:06.672Z"
   },
   {
    "duration": 7512,
    "start_time": "2024-06-12T23:59:23.583Z"
   },
   {
    "duration": 7366,
    "start_time": "2024-06-13T00:01:34.306Z"
   },
   {
    "duration": 7266,
    "start_time": "2024-06-13T00:02:15.011Z"
   },
   {
    "duration": 7054,
    "start_time": "2024-06-13T00:02:29.539Z"
   },
   {
    "duration": 7425,
    "start_time": "2024-06-13T00:05:43.765Z"
   },
   {
    "duration": 518,
    "start_time": "2024-06-13T00:09:42.400Z"
   },
   {
    "duration": 379,
    "start_time": "2024-06-13T00:09:49.027Z"
   },
   {
    "duration": 475,
    "start_time": "2024-06-13T00:09:53.843Z"
   },
   {
    "duration": 481,
    "start_time": "2024-06-13T00:10:14.795Z"
   },
   {
    "duration": 493,
    "start_time": "2024-06-13T00:10:22.507Z"
   },
   {
    "duration": 473,
    "start_time": "2024-06-13T00:10:28.700Z"
   },
   {
    "duration": 524,
    "start_time": "2024-06-13T00:10:40.817Z"
   },
   {
    "duration": 462,
    "start_time": "2024-06-13T00:10:45.286Z"
   },
   {
    "duration": 501,
    "start_time": "2024-06-13T00:10:49.964Z"
   },
   {
    "duration": 990,
    "start_time": "2024-06-13T00:11:24.881Z"
   },
   {
    "duration": 1091,
    "start_time": "2024-06-13T00:12:16.364Z"
   },
   {
    "duration": 1148,
    "start_time": "2024-06-13T00:12:26.202Z"
   },
   {
    "duration": 903,
    "start_time": "2024-06-13T00:12:47.782Z"
   },
   {
    "duration": 1076,
    "start_time": "2024-06-13T00:14:01.514Z"
   },
   {
    "duration": 1096,
    "start_time": "2024-06-13T00:15:01.519Z"
   },
   {
    "duration": 1563,
    "start_time": "2024-06-13T00:15:59.331Z"
   },
   {
    "duration": 1359,
    "start_time": "2024-06-13T00:16:07.456Z"
   },
   {
    "duration": 149,
    "start_time": "2024-06-13T00:20:34.351Z"
   },
   {
    "duration": 135,
    "start_time": "2024-06-13T00:20:45.310Z"
   },
   {
    "duration": 116,
    "start_time": "2024-06-13T00:21:52.309Z"
   },
   {
    "duration": 226,
    "start_time": "2024-06-13T00:21:58.644Z"
   },
   {
    "duration": 314,
    "start_time": "2024-06-13T00:22:09.700Z"
   },
   {
    "duration": 196,
    "start_time": "2024-06-13T00:22:38.079Z"
   },
   {
    "duration": 189,
    "start_time": "2024-06-13T00:23:35.715Z"
   },
   {
    "duration": 214,
    "start_time": "2024-06-13T00:24:25.971Z"
   },
   {
    "duration": 38,
    "start_time": "2024-06-13T00:30:05.769Z"
   },
   {
    "duration": 39,
    "start_time": "2024-06-13T00:30:12.624Z"
   },
   {
    "duration": 46,
    "start_time": "2024-06-13T00:31:43.636Z"
   },
   {
    "duration": 52,
    "start_time": "2024-06-13T00:32:12.959Z"
   },
   {
    "duration": 54,
    "start_time": "2024-06-13T00:32:25.280Z"
   },
   {
    "duration": 7,
    "start_time": "2024-06-13T22:27:23.292Z"
   },
   {
    "duration": 386,
    "start_time": "2024-06-13T22:27:28.805Z"
   },
   {
    "duration": 423,
    "start_time": "2024-06-13T22:28:03.809Z"
   },
   {
    "duration": 494,
    "start_time": "2024-06-13T22:28:23.841Z"
   },
   {
    "duration": 527,
    "start_time": "2024-06-13T22:30:57.132Z"
   },
   {
    "duration": 449,
    "start_time": "2024-06-13T22:31:06.164Z"
   },
   {
    "duration": 450,
    "start_time": "2024-06-13T22:31:40.964Z"
   },
   {
    "duration": 472,
    "start_time": "2024-06-13T22:32:18.028Z"
   },
   {
    "duration": 451,
    "start_time": "2024-06-13T22:32:26.731Z"
   },
   {
    "duration": 486,
    "start_time": "2024-06-13T22:33:10.246Z"
   },
   {
    "duration": 470,
    "start_time": "2024-06-13T22:33:29.246Z"
   },
   {
    "duration": 463,
    "start_time": "2024-06-13T22:33:41.234Z"
   },
   {
    "duration": 8,
    "start_time": "2024-06-13T22:35:36.893Z"
   },
   {
    "duration": 484,
    "start_time": "2024-06-13T22:35:46.164Z"
   },
   {
    "duration": 466,
    "start_time": "2024-06-13T22:35:52.497Z"
   },
   {
    "duration": 484,
    "start_time": "2024-06-13T22:36:44.500Z"
   },
   {
    "duration": 522,
    "start_time": "2024-06-13T22:37:51.317Z"
   },
   {
    "duration": 520,
    "start_time": "2024-06-13T22:38:27.101Z"
   },
   {
    "duration": 489,
    "start_time": "2024-06-13T22:38:57.111Z"
   },
   {
    "duration": 472,
    "start_time": "2024-06-13T22:39:01.625Z"
   },
   {
    "duration": 474,
    "start_time": "2024-06-13T22:39:07.252Z"
   },
   {
    "duration": 507,
    "start_time": "2024-06-13T22:39:13.241Z"
   },
   {
    "duration": 73,
    "start_time": "2024-06-13T22:42:32.306Z"
   },
   {
    "duration": 4,
    "start_time": "2024-06-13T22:43:35.912Z"
   },
   {
    "duration": 77,
    "start_time": "2024-06-13T22:44:04.424Z"
   },
   {
    "duration": 9,
    "start_time": "2024-06-13T22:46:37.197Z"
   },
   {
    "duration": 26,
    "start_time": "2024-06-13T22:48:48.294Z"
   },
   {
    "duration": 25,
    "start_time": "2024-06-13T22:48:54.358Z"
   },
   {
    "duration": 177,
    "start_time": "2024-06-13T22:49:12.197Z"
   },
   {
    "duration": 231,
    "start_time": "2024-06-13T22:50:10.953Z"
   },
   {
    "duration": 230,
    "start_time": "2024-06-13T22:50:43.961Z"
   },
   {
    "duration": 1353,
    "start_time": "2024-06-13T22:51:48.514Z"
   },
   {
    "duration": 1442,
    "start_time": "2024-06-13T22:52:14.873Z"
   },
   {
    "duration": 2092,
    "start_time": "2024-06-13T22:54:32.095Z"
   },
   {
    "duration": 2090,
    "start_time": "2024-06-13T22:55:36.966Z"
   },
   {
    "duration": 2088,
    "start_time": "2024-06-13T22:56:57.358Z"
   },
   {
    "duration": 2256,
    "start_time": "2024-06-13T22:57:11.422Z"
   },
   {
    "duration": 2170,
    "start_time": "2024-06-13T22:57:18.269Z"
   },
   {
    "duration": 2130,
    "start_time": "2024-06-13T22:57:40.485Z"
   },
   {
    "duration": 2325,
    "start_time": "2024-06-13T22:58:11.361Z"
   },
   {
    "duration": 2223,
    "start_time": "2024-06-13T22:58:20.340Z"
   },
   {
    "duration": 2143,
    "start_time": "2024-06-13T23:01:10.949Z"
   },
   {
    "duration": 24,
    "start_time": "2024-06-13T23:04:12.993Z"
   },
   {
    "duration": 145,
    "start_time": "2024-06-13T23:04:21.817Z"
   },
   {
    "duration": 157,
    "start_time": "2024-06-13T23:06:14.772Z"
   },
   {
    "duration": 138,
    "start_time": "2024-06-13T23:06:24.188Z"
   },
   {
    "duration": 311,
    "start_time": "2024-06-13T23:06:31.136Z"
   },
   {
    "duration": 5,
    "start_time": "2024-06-13T23:06:42.661Z"
   },
   {
    "duration": 260,
    "start_time": "2024-06-13T23:06:45.787Z"
   },
   {
    "duration": 148,
    "start_time": "2024-06-13T23:07:07.745Z"
   },
   {
    "duration": 3320,
    "start_time": "2024-06-13T23:07:18.428Z"
   },
   {
    "duration": 270,
    "start_time": "2024-06-13T23:07:41.860Z"
   },
   {
    "duration": 267,
    "start_time": "2024-06-13T23:07:50.045Z"
   },
   {
    "duration": 270,
    "start_time": "2024-06-13T23:07:56.402Z"
   },
   {
    "duration": 376,
    "start_time": "2024-06-13T23:08:01.307Z"
   },
   {
    "duration": 294,
    "start_time": "2024-06-13T23:08:05.693Z"
   },
   {
    "duration": 280,
    "start_time": "2024-06-13T23:08:34.596Z"
   },
   {
    "duration": 266,
    "start_time": "2024-06-13T23:08:40.196Z"
   },
   {
    "duration": 268,
    "start_time": "2024-06-13T23:08:48.496Z"
   },
   {
    "duration": 265,
    "start_time": "2024-06-13T23:09:05.299Z"
   },
   {
    "duration": 8,
    "start_time": "2024-06-13T23:11:12.030Z"
   },
   {
    "duration": 269,
    "start_time": "2024-06-13T23:11:21.482Z"
   },
   {
    "duration": 213,
    "start_time": "2024-06-13T23:12:29.617Z"
   },
   {
    "duration": 289,
    "start_time": "2024-06-13T23:13:24.912Z"
   },
   {
    "duration": 521,
    "start_time": "2024-06-13T23:13:31.276Z"
   },
   {
    "duration": 297,
    "start_time": "2024-06-13T23:15:00.255Z"
   },
   {
    "duration": 300,
    "start_time": "2024-06-13T23:15:49.950Z"
   },
   {
    "duration": 304,
    "start_time": "2024-06-13T23:16:50.939Z"
   },
   {
    "duration": 306,
    "start_time": "2024-06-13T23:16:59.486Z"
   },
   {
    "duration": 608,
    "start_time": "2024-06-13T23:17:48.283Z"
   },
   {
    "duration": 313,
    "start_time": "2024-06-13T23:18:27.573Z"
   },
   {
    "duration": 335,
    "start_time": "2024-06-13T23:20:03.487Z"
   },
   {
    "duration": 323,
    "start_time": "2024-06-13T23:22:16.689Z"
   },
   {
    "duration": 339,
    "start_time": "2024-06-13T23:23:01.784Z"
   },
   {
    "duration": 224,
    "start_time": "2024-06-13T23:24:05.813Z"
   },
   {
    "duration": 326,
    "start_time": "2024-06-13T23:24:36.228Z"
   },
   {
    "duration": 314,
    "start_time": "2024-06-13T23:25:53.032Z"
   },
   {
    "duration": 322,
    "start_time": "2024-06-13T23:25:57.570Z"
   },
   {
    "duration": 381,
    "start_time": "2024-06-14T15:02:07.845Z"
   },
   {
    "duration": 429,
    "start_time": "2024-06-14T15:02:13.492Z"
   },
   {
    "duration": 1498,
    "start_time": "2024-06-14T15:04:13.227Z"
   },
   {
    "duration": 1507,
    "start_time": "2024-06-14T15:04:27.469Z"
   },
   {
    "duration": 30,
    "start_time": "2024-06-14T15:07:44.679Z"
   },
   {
    "duration": 11,
    "start_time": "2024-06-14T15:09:41.678Z"
   },
   {
    "duration": 10,
    "start_time": "2024-06-14T15:09:54.149Z"
   },
   {
    "duration": 4,
    "start_time": "2024-06-14T15:10:16.825Z"
   },
   {
    "duration": 955,
    "start_time": "2024-06-14T15:10:47.618Z"
   },
   {
    "duration": 2105,
    "start_time": "2024-06-14T15:10:48.585Z"
   },
   {
    "duration": 481,
    "start_time": "2024-06-14T15:10:50.695Z"
   },
   {
    "duration": 220,
    "start_time": "2024-06-14T15:10:51.182Z"
   },
   {
    "duration": 6878,
    "start_time": "2024-06-14T15:10:51.412Z"
   },
   {
    "duration": 46,
    "start_time": "2024-06-14T15:10:58.294Z"
   },
   {
    "duration": 31,
    "start_time": "2024-06-14T15:10:58.343Z"
   },
   {
    "duration": 316,
    "start_time": "2024-06-14T15:10:58.378Z"
   },
   {
    "duration": 46,
    "start_time": "2024-06-14T15:10:58.698Z"
   },
   {
    "duration": 234,
    "start_time": "2024-06-14T15:10:58.753Z"
   },
   {
    "duration": 213,
    "start_time": "2024-06-14T15:10:58.993Z"
   },
   {
    "duration": 107,
    "start_time": "2024-06-14T15:10:59.214Z"
   },
   {
    "duration": 32,
    "start_time": "2024-06-14T15:10:59.325Z"
   },
   {
    "duration": 6,
    "start_time": "2024-06-14T15:10:59.360Z"
   },
   {
    "duration": 156,
    "start_time": "2024-06-14T15:10:59.370Z"
   },
   {
    "duration": 33,
    "start_time": "2024-06-14T15:10:59.529Z"
   },
   {
    "duration": 10,
    "start_time": "2024-06-14T15:10:59.568Z"
   },
   {
    "duration": 6,
    "start_time": "2024-06-14T15:10:59.613Z"
   },
   {
    "duration": 10,
    "start_time": "2024-06-14T15:10:59.623Z"
   },
   {
    "duration": 6,
    "start_time": "2024-06-14T15:10:59.636Z"
   },
   {
    "duration": 1555,
    "start_time": "2024-06-14T15:10:59.645Z"
   },
   {
    "duration": 1832,
    "start_time": "2024-06-14T15:11:01.203Z"
   },
   {
    "duration": 16,
    "start_time": "2024-06-14T15:11:03.037Z"
   },
   {
    "duration": 14,
    "start_time": "2024-06-14T15:11:03.056Z"
   },
   {
    "duration": 50,
    "start_time": "2024-06-14T15:11:03.073Z"
   },
   {
    "duration": 13,
    "start_time": "2024-06-14T15:11:03.126Z"
   },
   {
    "duration": 22,
    "start_time": "2024-06-14T15:11:03.142Z"
   },
   {
    "duration": 59,
    "start_time": "2024-06-14T15:11:03.172Z"
   },
   {
    "duration": 31,
    "start_time": "2024-06-14T15:11:03.235Z"
   },
   {
    "duration": 73,
    "start_time": "2024-06-14T15:11:03.271Z"
   },
   {
    "duration": 74,
    "start_time": "2024-06-14T15:11:03.348Z"
   },
   {
    "duration": 15,
    "start_time": "2024-06-14T15:11:03.426Z"
   },
   {
    "duration": 15,
    "start_time": "2024-06-14T15:11:10.052Z"
   },
   {
    "duration": 15,
    "start_time": "2024-06-14T15:11:22.910Z"
   },
   {
    "duration": 157,
    "start_time": "2024-06-14T15:12:40.345Z"
   },
   {
    "duration": 448,
    "start_time": "2024-06-14T15:13:47.673Z"
   },
   {
    "duration": 484,
    "start_time": "2024-06-14T15:13:56.314Z"
   },
   {
    "duration": 3162,
    "start_time": "2024-06-14T15:15:06.161Z"
   },
   {
    "duration": 717,
    "start_time": "2024-06-14T15:16:51.600Z"
   },
   {
    "duration": 1761,
    "start_time": "2024-06-14T15:16:52.321Z"
   },
   {
    "duration": 383,
    "start_time": "2024-06-14T15:16:54.085Z"
   },
   {
    "duration": 186,
    "start_time": "2024-06-14T15:16:54.473Z"
   },
   {
    "duration": 5964,
    "start_time": "2024-06-14T15:16:54.662Z"
   },
   {
    "duration": 29,
    "start_time": "2024-06-14T15:17:00.629Z"
   },
   {
    "duration": 64,
    "start_time": "2024-06-14T15:17:00.663Z"
   },
   {
    "duration": 244,
    "start_time": "2024-06-14T15:17:00.730Z"
   },
   {
    "duration": 50,
    "start_time": "2024-06-14T15:17:00.977Z"
   },
   {
    "duration": 198,
    "start_time": "2024-06-14T15:17:01.036Z"
   },
   {
    "duration": 178,
    "start_time": "2024-06-14T15:17:01.237Z"
   },
   {
    "duration": 67,
    "start_time": "2024-06-14T15:17:01.419Z"
   },
   {
    "duration": 47,
    "start_time": "2024-06-14T15:17:01.489Z"
   },
   {
    "duration": 6,
    "start_time": "2024-06-14T15:17:01.539Z"
   },
   {
    "duration": 117,
    "start_time": "2024-06-14T15:17:01.548Z"
   },
   {
    "duration": 26,
    "start_time": "2024-06-14T15:17:01.668Z"
   },
   {
    "duration": 8,
    "start_time": "2024-06-14T15:17:01.714Z"
   },
   {
    "duration": 5,
    "start_time": "2024-06-14T15:17:01.726Z"
   },
   {
    "duration": 10,
    "start_time": "2024-06-14T15:17:01.735Z"
   },
   {
    "duration": 7,
    "start_time": "2024-06-14T15:17:01.747Z"
   },
   {
    "duration": 1304,
    "start_time": "2024-06-14T15:17:01.812Z"
   },
   {
    "duration": 1566,
    "start_time": "2024-06-14T15:17:03.119Z"
   },
   {
    "duration": 21,
    "start_time": "2024-06-14T15:17:04.691Z"
   },
   {
    "duration": 16,
    "start_time": "2024-06-14T15:17:04.716Z"
   },
   {
    "duration": 16,
    "start_time": "2024-06-14T15:17:04.735Z"
   },
   {
    "duration": 10,
    "start_time": "2024-06-14T15:17:04.754Z"
   },
   {
    "duration": 15,
    "start_time": "2024-06-14T15:17:04.814Z"
   },
   {
    "duration": 9,
    "start_time": "2024-06-14T15:17:04.836Z"
   },
   {
    "duration": 70,
    "start_time": "2024-06-14T15:17:04.848Z"
   },
   {
    "duration": 29,
    "start_time": "2024-06-14T15:17:04.920Z"
   },
   {
    "duration": 81,
    "start_time": "2024-06-14T15:17:04.952Z"
   },
   {
    "duration": 11,
    "start_time": "2024-06-14T15:17:05.036Z"
   },
   {
    "duration": 12,
    "start_time": "2024-06-14T15:17:05.050Z"
   },
   {
    "duration": 215,
    "start_time": "2024-06-14T15:17:05.064Z"
   },
   {
    "duration": 32,
    "start_time": "2024-06-14T15:17:05.281Z"
   },
   {
    "duration": 13,
    "start_time": "2024-06-14T15:17:05.316Z"
   },
   {
    "duration": 573,
    "start_time": "2024-06-14T15:17:08.610Z"
   },
   {
    "duration": 0,
    "start_time": "2024-06-14T15:18:17.629Z"
   },
   {
    "duration": 411,
    "start_time": "2024-06-14T15:18:20.589Z"
   },
   {
    "duration": 377,
    "start_time": "2024-06-14T15:20:49.845Z"
   },
   {
    "duration": 384,
    "start_time": "2024-06-14T23:37:39.078Z"
   },
   {
    "duration": 435,
    "start_time": "2024-06-14T23:37:53.317Z"
   },
   {
    "duration": 377,
    "start_time": "2024-06-14T23:38:38.863Z"
   },
   {
    "duration": 358,
    "start_time": "2024-06-14T23:39:14.799Z"
   },
   {
    "duration": 354,
    "start_time": "2024-06-14T23:39:41.204Z"
   },
   {
    "duration": 528,
    "start_time": "2024-06-14T23:40:09.822Z"
   },
   {
    "duration": 506,
    "start_time": "2024-06-14T23:40:57.430Z"
   },
   {
    "duration": 494,
    "start_time": "2024-06-14T23:41:37.851Z"
   },
   {
    "duration": 702,
    "start_time": "2024-06-14T23:43:01.810Z"
   },
   {
    "duration": 1591,
    "start_time": "2024-06-14T23:43:02.516Z"
   },
   {
    "duration": 373,
    "start_time": "2024-06-14T23:43:04.110Z"
   },
   {
    "duration": 153,
    "start_time": "2024-06-14T23:43:04.486Z"
   },
   {
    "duration": 5824,
    "start_time": "2024-06-14T23:43:04.644Z"
   },
   {
    "duration": 48,
    "start_time": "2024-06-14T23:43:10.471Z"
   },
   {
    "duration": 30,
    "start_time": "2024-06-14T23:43:10.522Z"
   },
   {
    "duration": 293,
    "start_time": "2024-06-14T23:43:10.556Z"
   },
   {
    "duration": 32,
    "start_time": "2024-06-14T23:43:10.852Z"
   },
   {
    "duration": 221,
    "start_time": "2024-06-14T23:43:10.886Z"
   },
   {
    "duration": 150,
    "start_time": "2024-06-14T23:43:11.110Z"
   },
   {
    "duration": 74,
    "start_time": "2024-06-14T23:43:11.263Z"
   },
   {
    "duration": 23,
    "start_time": "2024-06-14T23:43:11.339Z"
   },
   {
    "duration": 6,
    "start_time": "2024-06-14T23:43:11.369Z"
   },
   {
    "duration": 108,
    "start_time": "2024-06-14T23:43:11.379Z"
   },
   {
    "duration": 42,
    "start_time": "2024-06-14T23:43:11.489Z"
   },
   {
    "duration": 7,
    "start_time": "2024-06-14T23:43:11.535Z"
   },
   {
    "duration": 5,
    "start_time": "2024-06-14T23:43:11.546Z"
   },
   {
    "duration": 9,
    "start_time": "2024-06-14T23:43:11.554Z"
   },
   {
    "duration": 47,
    "start_time": "2024-06-14T23:43:11.566Z"
   },
   {
    "duration": 1304,
    "start_time": "2024-06-14T23:43:11.616Z"
   },
   {
    "duration": 1532,
    "start_time": "2024-06-14T23:43:12.923Z"
   },
   {
    "duration": 12,
    "start_time": "2024-06-14T23:43:14.458Z"
   },
   {
    "duration": 42,
    "start_time": "2024-06-14T23:43:14.473Z"
   },
   {
    "duration": 17,
    "start_time": "2024-06-14T23:43:14.519Z"
   },
   {
    "duration": 10,
    "start_time": "2024-06-14T23:43:14.539Z"
   },
   {
    "duration": 16,
    "start_time": "2024-06-14T23:43:14.552Z"
   },
   {
    "duration": 10,
    "start_time": "2024-06-14T23:43:14.612Z"
   },
   {
    "duration": 25,
    "start_time": "2024-06-14T23:43:14.625Z"
   },
   {
    "duration": 64,
    "start_time": "2024-06-14T23:43:14.653Z"
   },
   {
    "duration": 53,
    "start_time": "2024-06-14T23:43:14.720Z"
   },
   {
    "duration": 36,
    "start_time": "2024-06-14T23:43:14.776Z"
   },
   {
    "duration": 13,
    "start_time": "2024-06-14T23:43:14.815Z"
   },
   {
    "duration": 190,
    "start_time": "2024-06-14T23:43:14.831Z"
   },
   {
    "duration": 12,
    "start_time": "2024-06-14T23:43:15.024Z"
   },
   {
    "duration": 12,
    "start_time": "2024-06-14T23:43:15.039Z"
   },
   {
    "duration": 592,
    "start_time": "2024-06-14T23:43:15.054Z"
   },
   {
    "duration": 434,
    "start_time": "2024-06-14T23:43:15.649Z"
   },
   {
    "duration": 361,
    "start_time": "2024-06-14T23:43:21.177Z"
   },
   {
    "duration": 323,
    "start_time": "2024-06-14T23:46:12.680Z"
   },
   {
    "duration": 712,
    "start_time": "2024-06-14T23:46:38.195Z"
   },
   {
    "duration": 1675,
    "start_time": "2024-06-14T23:46:38.910Z"
   },
   {
    "duration": 358,
    "start_time": "2024-06-14T23:46:40.589Z"
   },
   {
    "duration": 181,
    "start_time": "2024-06-14T23:46:40.951Z"
   },
   {
    "duration": 5696,
    "start_time": "2024-06-14T23:46:41.138Z"
   },
   {
    "duration": 29,
    "start_time": "2024-06-14T23:46:46.837Z"
   },
   {
    "duration": 50,
    "start_time": "2024-06-14T23:46:46.869Z"
   },
   {
    "duration": 244,
    "start_time": "2024-06-14T23:46:46.922Z"
   },
   {
    "duration": 47,
    "start_time": "2024-06-14T23:46:47.171Z"
   },
   {
    "duration": 180,
    "start_time": "2024-06-14T23:46:47.222Z"
   },
   {
    "duration": 164,
    "start_time": "2024-06-14T23:46:47.405Z"
   },
   {
    "duration": 78,
    "start_time": "2024-06-14T23:46:47.572Z"
   },
   {
    "duration": 26,
    "start_time": "2024-06-14T23:46:47.656Z"
   },
   {
    "duration": 24,
    "start_time": "2024-06-14T23:46:47.690Z"
   },
   {
    "duration": 99,
    "start_time": "2024-06-14T23:46:47.718Z"
   },
   {
    "duration": 24,
    "start_time": "2024-06-14T23:46:47.819Z"
   },
   {
    "duration": 8,
    "start_time": "2024-06-14T23:46:47.846Z"
   },
   {
    "duration": 6,
    "start_time": "2024-06-14T23:46:47.857Z"
   },
   {
    "duration": 51,
    "start_time": "2024-06-14T23:46:47.867Z"
   },
   {
    "duration": 5,
    "start_time": "2024-06-14T23:46:47.921Z"
   },
   {
    "duration": 1341,
    "start_time": "2024-06-14T23:46:47.930Z"
   },
   {
    "duration": 1538,
    "start_time": "2024-06-14T23:46:49.274Z"
   },
   {
    "duration": 13,
    "start_time": "2024-06-14T23:46:50.815Z"
   },
   {
    "duration": 14,
    "start_time": "2024-06-14T23:46:50.831Z"
   },
   {
    "duration": 14,
    "start_time": "2024-06-14T23:46:50.848Z"
   },
   {
    "duration": 51,
    "start_time": "2024-06-14T23:46:50.866Z"
   },
   {
    "duration": 17,
    "start_time": "2024-06-14T23:46:50.921Z"
   },
   {
    "duration": 10,
    "start_time": "2024-06-14T23:46:50.942Z"
   },
   {
    "duration": 70,
    "start_time": "2024-06-14T23:46:50.955Z"
   },
   {
    "duration": 29,
    "start_time": "2024-06-14T23:46:51.028Z"
   },
   {
    "duration": 76,
    "start_time": "2024-06-14T23:46:51.060Z"
   },
   {
    "duration": 11,
    "start_time": "2024-06-14T23:46:51.140Z"
   },
   {
    "duration": 11,
    "start_time": "2024-06-14T23:46:51.155Z"
   },
   {
    "duration": 191,
    "start_time": "2024-06-14T23:46:51.169Z"
   },
   {
    "duration": 12,
    "start_time": "2024-06-14T23:46:51.363Z"
   },
   {
    "duration": 34,
    "start_time": "2024-06-14T23:46:51.379Z"
   },
   {
    "duration": 575,
    "start_time": "2024-06-14T23:46:51.416Z"
   },
   {
    "duration": 449,
    "start_time": "2024-06-14T23:46:51.997Z"
   },
   {
    "duration": 505,
    "start_time": "2024-06-14T23:47:02.164Z"
   },
   {
    "duration": 271,
    "start_time": "2024-06-14T23:50:12.485Z"
   },
   {
    "duration": 313,
    "start_time": "2024-06-14T23:50:21.382Z"
   },
   {
    "duration": 14,
    "start_time": "2024-06-14T23:50:52.973Z"
   },
   {
    "duration": 479,
    "start_time": "2024-06-14T23:51:01.145Z"
   },
   {
    "duration": 529,
    "start_time": "2024-06-14T23:51:36.015Z"
   },
   {
    "duration": 74,
    "start_time": "2024-06-14T23:52:59.556Z"
   },
   {
    "duration": 780,
    "start_time": "2024-06-14T23:53:07.160Z"
   },
   {
    "duration": 182,
    "start_time": "2024-06-14T23:53:48.747Z"
   },
   {
    "duration": 982,
    "start_time": "2024-06-14T23:54:32.963Z"
   },
   {
    "duration": 1581,
    "start_time": "2024-06-14T23:54:41.420Z"
   },
   {
    "duration": 955,
    "start_time": "2024-06-14T23:54:51.264Z"
   },
   {
    "duration": 1907,
    "start_time": "2024-06-14T23:55:17.298Z"
   },
   {
    "duration": 1080,
    "start_time": "2024-06-14T23:56:03.523Z"
   },
   {
    "duration": 1172,
    "start_time": "2024-06-14T23:56:27.010Z"
   },
   {
    "duration": 935,
    "start_time": "2024-06-14T23:56:46.611Z"
   },
   {
    "duration": 962,
    "start_time": "2024-06-14T23:56:55.946Z"
   },
   {
    "duration": 1911,
    "start_time": "2024-06-14T23:57:04.964Z"
   },
   {
    "duration": 1777,
    "start_time": "2024-06-14T23:57:53.854Z"
   },
   {
    "duration": 1995,
    "start_time": "2024-06-14T23:58:30.882Z"
   },
   {
    "duration": 1030,
    "start_time": "2024-06-14T23:58:39.255Z"
   },
   {
    "duration": 999,
    "start_time": "2024-06-14T23:58:47.633Z"
   },
   {
    "duration": 1175,
    "start_time": "2024-06-14T23:58:55.722Z"
   },
   {
    "duration": 3287,
    "start_time": "2024-06-14T23:59:42.340Z"
   },
   {
    "duration": 3061,
    "start_time": "2024-06-15T00:00:02.654Z"
   },
   {
    "duration": 17,
    "start_time": "2024-06-15T00:00:27.442Z"
   },
   {
    "duration": 3292,
    "start_time": "2024-06-15T00:00:39.178Z"
   },
   {
    "duration": 3082,
    "start_time": "2024-06-15T00:00:52.897Z"
   },
   {
    "duration": 3106,
    "start_time": "2024-06-15T00:01:01.072Z"
   },
   {
    "duration": 2112,
    "start_time": "2024-06-15T00:01:48.760Z"
   },
   {
    "duration": 1914,
    "start_time": "2024-06-15T00:02:18.174Z"
   },
   {
    "duration": 1103,
    "start_time": "2024-06-15T00:03:13.669Z"
   },
   {
    "duration": 2296,
    "start_time": "2024-06-15T00:05:13.208Z"
   },
   {
    "duration": 2398,
    "start_time": "2024-06-15T00:05:31.214Z"
   },
   {
    "duration": 313,
    "start_time": "2024-06-15T00:09:10.996Z"
   },
   {
    "duration": 310,
    "start_time": "2024-06-15T00:10:40.803Z"
   },
   {
    "duration": 310,
    "start_time": "2024-06-15T00:10:58.035Z"
   },
   {
    "duration": 316,
    "start_time": "2024-06-15T00:11:32.740Z"
   },
   {
    "duration": 317,
    "start_time": "2024-06-15T00:12:24.521Z"
   },
   {
    "duration": 342,
    "start_time": "2024-06-15T00:12:42.408Z"
   },
   {
    "duration": 333,
    "start_time": "2024-06-15T00:13:51.313Z"
   },
   {
    "duration": 294,
    "start_time": "2024-06-15T00:14:01.409Z"
   },
   {
    "duration": 308,
    "start_time": "2024-06-15T00:14:57.329Z"
   },
   {
    "duration": 311,
    "start_time": "2024-06-15T00:15:09.505Z"
   },
   {
    "duration": 7,
    "start_time": "2024-06-15T00:15:58.257Z"
   },
   {
    "duration": 538,
    "start_time": "2024-06-15T00:16:07.854Z"
   },
   {
    "duration": 379,
    "start_time": "2024-06-15T00:16:16.488Z"
   },
   {
    "duration": 1236,
    "start_time": "2024-06-15T00:16:27.567Z"
   },
   {
    "duration": 703,
    "start_time": "2024-06-15T00:17:55.347Z"
   },
   {
    "duration": 1717,
    "start_time": "2024-06-15T00:17:56.053Z"
   },
   {
    "duration": 377,
    "start_time": "2024-06-15T00:17:57.773Z"
   },
   {
    "duration": 155,
    "start_time": "2024-06-15T00:17:58.153Z"
   },
   {
    "duration": 5745,
    "start_time": "2024-06-15T00:17:58.315Z"
   },
   {
    "duration": 30,
    "start_time": "2024-06-15T00:18:04.063Z"
   },
   {
    "duration": 31,
    "start_time": "2024-06-15T00:18:04.114Z"
   },
   {
    "duration": 243,
    "start_time": "2024-06-15T00:18:04.148Z"
   },
   {
    "duration": 49,
    "start_time": "2024-06-15T00:18:04.394Z"
   },
   {
    "duration": 196,
    "start_time": "2024-06-15T00:18:04.446Z"
   },
   {
    "duration": 152,
    "start_time": "2024-06-15T00:18:04.645Z"
   },
   {
    "duration": 72,
    "start_time": "2024-06-15T00:18:04.800Z"
   },
   {
    "duration": 38,
    "start_time": "2024-06-15T00:18:04.875Z"
   },
   {
    "duration": 5,
    "start_time": "2024-06-15T00:18:04.919Z"
   },
   {
    "duration": 112,
    "start_time": "2024-06-15T00:18:04.927Z"
   },
   {
    "duration": 24,
    "start_time": "2024-06-15T00:18:05.041Z"
   },
   {
    "duration": 9,
    "start_time": "2024-06-15T00:18:05.068Z"
   },
   {
    "duration": 33,
    "start_time": "2024-06-15T00:18:05.082Z"
   },
   {
    "duration": 9,
    "start_time": "2024-06-15T00:18:05.118Z"
   },
   {
    "duration": 5,
    "start_time": "2024-06-15T00:18:05.130Z"
   },
   {
    "duration": 1328,
    "start_time": "2024-06-15T00:18:05.139Z"
   },
   {
    "duration": 1579,
    "start_time": "2024-06-15T00:18:06.470Z"
   },
   {
    "duration": 12,
    "start_time": "2024-06-15T00:18:08.052Z"
   },
   {
    "duration": 14,
    "start_time": "2024-06-15T00:18:08.067Z"
   },
   {
    "duration": 14,
    "start_time": "2024-06-15T00:18:08.112Z"
   },
   {
    "duration": 8,
    "start_time": "2024-06-15T00:18:08.130Z"
   },
   {
    "duration": 14,
    "start_time": "2024-06-15T00:18:08.142Z"
   },
   {
    "duration": 53,
    "start_time": "2024-06-15T00:18:08.160Z"
   },
   {
    "duration": 25,
    "start_time": "2024-06-15T00:18:08.217Z"
   },
   {
    "duration": 28,
    "start_time": "2024-06-15T00:18:08.245Z"
   },
   {
    "duration": 86,
    "start_time": "2024-06-15T00:18:08.276Z"
   },
   {
    "duration": 11,
    "start_time": "2024-06-15T00:18:08.365Z"
   },
   {
    "duration": 38,
    "start_time": "2024-06-15T00:18:08.379Z"
   },
   {
    "duration": 164,
    "start_time": "2024-06-15T00:18:08.420Z"
   },
   {
    "duration": 26,
    "start_time": "2024-06-15T00:18:08.587Z"
   },
   {
    "duration": 12,
    "start_time": "2024-06-15T00:18:08.616Z"
   },
   {
    "duration": 581,
    "start_time": "2024-06-15T00:18:08.631Z"
   },
   {
    "duration": 413,
    "start_time": "2024-06-15T00:18:09.215Z"
   },
   {
    "duration": 551,
    "start_time": "2024-06-15T00:18:09.632Z"
   },
   {
    "duration": 559,
    "start_time": "2024-06-15T00:18:10.187Z"
   },
   {
    "duration": 543,
    "start_time": "2024-06-15T00:18:10.754Z"
   },
   {
    "duration": 7230,
    "start_time": "2024-06-15T00:18:11.301Z"
   },
   {
    "duration": 1124,
    "start_time": "2024-06-15T00:18:18.534Z"
   },
   {
    "duration": 256,
    "start_time": "2024-06-15T00:18:19.661Z"
   },
   {
    "duration": 40,
    "start_time": "2024-06-15T00:18:19.920Z"
   },
   {
    "duration": 575,
    "start_time": "2024-06-15T00:18:19.963Z"
   },
   {
    "duration": 2306,
    "start_time": "2024-06-15T00:18:20.541Z"
   },
   {
    "duration": 1621,
    "start_time": "2024-06-15T00:19:05.502Z"
   },
   {
    "duration": 320,
    "start_time": "2024-06-15T00:19:39.439Z"
   },
   {
    "duration": 1264,
    "start_time": "2024-06-15T00:19:46.897Z"
   },
   {
    "duration": 1228,
    "start_time": "2024-06-15T00:19:54.638Z"
   },
   {
    "duration": 287,
    "start_time": "2024-06-15T00:24:53.683Z"
   },
   {
    "duration": 312,
    "start_time": "2024-06-15T00:25:34.450Z"
   },
   {
    "duration": 11,
    "start_time": "2024-06-15T00:27:06.611Z"
   },
   {
    "duration": 74,
    "start_time": "2024-06-15T00:27:10.162Z"
   },
   {
    "duration": 140,
    "start_time": "2024-06-15T00:27:21.642Z"
   },
   {
    "duration": 61,
    "start_time": "2024-06-15T00:27:31.534Z"
   },
   {
    "duration": 138,
    "start_time": "2024-06-15T00:28:07.225Z"
   },
   {
    "duration": 140,
    "start_time": "2024-06-15T00:28:17.587Z"
   },
   {
    "duration": 90,
    "start_time": "2024-06-15T00:28:42.864Z"
   },
   {
    "duration": 87,
    "start_time": "2024-06-15T00:29:55.839Z"
   },
   {
    "duration": 9,
    "start_time": "2024-06-15T00:30:34.894Z"
   },
   {
    "duration": 66,
    "start_time": "2024-06-15T00:30:40.519Z"
   },
   {
    "duration": 65,
    "start_time": "2024-06-15T00:31:00.191Z"
   },
   {
    "duration": 66,
    "start_time": "2024-06-15T00:31:08.775Z"
   },
   {
    "duration": 96,
    "start_time": "2024-06-15T00:31:27.718Z"
   },
   {
    "duration": 138,
    "start_time": "2024-06-15T00:31:51.794Z"
   },
   {
    "duration": 71,
    "start_time": "2024-06-15T00:32:02.463Z"
   },
   {
    "duration": 92,
    "start_time": "2024-06-15T00:33:15.387Z"
   },
   {
    "duration": 1088,
    "start_time": "2024-06-15T00:33:42.410Z"
   },
   {
    "duration": 82,
    "start_time": "2024-06-15T00:33:50.898Z"
   },
   {
    "duration": 76,
    "start_time": "2024-06-15T00:34:09.943Z"
   },
   {
    "duration": 23,
    "start_time": "2024-06-15T00:35:27.754Z"
   },
   {
    "duration": 127,
    "start_time": "2024-06-15T00:35:52.890Z"
   },
   {
    "duration": 84,
    "start_time": "2024-06-15T00:36:04.006Z"
   },
   {
    "duration": 88,
    "start_time": "2024-06-15T00:38:28.999Z"
   },
   {
    "duration": 83,
    "start_time": "2024-06-15T00:38:46.954Z"
   },
   {
    "duration": 79,
    "start_time": "2024-06-15T00:38:52.215Z"
   },
   {
    "duration": 88,
    "start_time": "2024-06-15T00:40:41.581Z"
   }
  ],
  "colab": {
   "provenance": []
  },
  "kernelspec": {
   "display_name": "Python 3 (ipykernel)",
   "language": "python",
   "name": "python3"
  },
  "language_info": {
   "codemirror_mode": {
    "name": "ipython",
    "version": 3
   },
   "file_extension": ".py",
   "mimetype": "text/x-python",
   "name": "python",
   "nbconvert_exporter": "python",
   "pygments_lexer": "ipython3",
   "version": "3.9.19"
  },
  "toc": {
   "base_numbering": 1,
   "nav_menu": {},
   "number_sections": true,
   "sideBar": true,
   "skip_h1_title": true,
   "title_cell": "Table of Contents",
   "title_sidebar": "Contents",
   "toc_cell": false,
   "toc_position": {},
   "toc_section_display": true,
   "toc_window_display": false
  },
  "vscode": {
   "interpreter": {
    "hash": "01a7be9ec63e704a62cefc5fe7a4756944464ee731be31632bdf42a4cb4688cf"
   }
  }
 },
 "nbformat": 4,
 "nbformat_minor": 5
}
